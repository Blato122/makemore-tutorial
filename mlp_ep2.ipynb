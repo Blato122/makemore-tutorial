{
 "cells": [
  {
   "cell_type": "code",
   "execution_count": 23,
   "id": "165d1eed-5b6c-4507-94c5-34be9d262eef",
   "metadata": {},
   "outputs": [],
   "source": [
    "# word feature vector:\n",
    "# In natural language processing (NLP), a word embedding is a representation of a word. \n",
    "# The embedding is used in text analysis. Typically, the representation is a real-valued \n",
    "# vector that encodes the meaning of the word in such a way that words that are closer in \n",
    "# the vector space are expected to be similar in meaning. Word embeddings can be obtained \n",
    "# using language modeling and feature learning techniques, where words or phrases from the \n",
    "# vocabulary are mapped to vectors of real numbers. \n",
    "# https://en.wikipedia.org/wiki/Word_embedding\n",
    "# https://www.youtube.com/watch?v=gQddtTdmG_8\n",
    "# https://www.baeldung.com/cs/dimensionality-word-embeddings"
   ]
  },
  {
   "cell_type": "code",
   "execution_count": 24,
   "id": "788651f2-5e55-44e5-bdee-9f78989b4837",
   "metadata": {},
   "outputs": [],
   "source": [
    "# at first the words are initialized and spread out randomly\n",
    "# then, we're gonna tune embeddings of these words using backprop\n",
    "# by maximizing the log-likelihood"
   ]
  },
  {
   "cell_type": "code",
   "execution_count": 25,
   "id": "b6af455a-dc85-4aa5-905e-06a0ad30f697",
   "metadata": {},
   "outputs": [],
   "source": [
    "# first few things were already done in bigram_basic"
   ]
  },
  {
   "cell_type": "code",
   "execution_count": 26,
   "id": "4ca3a239-a110-4473-9c1b-75e80152a150",
   "metadata": {},
   "outputs": [],
   "source": [
    "import torch\n",
    "import torch.nn.functional as F\n",
    "import matplotlib.pyplot as plt"
   ]
  },
  {
   "cell_type": "code",
   "execution_count": 27,
   "id": "8856f237-9653-49b3-8329-98a51d6920e6",
   "metadata": {},
   "outputs": [],
   "source": [
    "# load ~32000 names from a file, one in each line\n",
    "with open(\"names.txt\", \"r\") as infile:\n",
    "    words = infile.read().splitlines() # ignores \\n"
   ]
  },
  {
   "cell_type": "code",
   "execution_count": 28,
   "id": "5d2db9ca-c7e9-4d77-ac85-c98ea6709f89",
   "metadata": {},
   "outputs": [
    {
     "data": {
      "text/plain": [
       "['emma', 'olivia', 'ava', 'isabella', 'sophia']"
      ]
     },
     "execution_count": 28,
     "metadata": {},
     "output_type": "execute_result"
    }
   ],
   "source": [
    "words[:5]"
   ]
  },
  {
   "cell_type": "code",
   "execution_count": 29,
   "id": "75a8d403-5f96-4ef1-8b7e-6ad5d7749782",
   "metadata": {},
   "outputs": [
    {
     "data": {
      "text/plain": [
       "32033"
      ]
     },
     "execution_count": 29,
     "metadata": {},
     "output_type": "execute_result"
    }
   ],
   "source": [
    "len(words)"
   ]
  },
  {
   "cell_type": "code",
   "execution_count": 30,
   "id": "20424b5b-e577-4bc6-9047-2c4f3ba559db",
   "metadata": {},
   "outputs": [],
   "source": [
    "chars = sorted(set(\"\".join(words)))"
   ]
  },
  {
   "cell_type": "code",
   "execution_count": 31,
   "id": "e7c6b76a-09cf-42e6-bd91-e8faa531992b",
   "metadata": {},
   "outputs": [],
   "source": [
    "ctoi = {c: i+1 for i, c in enumerate(chars)}\n",
    "ctoi[\".\"] = 0"
   ]
  },
  {
   "cell_type": "code",
   "execution_count": 32,
   "id": "2e090b6f-8591-47d1-8ff4-8a65abcc4375",
   "metadata": {},
   "outputs": [],
   "source": [
    "itoc = {i: c for c, i in ctoi.items()}"
   ]
  },
  {
   "cell_type": "code",
   "execution_count": 33,
   "id": "b4db3b7f-a99e-4305-9644-cd6cb9b4c0c6",
   "metadata": {},
   "outputs": [],
   "source": [
    "# now the new stuff"
   ]
  },
  {
   "cell_type": "code",
   "execution_count": 34,
   "id": "fb9a3625-e671-448c-98d7-57c537e1608a",
   "metadata": {},
   "outputs": [],
   "source": [
    "# building a neural network that takes three characters (a context)\n",
    "# each character has an embedding in a lookup table\n",
    "# the nn has 27 outputs corresponding to a letter that we expect to get from a given context\n",
    "# we will check that using our Y tensor"
   ]
  },
  {
   "cell_type": "code",
   "execution_count": 35,
   "id": "4b6c8aaa-32d3-4056-b145-b06a80248410",
   "metadata": {},
   "outputs": [
    {
     "name": "stdout",
     "output_type": "stream",
     "text": [
      "torch.Size([182625, 4]) torch.Size([182625])\n",
      "torch.Size([22655, 4]) torch.Size([22655])\n",
      "torch.Size([22866, 4]) torch.Size([22866])\n"
     ]
    }
   ],
   "source": [
    "# building the dataset (with contexts)\n",
    "\n",
    "# training split -> ~80% -> optimize parameters of the model using gradient descent\n",
    "# dev/validation split -> ~10% -> hyperparameter tuning\n",
    "# test split -> ~10% -> evaluate model's final performance\n",
    "\n",
    "# updated so that we can also create dev/test splits\n",
    "\n",
    "block_size = 4 # context length - how many chars to take into account to predict the next one?\n",
    "\n",
    "def build_dataset(words):\n",
    "    X, Y = [], [] # X - input to the neural net, Y - expected labels for each example inside X\n",
    "    \n",
    "    for w in words:\n",
    "        # print(w)\n",
    "        context = [0] * block_size # ...\n",
    "        for c in w + \".\":\n",
    "            idx = ctoi[c]\n",
    "            X.append(context)\n",
    "            Y.append(idx)\n",
    "            # print(\"\".join(itoc[i] for i in context), \"--->\", itoc[idx])\n",
    "            context = context[1:] + [idx]\n",
    "    \n",
    "    X = torch.tensor(X)\n",
    "    Y = torch.tensor(Y)\n",
    "    print(X.shape, Y.shape)\n",
    "    return X, Y\n",
    "\n",
    "import random\n",
    "random.seed(42)\n",
    "random.shuffle(words)\n",
    "n1 = int(0.8 * len(words))\n",
    "n2 = int(0.9 * len(words))\n",
    "\n",
    "Xtr, Ytr = build_dataset(words[:n1])\n",
    "Xdev, Ydev = build_dataset(words[n1:n2])\n",
    "Xtest, Ytest = build_dataset(words[n2:])"
   ]
  },
  {
   "cell_type": "code",
   "execution_count": 36,
   "id": "fd758e55-0a67-43b0-a9b4-ed8bbde91021",
   "metadata": {},
   "outputs": [
    {
     "ename": "NameError",
     "evalue": "name 'X' is not defined",
     "output_type": "error",
     "traceback": [
      "\u001b[0;31m---------------------------------------------------------------------------\u001b[0m",
      "\u001b[0;31mNameError\u001b[0m                                 Traceback (most recent call last)",
      "Cell \u001b[0;32mIn[36], line 1\u001b[0m\n\u001b[0;32m----> 1\u001b[0m \u001b[43mX\u001b[49m\u001b[38;5;241m.\u001b[39mshape, X\u001b[38;5;241m.\u001b[39mdtype, Y\u001b[38;5;241m.\u001b[39mshape, Y\u001b[38;5;241m.\u001b[39mdtype\n",
      "\u001b[0;31mNameError\u001b[0m: name 'X' is not defined"
     ]
    }
   ],
   "source": [
    "X.shape, X.dtype, Y.shape, Y.dtype"
   ]
  },
  {
   "cell_type": "code",
   "execution_count": null,
   "id": "564014d9-157c-4324-ab3a-6dad58ab55ec",
   "metadata": {},
   "outputs": [],
   "source": [
    "# embedding look-up table\n",
    "# let's start with just 2 dimensions at first\n",
    "C = torch.randn((27, 2)) # 27 because we need a 2 dim embedding for each letter"
   ]
  },
  {
   "cell_type": "code",
   "execution_count": null,
   "id": "84dbba26-2606-4204-9e86-2b1230fe23c1",
   "metadata": {},
   "outputs": [],
   "source": [
    "# some experiments to get a grasp of how that indexing works"
   ]
  },
  {
   "cell_type": "code",
   "execution_count": null,
   "id": "72064f2f-657c-43a3-be2b-2ba1f4d8b47b",
   "metadata": {},
   "outputs": [],
   "source": [
    "C[:3]"
   ]
  },
  {
   "cell_type": "code",
   "execution_count": null,
   "id": "185dd1f8-3e0d-4713-ac48-5970f604898a",
   "metadata": {},
   "outputs": [],
   "source": [
    "C[0]"
   ]
  },
  {
   "cell_type": "code",
   "execution_count": null,
   "id": "c9153d09-01aa-40e5-86fd-eb557c23c599",
   "metadata": {},
   "outputs": [],
   "source": [
    "C[0].shape"
   ]
  },
  {
   "cell_type": "code",
   "execution_count": null,
   "id": "a6da1fad-3b27-4e32-bb41-9ef19dda9eb9",
   "metadata": {},
   "outputs": [],
   "source": [
    "C[[0, 1, 2]] # we can index with lists as well!"
   ]
  },
  {
   "cell_type": "code",
   "execution_count": null,
   "id": "4dadb0b6-2763-4718-b64a-6f5b72f9a13c",
   "metadata": {},
   "outputs": [],
   "source": [
    "C[[0, 1, 2]].shape"
   ]
  },
  {
   "cell_type": "code",
   "execution_count": null,
   "id": "39e49ed1-fbae-465d-9031-e524c9272922",
   "metadata": {},
   "outputs": [],
   "source": [
    "C[[torch.tensor([0, 1, 2])]] # same with tensors"
   ]
  },
  {
   "cell_type": "code",
   "execution_count": null,
   "id": "bd1f16ea-8f4c-4f78-ab2d-f8ab37922420",
   "metadata": {},
   "outputs": [],
   "source": [
    "C[torch.tensor([[0, 1, 2], [1, 1, 1]])] # I finally get what that does now!"
   ]
  },
  {
   "cell_type": "code",
   "execution_count": null,
   "id": "db1a7d4f-7d32-4d66-90cd-a23373be6433",
   "metadata": {},
   "outputs": [],
   "source": [
    "C[[torch.tensor([[0, 1, 2], [1, 1, 1]])]].shape\n",
    "# we have two contexts, three letters each\n",
    "# C is a lookup table that has 2 dim embeddings for each letter\n",
    "# C[0] simply gives an embedding of a single letter -> so shape 2\n",
    "# C[[0, 1, 2]] gives embedding of a context (3 letters) -> shape 3, 2, an embedding for each letter\n",
    "# C[ [[0, 1, 2], [1, 1, 1]] ] gives embedding for these 2 contexts -> shape 2 (new!), 3, 2"
   ]
  },
  {
   "cell_type": "code",
   "execution_count": null,
   "id": "bf3c0397-f285-45bf-aa9a-9afca0bdde56",
   "metadata": {},
   "outputs": [],
   "source": [
    "X[:1]"
   ]
  },
  {
   "cell_type": "code",
   "execution_count": null,
   "id": "fc35982d-c79d-4973-8798-883e3d83a40a",
   "metadata": {},
   "outputs": [],
   "source": [
    "C[X[:1]]"
   ]
  },
  {
   "cell_type": "code",
   "execution_count": null,
   "id": "2dd8ed84-8290-473d-b16f-4878ea07bf8c",
   "metadata": {},
   "outputs": [],
   "source": [
    "X[:2]"
   ]
  },
  {
   "cell_type": "code",
   "execution_count": null,
   "id": "98bc067c-e2f1-4dc1-8eb0-2251fe8ad88a",
   "metadata": {},
   "outputs": [],
   "source": [
    "C[X[:2]]"
   ]
  },
  {
   "cell_type": "code",
   "execution_count": null,
   "id": "dc0213d3-f862-43b5-877d-b8f9cef41f98",
   "metadata": {},
   "outputs": [],
   "source": [
    "C[X[:2]].shape"
   ]
  },
  {
   "cell_type": "code",
   "execution_count": null,
   "id": "0c358345-0e91-4f4f-9655-0d381b3b3cee",
   "metadata": {},
   "outputs": [],
   "source": [
    "# end of experiments"
   ]
  },
  {
   "cell_type": "code",
   "execution_count": null,
   "id": "3440c33f-4cdf-4982-9588-7129d1cf0f2a",
   "metadata": {},
   "outputs": [],
   "source": [
    "# so that's why C[X] will contain embeddings for all letters in all contexts -> shape 32, 3, 2\n",
    "# 32 contexts, 3 letters each and each letter has a 2 dim embedding"
   ]
  },
  {
   "cell_type": "code",
   "execution_count": null,
   "id": "898b5226-b303-465c-ad55-980537576737",
   "metadata": {},
   "outputs": [],
   "source": [
    "emb = C[X]\n",
    "emb.shape"
   ]
  },
  {
   "cell_type": "code",
   "execution_count": null,
   "id": "136434bb-a4ec-42a0-a6b7-c36d67e081be",
   "metadata": {},
   "outputs": [],
   "source": [
    "# tests"
   ]
  },
  {
   "cell_type": "code",
   "execution_count": null,
   "id": "c8092f6b-2a0d-4216-86fd-49528decee89",
   "metadata": {},
   "outputs": [],
   "source": [
    "X[13, 2] # 13th context, 2nd letter"
   ]
  },
  {
   "cell_type": "code",
   "execution_count": null,
   "id": "14362d62-6a01-40bb-bb15-058cbab48d48",
   "metadata": {},
   "outputs": [],
   "source": [
    "emb[13, 2] # embedding for that 13th context, 2nd letter"
   ]
  },
  {
   "cell_type": "code",
   "execution_count": null,
   "id": "86fc88c4-f603-4752-9979-111a040c146d",
   "metadata": {},
   "outputs": [],
   "source": [
    "C[1] # embedding for letter with idx == 1, manually checked"
   ]
  },
  {
   "cell_type": "code",
   "execution_count": null,
   "id": "bc4496a6-8f47-4cbf-ad03-04170d44c857",
   "metadata": {},
   "outputs": [],
   "source": [
    "# end of tests"
   ]
  },
  {
   "cell_type": "code",
   "execution_count": null,
   "id": "1e7c54be-d813-4fe8-b648-87fe09210423",
   "metadata": {},
   "outputs": [],
   "source": [
    "# HIDDEN LAYER\n",
    "# initialize weights randomly\n",
    "W1 = torch.randn((3 * 2, 100)) # 3 * 2 cos 3 contexts times 2 dim embeddings give 6 numbers\n",
    "# 100 is just a number of neurons in the hidden layer, might be different than 100 as well\n",
    "b1 = torch.randn(100)"
   ]
  },
  {
   "cell_type": "code",
   "execution_count": null,
   "id": "abb15668-0b3a-48f1-9c4b-a00fbd042d59",
   "metadata": {},
   "outputs": [],
   "source": [
    "# we can't just do emb @ W1 + b1 because emb is [32, 2, 3] and W1 is [6, 100]\n",
    "# that's why we need to flatten the emb matrix to [32, 6]\n",
    "h = torch.tanh(emb.view(-1, 6) @ W1 + b1) # 100 activations for all 32 context embeddings ! ! !\n",
    "h.shape\n",
    "# + b1 requires broadcasting!\n",
    "    # 32, 100\n",
    "    #  1, 100 (1 - \"fake\" dimension)\n",
    "# view is the most optimal, doesn't create anything additional in the memory\n",
    "# check: tensor -> storage"
   ]
  },
  {
   "cell_type": "code",
   "execution_count": null,
   "id": "b5d6001f-00ca-40b3-a2d9-6caf5c8c838a",
   "metadata": {},
   "outputs": [],
   "source": [
    "# OUTPUT LAYER\n",
    "W2 = torch.randn((100, 27)) # 100 input activations from prev layer, 27 letters as an output\n",
    "b2 = torch.randn(27)"
   ]
  },
  {
   "cell_type": "code",
   "execution_count": null,
   "id": "7b93032a-082a-4d29-87dd-076d4b00f62e",
   "metadata": {},
   "outputs": [],
   "source": [
    "logits = h @ W2 + b2\n",
    "logits.shape # good!"
   ]
  },
  {
   "cell_type": "code",
   "execution_count": null,
   "id": "1a4a9874-f9ac-4252-a22f-dd1a6d2c9d2d",
   "metadata": {},
   "outputs": [],
   "source": [
    "counts = logits.exp()\n",
    "counts.shape"
   ]
  },
  {
   "cell_type": "code",
   "execution_count": null,
   "id": "bff7ff57-1265-4a5f-829b-e8ad4f56f86a",
   "metadata": {},
   "outputs": [],
   "source": [
    "# broadcasting, 1 says we want sums of rows (a column vector, 27x1), every prob row gets divided by the row sum\n",
    "prob = counts / counts.sum(1, keepdim=True)\n",
    "prob.shape # 27 letter probs for all 32 context embeddings"
   ]
  },
  {
   "cell_type": "code",
   "execution_count": null,
   "id": "4029a566-d4ae-4d4d-8a2b-4a4ddf001e82",
   "metadata": {},
   "outputs": [],
   "source": [
    "prob[torch.arange(32), Y] # get all rows of prob and a probability of the correct letter (from Y)"
   ]
  },
  {
   "cell_type": "code",
   "execution_count": null,
   "id": "b69a4d22-4857-423a-927f-c9d9a8f007a4",
   "metadata": {},
   "outputs": [],
   "source": [
    " nll_loss = -prob[torch.arange(32), Y].log().mean()"
   ]
  },
  {
   "cell_type": "code",
   "execution_count": null,
   "id": "2c72bda0-0056-4fbe-8c2d-5594ec97c124",
   "metadata": {},
   "outputs": [],
   "source": [
    "nll_loss"
   ]
  },
  {
   "cell_type": "code",
   "execution_count": null,
   "id": "328c86eb-1da0-469d-96bc-5d12a5658311",
   "metadata": {},
   "outputs": [],
   "source": [
    "# NOW EVERYTHING ORGANIZED:"
   ]
  },
  {
   "cell_type": "code",
   "execution_count": null,
   "id": "40073bc0-a62a-4615-949b-397cdac0ca54",
   "metadata": {},
   "outputs": [],
   "source": [
    "Xtr.shape, Ytr.shape # the dataset"
   ]
  },
  {
   "cell_type": "code",
   "execution_count": null,
   "id": "bfe26fa0-e224-4d36-87a8-fc2ba6ce7c21",
   "metadata": {},
   "outputs": [],
   "source": [
    "hidden_n = 200\n",
    "emb_dim = 8\n",
    "\n",
    "gen = torch.Generator().manual_seed(2147483647)\n",
    "C = torch.randn((C.shape[0], emb_dim), generator=gen)\n",
    "W1 = torch.randn((emb_dim * block_size, hidden_n), generator=gen)\n",
    "b1 = torch.randn(hidden_n, generator=gen)\n",
    "W2 = torch.randn((hidden_n, C.shape[0]), generator=gen)\n",
    "b2 = torch.randn(C.shape[0], generator=gen)\n",
    "parameters = [C, W1, b1, W2, b2]"
   ]
  },
  {
   "cell_type": "code",
   "execution_count": null,
   "id": "17b8798e-8199-46a7-9031-3276e153832b",
   "metadata": {},
   "outputs": [],
   "source": [
    "sum(p.numel() for p in parameters) # numel <=> nelement"
   ]
  },
  {
   "cell_type": "code",
   "execution_count": null,
   "id": "5537c79f-389b-4766-98d8-34b8bc2b6c8c",
   "metadata": {},
   "outputs": [],
   "source": [
    "for p in parameters:\n",
    "    p.requires_grad = True"
   ]
  },
  {
   "cell_type": "code",
   "execution_count": null,
   "id": "fe2a8f84-91e1-4d1d-a13f-c351827b8eb4",
   "metadata": {},
   "outputs": [],
   "source": [
    "epochs = 200_000\n",
    "minibatch_size = 500\n",
    "\n",
    "loss_i = []\n",
    "\n",
    "for i in range(epochs):\n",
    "    # create a minibatch\n",
    "    idx = torch.randint(0, Xtr.shape[0], (minibatch_size,)) # get 32 random integers\n",
    "    # between 0 and 228146 (number of contexts)\n",
    "    # that will be our minibatch (of size 32)\n",
    "    \n",
    "    # forward pass\n",
    "    emb = C[Xtr[idx]]\n",
    "    h = torch.tanh(emb.view(-1, emb_dim * block_size) @ W1 + b1) # hidden layer, (32, 100)\n",
    "    logits = h @ W2 + b2 # (32, 27)\n",
    "    # counts = logits.exp()\n",
    "    # prob = counts / counts.sum(1, keepdim=True)\n",
    "    # nll_loss = -prob[torch.arange(32), Y].log().mean()\n",
    "    # nll_loss\n",
    "    loss = F.cross_entropy(logits, Ytr[idx]) # more efficient, prevents inf and nan for big positive logits\n",
    "    loss_i.append(loss.item())\n",
    "    \n",
    "    # backward pass\n",
    "    for p in parameters:\n",
    "        p.grad = None\n",
    "    loss.backward() # it works but find out why later\n",
    "    \n",
    "    # update\n",
    "    lr = 0.1 if i < epochs / 2 else 0.01\n",
    "    for p in parameters:\n",
    "        p.data += -lr * p.grad\n",
    "\n",
    "print(loss.item())\n",
    "# impossible to reach loss 0 because: ... -> e but also ... -> a, etc."
   ]
  },
  {
   "cell_type": "code",
   "execution_count": null,
   "id": "74f2986a-980b-4cae-8261-d081e646d284",
   "metadata": {},
   "outputs": [],
   "source": [
    "plt.plot(range(epochs)[30000:], loss_i[30000:])"
   ]
  },
  {
   "cell_type": "code",
   "execution_count": null,
   "id": "4c927f4a-89ca-4516-a4e2-c41e018df3e6",
   "metadata": {},
   "outputs": [],
   "source": [
    "# find out the loss for a whole (TR!) data set, not just a minibatch\n",
    "emb = C[Xtr]\n",
    "h = torch.tanh(emb.view(-1, emb_dim * block_size) @ W1 + b1) # hidden layer, (32, 100)\n",
    "logits = h @ W2 + b2 # (32, 27)\n",
    "loss = F.cross_entropy(logits, Ytr) # more efficient, prevents inf and nan for big positive logits\n",
    "print(loss.item())"
   ]
  },
  {
   "cell_type": "code",
   "execution_count": null,
   "id": "400071fc-9a30-411b-ad68-6037af1c4813",
   "metadata": {},
   "outputs": [],
   "source": [
    "# tr loss ~= dev loss -> not overfitting (actually maybe underfitting!)\n",
    "# <=> nn not able to memorize the values\n",
    "# might mean that the network is too small (not enough parameters)\n",
    "\n",
    "# find out the loss for a whole (DEV!) data set\n",
    "emb = C[Xdev]\n",
    "h = torch.tanh(emb.view(-1, emb_dim * block_size) @ W1 + b1) # hidden layer, (32, 100)\n",
    "logits = h @ W2 + b2 # (32, 27)\n",
    "loss = F.cross_entropy(logits, Ydev) # more efficient, prevents inf and nan for big positive logits\n",
    "print(loss.item())"
   ]
  },
  {
   "cell_type": "code",
   "execution_count": null,
   "id": "1a552bf6-de07-48a5-a24e-e281e39f58cf",
   "metadata": {},
   "outputs": [],
   "source": [
    "# SAMPLING!!!\n",
    "gen = torch.Generator().manual_seed(2147483647 + 19)\n",
    "\n",
    "for _ in range(20):\n",
    "    name = []\n",
    "    context = [0] * block_size # initialize with all ...\n",
    "    while True: # create one name\n",
    "        emb = C[torch.tensor([context])] # like C[X] but this time only 1 context\n",
    "        # block_size x emb_dim\n",
    "        h = torch.tanh(emb.view(1, -1) @ W1 + b1)\n",
    "        logits = h @ W2 + b2\n",
    "        probs = F.softmax(logits, dim=1)\n",
    "        idx = torch.multinomial(probs, num_samples=1, generator=gen).item()\n",
    "        context = context[1:] + [idx]\n",
    "        name.append(idx)\n",
    "        if idx == 0:\n",
    "            break\n",
    "    print(\"\".join(itoc[i] for i in name))\n",
    "        "
   ]
  },
  {
   "cell_type": "code",
   "execution_count": null,
   "id": "d38f1c2a-263d-43cb-95ca-67719ab8f395",
   "metadata": {},
   "outputs": [],
   "source": [
    "C[X].shape, X.shape"
   ]
  },
  {
   "cell_type": "code",
   "execution_count": null,
   "id": "3b034d4f-1987-49a2-bb76-412410307528",
   "metadata": {},
   "outputs": [],
   "source": [
    "C[X[0]] # idx (here 0) gets 1 context of 3 letters (2 * 3 = 6 embeddings)"
   ]
  },
  {
   "cell_type": "code",
   "execution_count": null,
   "id": "f140bad2-6efa-4ee1-a713-c2bcfcdf72df",
   "metadata": {},
   "outputs": [],
   "source": [
    "from torchviz import make_dot\n",
    "from IPython.display import display\n",
    "graph = make_dot(loss)\n",
    "display(graph) # W O W ! ! ! ! ! ! !"
   ]
  },
  {
   "cell_type": "code",
   "execution_count": null,
   "id": "93c16dd9-21d4-435f-9d85-89c57b4057ef",
   "metadata": {},
   "outputs": [],
   "source": [
    "# Save the graph as a PDF file\n",
    "graph.render(\"computation_graph\")"
   ]
  },
  {
   "cell_type": "code",
   "execution_count": null,
   "id": "b05b4902-5344-46d9-98b9-c88c2115ada3",
   "metadata": {},
   "outputs": [],
   "source": [
    "print(loss.grad_fn)"
   ]
  },
  {
   "cell_type": "code",
   "execution_count": null,
   "id": "3b8a61e8-85ad-4205-8757-233932c5011b",
   "metadata": {},
   "outputs": [],
   "source": [
    "print(loss.grad_fn.next_functions)"
   ]
  },
  {
   "cell_type": "code",
   "execution_count": null,
   "id": "67d515df-411f-4c1f-be2c-eaaa5ec8c325",
   "metadata": {},
   "outputs": [],
   "source": [
    "print(loss.grad_fn.next_functions[0][0].next_functions)"
   ]
  },
  {
   "cell_type": "code",
   "execution_count": null,
   "id": "2037e307-882b-40e3-9b00-08cdef06e7fe",
   "metadata": {},
   "outputs": [],
   "source": [
    "print(loss.grad_fn.next_functions[0][0].next_functions[0][0].next_functions)\n",
    "# etc. -> that's how we could build such graph!"
   ]
  },
  {
   "cell_type": "code",
   "execution_count": null,
   "id": "13089527-d21a-42ea-9cd8-28f4a7a26041",
   "metadata": {},
   "outputs": [],
   "source": []
  }
 ],
 "metadata": {
  "kernelspec": {
   "display_name": "Python 3 (ipykernel)",
   "language": "python",
   "name": "python3"
  },
  "language_info": {
   "codemirror_mode": {
    "name": "ipython",
    "version": 3
   },
   "file_extension": ".py",
   "mimetype": "text/x-python",
   "name": "python",
   "nbconvert_exporter": "python",
   "pygments_lexer": "ipython3",
   "version": "3.10.12"
  }
 },
 "nbformat": 4,
 "nbformat_minor": 5
}
