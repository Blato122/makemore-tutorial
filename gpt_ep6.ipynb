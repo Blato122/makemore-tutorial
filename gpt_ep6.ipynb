{
 "cells": [
  {
   "cell_type": "code",
   "execution_count": 68,
   "id": "2a42fb84-ce52-464e-9c56-be861f417f84",
   "metadata": {},
   "outputs": [],
   "source": [
    "import random\n",
    "import torch\n",
    "import torch.nn as nn\n",
    "import torch.nn.functional as F\n",
    "\n",
    "torch.manual_seed(1337);"
   ]
  },
  {
   "cell_type": "code",
   "execution_count": 69,
   "id": "9c5eba81-7e70-4799-a3cf-eff7bed7f714",
   "metadata": {},
   "outputs": [
    {
     "name": "stdout",
     "output_type": "stream",
     "text": [
      "--2023-11-21 15:38:33--  https://raw.githubusercontent.com/karpathy/char-rnn/master/data/tinyshakespeare/input.txt\n",
      "Resolving raw.githubusercontent.com (raw.githubusercontent.com)... 185.199.108.133, 185.199.109.133, 185.199.111.133, ...\n",
      "Connecting to raw.githubusercontent.com (raw.githubusercontent.com)|185.199.108.133|:443... connected.\n",
      "HTTP request sent, awaiting response... 200 OK\n",
      "Length: 1115394 (1,1M) [text/plain]\n",
      "Saving to: 'input.txt.1'\n",
      "\n",
      "input.txt.1         100%[===================>]   1,06M  1,02MB/s    in 1,0s    \n",
      "\n",
      "2023-11-21 15:38:35 (1,02 MB/s) - 'input.txt.1' saved [1115394/1115394]\n",
      "\n"
     ]
    }
   ],
   "source": [
    "!wget https://raw.githubusercontent.com/karpathy/char-rnn/master/data/tinyshakespeare/input.txt"
   ]
  },
  {
   "cell_type": "code",
   "execution_count": 70,
   "id": "5d181601-c9e0-477e-b5f5-902926f873b7",
   "metadata": {},
   "outputs": [],
   "source": [
    "with open(\"input.txt\", \"r\", encoding=\"utf-8\") as f:\n",
    "    text = f.read()"
   ]
  },
  {
   "cell_type": "code",
   "execution_count": 71,
   "id": "f30b2b92-9d40-4f25-8067-8073fceea6cd",
   "metadata": {},
   "outputs": [
    {
     "data": {
      "text/plain": [
       "1115394"
      ]
     },
     "execution_count": 71,
     "metadata": {},
     "output_type": "execute_result"
    }
   ],
   "source": [
    "len(text) # number of chars in the text"
   ]
  },
  {
   "cell_type": "code",
   "execution_count": 72,
   "id": "75e4db3a-330b-42ab-93c7-fae30aa6f987",
   "metadata": {},
   "outputs": [
    {
     "name": "stdout",
     "output_type": "stream",
     "text": [
      "First Citizen:\n",
      "Before we proceed any further, hear me speak.\n",
      "\n",
      "All:\n",
      "Speak, speak.\n",
      "\n",
      "First Citizen:\n",
      "You\n"
     ]
    }
   ],
   "source": [
    "print(text[:100])"
   ]
  },
  {
   "cell_type": "code",
   "execution_count": 73,
   "id": "0653c8e6-de2e-4a87-9e38-99771d62dacf",
   "metadata": {},
   "outputs": [
    {
     "name": "stdout",
     "output_type": "stream",
     "text": [
      "\n",
      " !$&',-.3:;?ABCDEFGHIJKLMNOPQRSTUVWXYZabcdefghijklmnopqrstuvwxyz\n",
      "65\n"
     ]
    }
   ],
   "source": [
    "# create a vocab (all the unique chars in the text)\n",
    "chars = sorted(set(text)) # list\n",
    "vocab_size = len(chars)\n",
    "print(\"\".join(chars))\n",
    "print(vocab_size)"
   ]
  },
  {
   "cell_type": "code",
   "execution_count": 74,
   "id": "21d40562-5663-4e65-afe8-b3768fc48059",
   "metadata": {},
   "outputs": [
    {
     "name": "stdout",
     "output_type": "stream",
     "text": [
      "[57, 47, 43, 51, 39]\n",
      "siema\n"
     ]
    }
   ],
   "source": [
    "stoi = {s: i for i, s in enumerate(chars)}\n",
    "itos = {i: s for i, s in enumerate(chars)}\n",
    "encode = lambda x: [stoi[c] for c in x] # encoder: take a string, output a list of ints\n",
    "decode = lambda s: \"\".join([itos[c] for c in s]) # decoder: take a list of ints, output a string\n",
    "\n",
    "print(encode(\"siema\"))\n",
    "print(decode(encode(\"siema\")))"
   ]
  },
  {
   "cell_type": "code",
   "execution_count": 75,
   "id": "b4bdf71b-b5b0-48e3-84ad-02768edee0a7",
   "metadata": {},
   "outputs": [
    {
     "name": "stdout",
     "output_type": "stream",
     "text": [
      "torch.Size([1115394]) torch.int64\n",
      "tensor([18, 47, 56, 57, 58,  1, 15, 47, 58, 47, 64, 43, 52, 10,  0, 14, 43, 44,\n",
      "        53, 56, 43,  1, 61, 43,  1, 54, 56, 53, 41, 43, 43, 42,  1, 39, 52, 63,\n",
      "         1, 44, 59, 56, 58, 46, 43, 56,  6,  1, 46, 43, 39, 56,  1, 51, 43,  1,\n",
      "        57, 54, 43, 39, 49,  8,  0,  0, 13, 50, 50, 10,  0, 31, 54, 43, 39, 49,\n",
      "         6,  1, 57, 54, 43, 39, 49,  8,  0,  0, 18, 47, 56, 57, 58,  1, 15, 47,\n",
      "        58, 47, 64, 43, 52, 10,  0, 37, 53, 59])\n"
     ]
    }
   ],
   "source": [
    "# let's now encode our text and store it in a vector\n",
    "data = torch.tensor(encode(text), dtype=torch.long)\n",
    "print(data.shape, data.dtype)\n",
    "print(data[:100])"
   ]
  },
  {
   "cell_type": "code",
   "execution_count": 76,
   "id": "89a994a7-04f2-41d5-af7b-54f4408b1b81",
   "metadata": {},
   "outputs": [
    {
     "name": "stdout",
     "output_type": "stream",
     "text": [
      "torch.Size([1003854]) torch.Size([111540])\n"
     ]
    }
   ],
   "source": [
    "# train/val split\n",
    "train_n = int(0.9*len(text))\n",
    "train_data = data[:train_n]\n",
    "val_data = data[train_n:]\n",
    "print(train_data.shape, val_data.shape)"
   ]
  },
  {
   "cell_type": "code",
   "execution_count": 77,
   "id": "1ef33c05-b900-48d9-ae6c-1a457fff3320",
   "metadata": {},
   "outputs": [],
   "source": [
    "# divide into smaller CHUNKS (less computationally intensive than feeding everything at once)\n",
    "context_len = 8 # block_size"
   ]
  },
  {
   "cell_type": "code",
   "execution_count": 78,
   "id": "cfd64810-d576-41f7-951e-81c46958747d",
   "metadata": {},
   "outputs": [
    {
     "name": "stdout",
     "output_type": "stream",
     "text": [
      "when input is tensor([18]), the target is: 47\n",
      "when input is tensor([18, 47]), the target is: 56\n",
      "when input is tensor([18, 47, 56]), the target is: 57\n",
      "when input is tensor([18, 47, 56, 57]), the target is: 58\n",
      "when input is tensor([18, 47, 56, 57, 58]), the target is: 1\n",
      "when input is tensor([18, 47, 56, 57, 58,  1]), the target is: 15\n",
      "when input is tensor([18, 47, 56, 57, 58,  1, 15]), the target is: 47\n",
      "when input is tensor([18, 47, 56, 57, 58,  1, 15, 47]), the target is: 58\n"
     ]
    }
   ],
   "source": [
    "x = train_data[:context_len]\n",
    "y = train_data[1:context_len+1]\n",
    "\n",
    "for i in range(context_len):\n",
    "    context = x[:i+1]\n",
    "    target = y[i]\n",
    "    print(f\"when input is {context}, the target is: {target}\")"
   ]
  },
  {
   "cell_type": "code",
   "execution_count": 79,
   "id": "0b47f7ae-2943-45a1-9a1c-4d6401c55bbf",
   "metadata": {},
   "outputs": [],
   "source": [
    "# divide into batches so that many chunks can be passed to a transformer at once (for efficiency)\n",
    "batch_size = 4 # how many independent examples will we process in parallel?\n",
    "\n",
    "def get_batch(split):\n",
    "    data = train_data if split == \"train\" else val_data\n",
    "    idx = torch.randint(len(data) - context_len, (batch_size,)) # batch_size numbers between 0 and len(data) - context_len\n",
    "    x = torch.stack([data[i:i+context_len] for i in idx])\n",
    "    y = torch.stack([data[i+1:i+context_len+1] for i in idx])\n",
    "    return x, y"
   ]
  },
  {
   "cell_type": "code",
   "execution_count": 80,
   "id": "6f9362b7-420f-4752-a5f5-c46880394030",
   "metadata": {},
   "outputs": [
    {
     "name": "stdout",
     "output_type": "stream",
     "text": [
      "inputs:\n",
      "torch.Size([4, 8])\n",
      "tensor([[24, 43, 58,  5, 57,  1, 46, 43],\n",
      "        [44, 53, 56,  1, 58, 46, 39, 58],\n",
      "        [52, 58,  1, 58, 46, 39, 58,  1],\n",
      "        [25, 17, 27, 10,  0, 21,  1, 54]])\n",
      "targets:\n",
      "torch.Size([4, 8])\n",
      "tensor([[43, 58,  5, 57,  1, 46, 43, 39],\n",
      "        [53, 56,  1, 58, 46, 39, 58,  1],\n",
      "        [58,  1, 58, 46, 39, 58,  1, 46],\n",
      "        [17, 27, 10,  0, 21,  1, 54, 39]])\n",
      "----\n",
      "when input is [24] the target: 43\n",
      "when input is [24, 43] the target: 58\n",
      "when input is [24, 43, 58] the target: 5\n",
      "when input is [24, 43, 58, 5] the target: 57\n",
      "when input is [24, 43, 58, 5, 57] the target: 1\n",
      "when input is [24, 43, 58, 5, 57, 1] the target: 46\n",
      "when input is [24, 43, 58, 5, 57, 1, 46] the target: 43\n",
      "when input is [24, 43, 58, 5, 57, 1, 46, 43] the target: 39\n",
      "when input is [44] the target: 53\n",
      "when input is [44, 53] the target: 56\n",
      "when input is [44, 53, 56] the target: 1\n",
      "when input is [44, 53, 56, 1] the target: 58\n",
      "when input is [44, 53, 56, 1, 58] the target: 46\n",
      "when input is [44, 53, 56, 1, 58, 46] the target: 39\n",
      "when input is [44, 53, 56, 1, 58, 46, 39] the target: 58\n",
      "when input is [44, 53, 56, 1, 58, 46, 39, 58] the target: 1\n",
      "when input is [52] the target: 58\n",
      "when input is [52, 58] the target: 1\n",
      "when input is [52, 58, 1] the target: 58\n",
      "when input is [52, 58, 1, 58] the target: 46\n",
      "when input is [52, 58, 1, 58, 46] the target: 39\n",
      "when input is [52, 58, 1, 58, 46, 39] the target: 58\n",
      "when input is [52, 58, 1, 58, 46, 39, 58] the target: 1\n",
      "when input is [52, 58, 1, 58, 46, 39, 58, 1] the target: 46\n",
      "when input is [25] the target: 17\n",
      "when input is [25, 17] the target: 27\n",
      "when input is [25, 17, 27] the target: 10\n",
      "when input is [25, 17, 27, 10] the target: 0\n",
      "when input is [25, 17, 27, 10, 0] the target: 21\n",
      "when input is [25, 17, 27, 10, 0, 21] the target: 1\n",
      "when input is [25, 17, 27, 10, 0, 21, 1] the target: 54\n",
      "when input is [25, 17, 27, 10, 0, 21, 1, 54] the target: 39\n"
     ]
    }
   ],
   "source": [
    "xb, yb = get_batch('train')\n",
    "print('inputs:')\n",
    "print(xb.shape)\n",
    "print(xb)\n",
    "print('targets:')\n",
    "print(yb.shape)\n",
    "print(yb)\n",
    "\n",
    "print('----')\n",
    "\n",
    "for b in range(batch_size): # batch dimension\n",
    "    for t in range(context_len): # time dimension\n",
    "        context = xb[b, :t+1]\n",
    "        target = yb[b,t]\n",
    "        print(f\"when input is {context.tolist()} the target: {target}\")"
   ]
  },
  {
   "cell_type": "code",
   "execution_count": 128,
   "id": "8215e858-d1d8-4b66-a588-e899ee04e773",
   "metadata": {},
   "outputs": [],
   "source": [
    "# most basic model - bigram\n",
    "class BigramLanguageModel(nn.Module):\n",
    "    def __init__(self, vocab_size): # \"__init__() call to the parent class must be made before assignment on the child.\"\n",
    "        super().__init__()\n",
    "        \n",
    "        # 65 x 65 table\n",
    "        # https://stackoverflow.com/questions/50747947/embedding-in-pytorch\n",
    "        # \"nn.Embedding holds a Tensor of dimension (vocab_size, vector_size), \n",
    "        # i.e. of the size of the vocabulary x the dimension of each vector embedding, and a method that does the lookup.\n",
    "        # When you create an embedding layer, the Tensor is initialised randomly. \n",
    "        # It is only when you train it when this similarity between similar words should appear.\"\n",
    "        \n",
    "        # each token directly reads off the logits for the next token from a lookup table\n",
    "        # these just become probabilities for all the 65 chars to be the next char, given some char\n",
    "        self.token_embedding_table = nn.Embedding(vocab_size, vocab_size) # \"A simple lookup table that stores embeddings of a fixed dictionary and size.\"\n",
    "    \n",
    "    def forward(self, idx, targets=None): # \"Defines the computation performed at every call. Should be overridden by all subclasses.\"\n",
    "        # idx and targets are both (B,T) tensor of integers\n",
    "        logits = self.token_embedding_table(idx) # (B,T,C)\n",
    "\n",
    "        if targets is None:\n",
    "            loss = None\n",
    "        else:\n",
    "            B, T, C = logits.shape\n",
    "            logits = logits.view(B*T, C)\n",
    "            targets = targets.view(B*T)\n",
    "            loss = F.cross_entropy(logits, targets)\n",
    "            \n",
    "        return logits, loss \n",
    "\n",
    "    def generate(self, idx, max_new_tokens):\n",
    "        # now it's pretty bad, because we only use the last char but later it will change!\n",
    "        for _ in range(max_new_tokens):\n",
    "            logits, _ = self(idx) # get predictions (these embeddings) \n",
    "            logits = logits[:, -1, :] # get predictions only for the next character (thus -1) -> (B, C)\n",
    "            probs = F.softmax(logits, dim=-1) # (B, C)\n",
    "            # plucks out index of the char (0-64) with the highest prob. index in the probs tensor corresponds to actual index in the emb table:\n",
    "            idx_next = torch.multinomial(probs, num_samples=1) # (B, 1) -> \"If input is a matrix with m rows, out is an matrix of shape (m×num_samples).\"\n",
    "            # append sampled index to the running sequence:\n",
    "            idx = torch.cat((idx, idx_next), dim=1) # dim=1 -> concatenate \"Time\" -> (B, C) becomes (B, C+1)\n",
    "        return idx"
   ]
  },
  {
   "cell_type": "code",
   "execution_count": 129,
   "id": "59a9fe00-5c05-4828-911a-ddf7c45fc4ec",
   "metadata": {},
   "outputs": [
    {
     "name": "stdout",
     "output_type": "stream",
     "text": [
      "tensor([[ 0.1096, -1.4002, -2.0709,  ..., -0.0301, -2.6801, -0.1619],\n",
      "        [ 0.0362,  1.5888, -1.5286,  ...,  0.7430,  1.1266, -0.1201],\n",
      "        [-0.2159,  0.4251, -0.2401,  ..., -0.3643,  1.0510,  1.2662],\n",
      "        ...,\n",
      "        [-0.1066,  1.5575,  1.3555,  ...,  0.1655, -1.3049,  0.6517],\n",
      "        [ 0.0069, -0.2607, -0.9520,  ...,  0.0702, -0.4472, -0.2668],\n",
      "        [-0.2970,  0.2681,  0.6003,  ..., -0.1294, -0.5774, -1.1707]],\n",
      "       grad_fn=<ViewBackward0>) torch.Size([32, 65]) tensor(4.6029, grad_fn=<NllLossBackward0>)\n"
     ]
    }
   ],
   "source": [
    "model = BigramLanguageModel(vocab_size)\n",
    "logits, loss = model(xb, yb) # spits out a row from the embedding table from each example from xb in a batch\n",
    "print(logits, logits.shape, loss) # -ln(1/65) ~= 4.1743"
   ]
  },
  {
   "cell_type": "code",
   "execution_count": 143,
   "id": "4cad847a-ed12-4f40-9292-d759e7c2b740",
   "metadata": {},
   "outputs": [
    {
     "name": "stdout",
     "output_type": "stream",
     "text": [
      "\n",
      "\n",
      "Tor ry waldisthee f abe henend thine earngad pld okneth theather MENTIFord iveho ce hipurtasthulf t routorern ngbaccriseerrd s very qut, o thisthilerdilindgr for thain.\n",
      "\n",
      "Heyo ofue, sen h ditoreaillla\n"
     ]
    }
   ],
   "source": [
    "init_idx = torch.zeros((1, 1), dtype=torch.long) # B=1, T=1 and it's holding a 0 (0 is a new line so a reasonable char to start with)\n",
    "# encoded = model.generate(init_idx, max_new_tokens=100) -> print to see why line above is correct and this is not\n",
    "encoded = model.generate(init_idx, max_new_tokens=200)[0].tolist() # [0] -> 0th batch dimension\n",
    "decoded = decode(encoded)\n",
    "print(decoded) # terrible"
   ]
  },
  {
   "cell_type": "code",
   "execution_count": 137,
   "id": "c5a3d7f5-c892-42ec-9976-8a8a2863bd4f",
   "metadata": {},
   "outputs": [],
   "source": [
    "# FIND OUT WHAT'S THE DIFFERENCE BETWEEN SGD AND THAT!!!\n",
    "optimizer = torch.optim.AdamW(model.parameters(), lr=1e-3)"
   ]
  },
  {
   "cell_type": "code",
   "execution_count": 136,
   "id": "866ad32d-6154-4e00-8715-4d42fa6a813e",
   "metadata": {},
   "outputs": [
    {
     "name": "stdout",
     "output_type": "stream",
     "text": [
      "2.3590312004089355\n"
     ]
    }
   ],
   "source": [
    "batch_size = 32\n",
    "for steps in range(100000): # 100000 -> loss: 2.3590312004089355\n",
    "    \n",
    "    # sample a batch of data\n",
    "    xb, yb = get_batch('train')\n",
    "\n",
    "    # evaluate the loss\n",
    "    logits, loss = model(xb, yb)\n",
    "    optimizer.zero_grad(set_to_none=True)\n",
    "    loss.backward() # get gradients for all of the parameters\n",
    "    optimizer.step() # update the parameters according to the gradient\n",
    "\n",
    "print(loss.item())"
   ]
  },
  {
   "cell_type": "code",
   "execution_count": 147,
   "id": "f5022f32-e9e0-4de9-b738-255359b45266",
   "metadata": {},
   "outputs": [
    {
     "name": "stdout",
     "output_type": "stream",
     "text": [
      "\n",
      "Ana wigomy ngrathe w wateanevearrotronon'se wal y athan!\n",
      "\n",
      "\n",
      "Shel d\n",
      "Th e hieepo l'd d gid aimenat n foser\n",
      "\n",
      "Weplisthyo. brin; VI goowat ber bl sor higot s, Shair nd ather p ve he\n",
      "Forave in ck who. n hond\n"
     ]
    }
   ],
   "source": [
    "init_idx = torch.zeros((1, 1), dtype=torch.long) # B=1, T=1 and it's holding a 0 (0 is a new line so a reasonable char to start with)\n",
    "# encoded = model.generate(init_idx, max_new_tokens=100) -> print to see why line above is correct and this is not\n",
    "encoded = model.generate(init_idx, max_new_tokens=200)[0].tolist() # [0] -> 0th batch dimension\n",
    "decoded = decode(encoded)\n",
    "print(decoded) # still really bad, but at least there is some structure now"
   ]
  }
 ],
 "metadata": {
  "kernelspec": {
   "display_name": "Python 3 (ipykernel)",
   "language": "python",
   "name": "python3"
  },
  "language_info": {
   "codemirror_mode": {
    "name": "ipython",
    "version": 3
   },
   "file_extension": ".py",
   "mimetype": "text/x-python",
   "name": "python",
   "nbconvert_exporter": "python",
   "pygments_lexer": "ipython3",
   "version": "3.10.12"
  }
 },
 "nbformat": 4,
 "nbformat_minor": 5
}
