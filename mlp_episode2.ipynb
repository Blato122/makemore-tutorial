{
 "cells": [
  {
   "cell_type": "code",
   "execution_count": null,
   "id": "165d1eed-5b6c-4507-94c5-34be9d262eef",
   "metadata": {},
   "outputs": [],
   "source": [
    "# word feature vector:\n",
    "# In natural language processing (NLP), a word embedding is a representation of a word. \n",
    "# The embedding is used in text analysis. Typically, the representation is a real-valued \n",
    "# vector that encodes the meaning of the word in such a way that words that are closer in \n",
    "# the vector space are expected to be similar in meaning. Word embeddings can be obtained \n",
    "# using language modeling and feature learning techniques, where words or phrases from the \n",
    "# vocabulary are mapped to vectors of real numbers. \n",
    "# https://en.wikipedia.org/wiki/Word_embedding\n",
    "# https://www.youtube.com/watch?v=gQddtTdmG_8\n",
    "# https://www.baeldung.com/cs/dimensionality-word-embeddings"
   ]
  },
  {
   "cell_type": "code",
   "execution_count": 3,
   "id": "788651f2-5e55-44e5-bdee-9f78989b4837",
   "metadata": {},
   "outputs": [],
   "source": [
    "# at first the words are initialized and spread out randomly\n",
    "# then, we're gonna tune embeddings of these words using backprop\n",
    "# by maximizing the log-likelihood"
   ]
  },
  {
   "cell_type": "code",
   "execution_count": null,
   "id": "b6af455a-dc85-4aa5-905e-06a0ad30f697",
   "metadata": {},
   "outputs": [],
   "source": [
    "# first few things were already done in bigram_basic"
   ]
  },
  {
   "cell_type": "code",
   "execution_count": 15,
   "id": "4ca3a239-a110-4473-9c1b-75e80152a150",
   "metadata": {},
   "outputs": [],
   "source": [
    "import torch\n",
    "import torch.nn.functional as F\n",
    "import matplotlib.pyplot as plt"
   ]
  },
  {
   "cell_type": "code",
   "execution_count": 5,
   "id": "8856f237-9653-49b3-8329-98a51d6920e6",
   "metadata": {},
   "outputs": [],
   "source": [
    "# load ~32000 names from a file, one in each line\n",
    "with open(\"names.txt\", \"r\") as infile:\n",
    "    words = infile.read().splitlines() # ignores \\n"
   ]
  },
  {
   "cell_type": "code",
   "execution_count": 6,
   "id": "5d2db9ca-c7e9-4d77-ac85-c98ea6709f89",
   "metadata": {},
   "outputs": [
    {
     "data": {
      "text/plain": [
       "['emma', 'olivia', 'ava', 'isabella', 'sophia']"
      ]
     },
     "execution_count": 6,
     "metadata": {},
     "output_type": "execute_result"
    }
   ],
   "source": [
    "words[:5]"
   ]
  },
  {
   "cell_type": "code",
   "execution_count": 7,
   "id": "75a8d403-5f96-4ef1-8b7e-6ad5d7749782",
   "metadata": {},
   "outputs": [
    {
     "data": {
      "text/plain": [
       "32033"
      ]
     },
     "execution_count": 7,
     "metadata": {},
     "output_type": "execute_result"
    }
   ],
   "source": [
    "len(words)"
   ]
  },
  {
   "cell_type": "code",
   "execution_count": 8,
   "id": "20424b5b-e577-4bc6-9047-2c4f3ba559db",
   "metadata": {},
   "outputs": [],
   "source": [
    "chars = sorted(set(\"\".join(words)))"
   ]
  },
  {
   "cell_type": "code",
   "execution_count": 27,
   "id": "e7c6b76a-09cf-42e6-bd91-e8faa531992b",
   "metadata": {},
   "outputs": [],
   "source": [
    "ctoi = {c: i+1 for i, c in enumerate(chars)}\n",
    "ctoi[\".\"] = 0"
   ]
  },
  {
   "cell_type": "code",
   "execution_count": 28,
   "id": "2e090b6f-8591-47d1-8ff4-8a65abcc4375",
   "metadata": {},
   "outputs": [],
   "source": [
    "itoc = {i: c for c, i in ctoi.items()}"
   ]
  },
  {
   "cell_type": "code",
   "execution_count": null,
   "id": "b4db3b7f-a99e-4305-9644-cd6cb9b4c0c6",
   "metadata": {},
   "outputs": [],
   "source": [
    "# now the new stuff"
   ]
  },
  {
   "cell_type": "code",
   "execution_count": 42,
   "id": "fb9a3625-e671-448c-98d7-57c537e1608a",
   "metadata": {},
   "outputs": [],
   "source": [
    "# building a neural network that takes three characters (a context)\n",
    "# each character has an embedding in a lookup table\n",
    "# the nn has 27 outputs corresponding to a letter that we expect to get from a given context\n",
    "# we will check that using our Y tensor"
   ]
  },
  {
   "cell_type": "code",
   "execution_count": 626,
   "id": "4b6c8aaa-32d3-4056-b145-b06a80248410",
   "metadata": {},
   "outputs": [
    {
     "name": "stdout",
     "output_type": "stream",
     "text": [
      "torch.Size([182691, 4]) torch.Size([182691])\n",
      "torch.Size([22793, 4]) torch.Size([22793])\n",
      "torch.Size([22662, 4]) torch.Size([22662])\n"
     ]
    }
   ],
   "source": [
    "# building the dataset (with contexts)\n",
    "\n",
    "# training split -> ~80% -> optimize parameters of the model using gradient descent\n",
    "# dev/validation split -> ~10% -> hyperparameter tuning\n",
    "# test split -> ~10% -> evaluate model's final performance\n",
    "\n",
    "# updated so that we can also create dev/test splits\n",
    "\n",
    "block_size = 4 # context length - how many chars to take into account to predict the next one?\n",
    "\n",
    "def build_dataset(words):\n",
    "    X, Y = [], [] # X - input to the neural net, Y - expected labels for each example inside X\n",
    "    \n",
    "    for w in words:\n",
    "        # print(w)\n",
    "        context = [0] * block_size # ...\n",
    "        for c in w + \".\":\n",
    "            idx = ctoi[c]\n",
    "            X.append(context)\n",
    "            Y.append(idx)\n",
    "            # print(\"\".join(itoc[i] for i in context), \"--->\", itoc[idx])\n",
    "            context = context[1:] + [idx]\n",
    "    \n",
    "    X = torch.tensor(X)\n",
    "    Y = torch.tensor(Y)\n",
    "    print(X.shape, Y.shape)\n",
    "    return X, Y\n",
    "\n",
    "import random\n",
    "random.seed(42)\n",
    "random.shuffle(words)\n",
    "n1 = int(0.8 * len(words))\n",
    "n2 = int(0.9 * len(words))\n",
    "\n",
    "Xtr, Ytr = build_dataset(words[:n1])\n",
    "Xdev, Ydev = build_dataset(words[n1:n2])\n",
    "Xtest, Ytest = build_dataset(words[n2:])"
   ]
  },
  {
   "cell_type": "code",
   "execution_count": 517,
   "id": "fd758e55-0a67-43b0-a9b4-ed8bbde91021",
   "metadata": {},
   "outputs": [
    {
     "data": {
      "text/plain": [
       "(torch.Size([228146, 3]), torch.int64, torch.Size([228146]), torch.int64)"
      ]
     },
     "execution_count": 517,
     "metadata": {},
     "output_type": "execute_result"
    }
   ],
   "source": [
    "X.shape, X.dtype, Y.shape, Y.dtype"
   ]
  },
  {
   "cell_type": "code",
   "execution_count": 45,
   "id": "564014d9-157c-4324-ab3a-6dad58ab55ec",
   "metadata": {},
   "outputs": [],
   "source": [
    "# embedding look-up table\n",
    "# let's start with just 2 dimensions at first\n",
    "C = torch.randn((27, 2)) # 27 because we need a 2 dim embedding for each letter"
   ]
  },
  {
   "cell_type": "code",
   "execution_count": 102,
   "id": "84dbba26-2606-4204-9e86-2b1230fe23c1",
   "metadata": {},
   "outputs": [],
   "source": [
    "# some experiments to get a grasp of how that indexing works"
   ]
  },
  {
   "cell_type": "code",
   "execution_count": 84,
   "id": "72064f2f-657c-43a3-be2b-2ba1f4d8b47b",
   "metadata": {},
   "outputs": [
    {
     "data": {
      "text/plain": [
       "tensor([[ 0.1316,  0.8406],\n",
       "        [ 1.6549, -1.1986],\n",
       "        [-0.2328, -2.5040]])"
      ]
     },
     "execution_count": 84,
     "metadata": {},
     "output_type": "execute_result"
    }
   ],
   "source": [
    "C[:3]"
   ]
  },
  {
   "cell_type": "code",
   "execution_count": 77,
   "id": "185dd1f8-3e0d-4713-ac48-5970f604898a",
   "metadata": {},
   "outputs": [
    {
     "data": {
      "text/plain": [
       "tensor([0.1316, 0.8406])"
      ]
     },
     "execution_count": 77,
     "metadata": {},
     "output_type": "execute_result"
    }
   ],
   "source": [
    "C[0]"
   ]
  },
  {
   "cell_type": "code",
   "execution_count": 99,
   "id": "c9153d09-01aa-40e5-86fd-eb557c23c599",
   "metadata": {},
   "outputs": [
    {
     "data": {
      "text/plain": [
       "torch.Size([2])"
      ]
     },
     "execution_count": 99,
     "metadata": {},
     "output_type": "execute_result"
    }
   ],
   "source": [
    "C[0].shape"
   ]
  },
  {
   "cell_type": "code",
   "execution_count": 85,
   "id": "a6da1fad-3b27-4e32-bb41-9ef19dda9eb9",
   "metadata": {},
   "outputs": [
    {
     "data": {
      "text/plain": [
       "tensor([[ 0.1316,  0.8406],\n",
       "        [ 1.6549, -1.1986],\n",
       "        [-0.2328, -2.5040]])"
      ]
     },
     "execution_count": 85,
     "metadata": {},
     "output_type": "execute_result"
    }
   ],
   "source": [
    "C[[0, 1, 2]] # we can index with lists as well!"
   ]
  },
  {
   "cell_type": "code",
   "execution_count": 100,
   "id": "4dadb0b6-2763-4718-b64a-6f5b72f9a13c",
   "metadata": {},
   "outputs": [
    {
     "data": {
      "text/plain": [
       "torch.Size([3, 2])"
      ]
     },
     "execution_count": 100,
     "metadata": {},
     "output_type": "execute_result"
    }
   ],
   "source": [
    "C[[0, 1, 2]].shape"
   ]
  },
  {
   "cell_type": "code",
   "execution_count": 86,
   "id": "39e49ed1-fbae-465d-9031-e524c9272922",
   "metadata": {},
   "outputs": [
    {
     "data": {
      "text/plain": [
       "tensor([[ 0.1316,  0.8406],\n",
       "        [ 1.6549, -1.1986],\n",
       "        [-0.2328, -2.5040]])"
      ]
     },
     "execution_count": 86,
     "metadata": {},
     "output_type": "execute_result"
    }
   ],
   "source": [
    "C[[torch.tensor([0, 1, 2])]] # same with tensors"
   ]
  },
  {
   "cell_type": "code",
   "execution_count": 101,
   "id": "bd1f16ea-8f4c-4f78-ab2d-f8ab37922420",
   "metadata": {},
   "outputs": [
    {
     "data": {
      "text/plain": [
       "tensor([[[ 0.1316,  0.8406],\n",
       "         [ 1.6549, -1.1986],\n",
       "         [-0.2328, -2.5040]],\n",
       "\n",
       "        [[ 1.6549, -1.1986],\n",
       "         [ 1.6549, -1.1986],\n",
       "         [ 1.6549, -1.1986]]])"
      ]
     },
     "execution_count": 101,
     "metadata": {},
     "output_type": "execute_result"
    }
   ],
   "source": [
    "C[torch.tensor([[0, 1, 2], [1, 1, 1]])] # I finally get what that does now!"
   ]
  },
  {
   "cell_type": "code",
   "execution_count": 98,
   "id": "db1a7d4f-7d32-4d66-90cd-a23373be6433",
   "metadata": {},
   "outputs": [
    {
     "data": {
      "text/plain": [
       "torch.Size([2, 3, 2])"
      ]
     },
     "execution_count": 98,
     "metadata": {},
     "output_type": "execute_result"
    }
   ],
   "source": [
    "C[[torch.tensor([[0, 1, 2], [1, 1, 1]])]].shape\n",
    "# we have two contexts, three letters each\n",
    "# C is a lookup table that has 2 dim embeddings for each letter\n",
    "# C[0] simply gives an embedding of a single letter -> so shape 2\n",
    "# C[[0, 1, 2]] gives embedding of a context (3 letters) -> shape 3, 2, an embedding for each letter\n",
    "# C[ [[0, 1, 2], [1, 1, 1]] ] gives embedding for these 2 contexts -> shape 2 (new!), 3, 2"
   ]
  },
  {
   "cell_type": "code",
   "execution_count": 89,
   "id": "bf3c0397-f285-45bf-aa9a-9afca0bdde56",
   "metadata": {},
   "outputs": [
    {
     "data": {
      "text/plain": [
       "tensor([[0, 0, 0]])"
      ]
     },
     "execution_count": 89,
     "metadata": {},
     "output_type": "execute_result"
    }
   ],
   "source": [
    "X[:1]"
   ]
  },
  {
   "cell_type": "code",
   "execution_count": 90,
   "id": "fc35982d-c79d-4973-8798-883e3d83a40a",
   "metadata": {},
   "outputs": [
    {
     "data": {
      "text/plain": [
       "tensor([[[0.1316, 0.8406],\n",
       "         [0.1316, 0.8406],\n",
       "         [0.1316, 0.8406]]])"
      ]
     },
     "execution_count": 90,
     "metadata": {},
     "output_type": "execute_result"
    }
   ],
   "source": [
    "C[X[:1]]"
   ]
  },
  {
   "cell_type": "code",
   "execution_count": 91,
   "id": "2dd8ed84-8290-473d-b16f-4878ea07bf8c",
   "metadata": {},
   "outputs": [
    {
     "data": {
      "text/plain": [
       "tensor([[0, 0, 0],\n",
       "        [0, 0, 5]])"
      ]
     },
     "execution_count": 91,
     "metadata": {},
     "output_type": "execute_result"
    }
   ],
   "source": [
    "X[:2]"
   ]
  },
  {
   "cell_type": "code",
   "execution_count": 92,
   "id": "98bc067c-e2f1-4dc1-8eb0-2251fe8ad88a",
   "metadata": {},
   "outputs": [
    {
     "data": {
      "text/plain": [
       "tensor([[[ 0.1316,  0.8406],\n",
       "         [ 0.1316,  0.8406],\n",
       "         [ 0.1316,  0.8406]],\n",
       "\n",
       "        [[ 0.1316,  0.8406],\n",
       "         [ 0.1316,  0.8406],\n",
       "         [-0.8999, -0.8510]]])"
      ]
     },
     "execution_count": 92,
     "metadata": {},
     "output_type": "execute_result"
    }
   ],
   "source": [
    "C[X[:2]]"
   ]
  },
  {
   "cell_type": "code",
   "execution_count": 93,
   "id": "dc0213d3-f862-43b5-877d-b8f9cef41f98",
   "metadata": {},
   "outputs": [
    {
     "data": {
      "text/plain": [
       "torch.Size([2, 3, 2])"
      ]
     },
     "execution_count": 93,
     "metadata": {},
     "output_type": "execute_result"
    }
   ],
   "source": [
    "C[X[:2]].shape"
   ]
  },
  {
   "cell_type": "code",
   "execution_count": 103,
   "id": "0c358345-0e91-4f4f-9655-0d381b3b3cee",
   "metadata": {},
   "outputs": [],
   "source": [
    "# end of experiments"
   ]
  },
  {
   "cell_type": "code",
   "execution_count": 113,
   "id": "3440c33f-4cdf-4982-9588-7129d1cf0f2a",
   "metadata": {},
   "outputs": [],
   "source": [
    "# so that's why C[X] will contain embeddings for all letters in all contexts -> shape 32, 3, 2\n",
    "# 32 contexts, 3 letters each and each letter has a 2 dim embedding"
   ]
  },
  {
   "cell_type": "code",
   "execution_count": 117,
   "id": "898b5226-b303-465c-ad55-980537576737",
   "metadata": {},
   "outputs": [
    {
     "data": {
      "text/plain": [
       "torch.Size([32, 3, 2])"
      ]
     },
     "execution_count": 117,
     "metadata": {},
     "output_type": "execute_result"
    }
   ],
   "source": [
    "emb = C[X]\n",
    "emb.shape"
   ]
  },
  {
   "cell_type": "code",
   "execution_count": 107,
   "id": "136434bb-a4ec-42a0-a6b7-c36d67e081be",
   "metadata": {},
   "outputs": [],
   "source": [
    "# tests"
   ]
  },
  {
   "cell_type": "code",
   "execution_count": 109,
   "id": "c8092f6b-2a0d-4216-86fd-49528decee89",
   "metadata": {},
   "outputs": [
    {
     "data": {
      "text/plain": [
       "tensor(1)"
      ]
     },
     "execution_count": 109,
     "metadata": {},
     "output_type": "execute_result"
    }
   ],
   "source": [
    "X[13, 2] # 13th context, 2nd letter"
   ]
  },
  {
   "cell_type": "code",
   "execution_count": 112,
   "id": "14362d62-6a01-40bb-bb15-058cbab48d48",
   "metadata": {},
   "outputs": [
    {
     "data": {
      "text/plain": [
       "tensor([ 1.6549, -1.1986])"
      ]
     },
     "execution_count": 112,
     "metadata": {},
     "output_type": "execute_result"
    }
   ],
   "source": [
    "emb[13, 2] # embedding for that 13th context, 2nd letter"
   ]
  },
  {
   "cell_type": "code",
   "execution_count": 115,
   "id": "86fc88c4-f603-4752-9979-111a040c146d",
   "metadata": {},
   "outputs": [
    {
     "data": {
      "text/plain": [
       "tensor([ 1.6549, -1.1986])"
      ]
     },
     "execution_count": 115,
     "metadata": {},
     "output_type": "execute_result"
    }
   ],
   "source": [
    "C[1] # embedding for letter with idx == 1, manually checked"
   ]
  },
  {
   "cell_type": "code",
   "execution_count": 116,
   "id": "bc4496a6-8f47-4cbf-ad03-04170d44c857",
   "metadata": {},
   "outputs": [],
   "source": [
    "# end of tests"
   ]
  },
  {
   "cell_type": "code",
   "execution_count": 120,
   "id": "1e7c54be-d813-4fe8-b648-87fe09210423",
   "metadata": {},
   "outputs": [],
   "source": [
    "# HIDDEN LAYER\n",
    "# initialize weights randomly\n",
    "W1 = torch.randn((3 * 2, 100)) # 3 * 2 cos 3 contexts times 2 dim embeddings give 6 numbers\n",
    "# 100 is just a number of neurons in the hidden layer, might be different than 100 as well\n",
    "b1 = torch.randn(100)"
   ]
  },
  {
   "cell_type": "code",
   "execution_count": 132,
   "id": "abb15668-0b3a-48f1-9c4b-a00fbd042d59",
   "metadata": {},
   "outputs": [
    {
     "data": {
      "text/plain": [
       "torch.Size([32, 100])"
      ]
     },
     "execution_count": 132,
     "metadata": {},
     "output_type": "execute_result"
    }
   ],
   "source": [
    "# we can't just do emb @ W1 + b1 because emb is [32, 2, 3] and W1 is [6, 100]\n",
    "# that's why we need to flatten the emb matrix to [32, 6]\n",
    "h = torch.tanh(emb.view(-1, 6) @ W1 + b1) # 100 activations for all 32 context embeddings ! ! !\n",
    "h.shape\n",
    "# + b1 requires broadcasting!\n",
    "    # 32, 100\n",
    "    #  1, 100 (1 - \"fake\" dimension)\n",
    "# view is the most optimal, doesn't create anything additional in the memory\n",
    "# check: tensor -> storage"
   ]
  },
  {
   "cell_type": "code",
   "execution_count": 133,
   "id": "b5d6001f-00ca-40b3-a2d9-6caf5c8c838a",
   "metadata": {},
   "outputs": [],
   "source": [
    "# OUTPUT LAYER\n",
    "W2 = torch.randn((100, 27)) # 100 input activations from prev layer, 27 letters as an output\n",
    "b2 = torch.randn(27)"
   ]
  },
  {
   "cell_type": "code",
   "execution_count": 135,
   "id": "7b93032a-082a-4d29-87dd-076d4b00f62e",
   "metadata": {},
   "outputs": [
    {
     "data": {
      "text/plain": [
       "torch.Size([32, 27])"
      ]
     },
     "execution_count": 135,
     "metadata": {},
     "output_type": "execute_result"
    }
   ],
   "source": [
    "logits = h @ W2 + b2\n",
    "logits.shape # good!"
   ]
  },
  {
   "cell_type": "code",
   "execution_count": 138,
   "id": "1a4a9874-f9ac-4252-a22f-dd1a6d2c9d2d",
   "metadata": {},
   "outputs": [
    {
     "data": {
      "text/plain": [
       "torch.Size([32, 27])"
      ]
     },
     "execution_count": 138,
     "metadata": {},
     "output_type": "execute_result"
    }
   ],
   "source": [
    "counts = logits.exp()\n",
    "counts.shape"
   ]
  },
  {
   "cell_type": "code",
   "execution_count": 156,
   "id": "bff7ff57-1265-4a5f-829b-e8ad4f56f86a",
   "metadata": {},
   "outputs": [
    {
     "data": {
      "text/plain": [
       "torch.Size([32, 27])"
      ]
     },
     "execution_count": 156,
     "metadata": {},
     "output_type": "execute_result"
    }
   ],
   "source": [
    "# broadcasting, 1 says we want sums of rows (a column vector, 27x1), every prob row gets divided by the row sum\n",
    "prob = counts / counts.sum(1, keepdim=True)\n",
    "prob.shape # 27 letter probs for all 32 context embeddings"
   ]
  },
  {
   "cell_type": "code",
   "execution_count": 159,
   "id": "4029a566-d4ae-4d4d-8a2b-4a4ddf001e82",
   "metadata": {},
   "outputs": [
    {
     "data": {
      "text/plain": [
       "tensor([5.2677e-05, 1.0049e-05, 8.2266e-03, 4.1967e-08, 1.3631e-13, 4.5783e-12,\n",
       "        1.3816e-11, 1.1696e-08, 1.7143e-10, 2.9262e-08, 1.2633e-08, 1.1633e-12,\n",
       "        4.9834e-12, 3.5899e-15, 1.2970e-15, 3.2741e-11, 7.8087e-08, 1.3296e-12,\n",
       "        1.2381e-07, 6.7515e-01, 1.4482e-23, 1.0170e-08, 1.1195e-07, 1.3940e-11,\n",
       "        6.5757e-12, 1.8048e-08, 7.2475e-11, 4.0650e-03, 1.2099e-09, 2.8398e-10,\n",
       "        4.3487e-08, 3.1144e-13])"
      ]
     },
     "execution_count": 159,
     "metadata": {},
     "output_type": "execute_result"
    }
   ],
   "source": [
    "prob[torch.arange(32), Y] # get all rows of prob and a probability of the correct letter (from Y)"
   ]
  },
  {
   "cell_type": "code",
   "execution_count": 160,
   "id": "b69a4d22-4857-423a-927f-c9d9a8f007a4",
   "metadata": {},
   "outputs": [],
   "source": [
    " nll_loss = -prob[torch.arange(32), Y].log().mean()"
   ]
  },
  {
   "cell_type": "code",
   "execution_count": 161,
   "id": "2c72bda0-0056-4fbe-8c2d-5594ec97c124",
   "metadata": {},
   "outputs": [
    {
     "data": {
      "text/plain": [
       "tensor(21.1892)"
      ]
     },
     "execution_count": 161,
     "metadata": {},
     "output_type": "execute_result"
    }
   ],
   "source": [
    "nll_loss"
   ]
  },
  {
   "cell_type": "code",
   "execution_count": 162,
   "id": "328c86eb-1da0-469d-96bc-5d12a5658311",
   "metadata": {},
   "outputs": [],
   "source": [
    "# NOW EVERYTHING ORGANIZED:"
   ]
  },
  {
   "cell_type": "code",
   "execution_count": 615,
   "id": "40073bc0-a62a-4615-949b-397cdac0ca54",
   "metadata": {},
   "outputs": [
    {
     "data": {
      "text/plain": [
       "(torch.Size([182484, 4]), torch.Size([182484]))"
      ]
     },
     "execution_count": 615,
     "metadata": {},
     "output_type": "execute_result"
    }
   ],
   "source": [
    "Xtr.shape, Ytr.shape # the dataset"
   ]
  },
  {
   "cell_type": "code",
   "execution_count": 654,
   "id": "bfe26fa0-e224-4d36-87a8-fc2ba6ce7c21",
   "metadata": {},
   "outputs": [],
   "source": [
    "hidden_n = 200\n",
    "emb_dim = 8\n",
    "\n",
    "gen = torch.Generator().manual_seed(2147483647)\n",
    "C = torch.randn((C.shape[0], emb_dim), generator=gen)\n",
    "W1 = torch.randn((emb_dim * block_size, hidden_n), generator=gen)\n",
    "b1 = torch.randn(hidden_n, generator=gen)\n",
    "W2 = torch.randn((hidden_n, C.shape[0]), generator=gen)\n",
    "b2 = torch.randn(C.shape[0], generator=gen)\n",
    "parameters = [C, W1, b1, W2, b2]"
   ]
  },
  {
   "cell_type": "code",
   "execution_count": 655,
   "id": "17b8798e-8199-46a7-9031-3276e153832b",
   "metadata": {},
   "outputs": [
    {
     "data": {
      "text/plain": [
       "12243"
      ]
     },
     "execution_count": 655,
     "metadata": {},
     "output_type": "execute_result"
    }
   ],
   "source": [
    "sum(p.numel() for p in parameters) # numel <=> nelement"
   ]
  },
  {
   "cell_type": "code",
   "execution_count": 656,
   "id": "5537c79f-389b-4766-98d8-34b8bc2b6c8c",
   "metadata": {},
   "outputs": [],
   "source": [
    "for p in parameters:\n",
    "    p.requires_grad = True"
   ]
  },
  {
   "cell_type": "code",
   "execution_count": 657,
   "id": "fe2a8f84-91e1-4d1d-a13f-c351827b8eb4",
   "metadata": {},
   "outputs": [
    {
     "name": "stdout",
     "output_type": "stream",
     "text": [
      "2.1099495887756348\n"
     ]
    }
   ],
   "source": [
    "epochs = 200_000\n",
    "minibatch_size = 500\n",
    "\n",
    "loss_i = []\n",
    "\n",
    "for i in range(epochs):\n",
    "    # create a minibatch\n",
    "    idx = torch.randint(0, Xtr.shape[0], (minibatch_size,)) # get 32 random integers\n",
    "    # between 0 and 228146 (number of contexts)\n",
    "    # that will be our minibatch (of size 32)\n",
    "    \n",
    "    # forward pass\n",
    "    emb = C[Xtr[idx]]\n",
    "    h = torch.tanh(emb.view(-1, emb_dim * block_size) @ W1 + b1) # hidden layer, (32, 100)\n",
    "    logits = h @ W2 + b2 # (32, 27)\n",
    "    # counts = logits.exp()\n",
    "    # prob = counts / counts.sum(1, keepdim=True)\n",
    "    # nll_loss = -prob[torch.arange(32), Y].log().mean()\n",
    "    # nll_loss\n",
    "    loss = F.cross_entropy(logits, Ytr[idx]) # more efficient, prevents inf and nan for big positive logits\n",
    "    loss_i.append(loss.item())\n",
    "    \n",
    "    # backward pass\n",
    "    for p in parameters:\n",
    "        p.grad = None\n",
    "    loss.backward() # it works but find out why later\n",
    "    \n",
    "    # update\n",
    "    lr = 0.1 if i < epochs / 2 else 0.01\n",
    "    for p in parameters:\n",
    "        p.data += -lr * p.grad\n",
    "\n",
    "print(loss.item())\n",
    "# impossible to reach loss 0 because: ... -> e but also ... -> a, etc."
   ]
  },
  {
   "cell_type": "code",
   "execution_count": 658,
   "id": "74f2986a-980b-4cae-8261-d081e646d284",
   "metadata": {},
   "outputs": [
    {
     "data": {
      "text/plain": [
       "[<matplotlib.lines.Line2D at 0x7f664e282920>]"
      ]
     },
     "execution_count": 658,
     "metadata": {},
     "output_type": "execute_result"
    },
    {
     "data": {
      "image/png": "[encoded data removed]",
      "text/plain": [
       "<Figure size 640x480 with 1 Axes>"
      ]
     },
     "metadata": {},
     "output_type": "display_data"
    }
   ],
   "source": [
    "plt.plot(range(epochs)[30000:], loss_i[30000:])"
   ]
  },
  {
   "cell_type": "code",
   "execution_count": 659,
   "id": "4c927f4a-89ca-4516-a4e2-c41e018df3e6",
   "metadata": {},
   "outputs": [
    {
     "name": "stdout",
     "output_type": "stream",
     "text": [
      "2.127196788787842\n"
     ]
    }
   ],
   "source": [
    "# find out the loss for a whole (TR!) data set, not just a minibatch\n",
    "emb = C[Xtr]\n",
    "h = torch.tanh(emb.view(-1, emb_dim * block_size) @ W1 + b1) # hidden layer, (32, 100)\n",
    "logits = h @ W2 + b2 # (32, 27)\n",
    "loss = F.cross_entropy(logits, Ytr) # more efficient, prevents inf and nan for big positive logits\n",
    "print(loss.item())"
   ]
  },
  {
   "cell_type": "code",
   "execution_count": 660,
   "id": "400071fc-9a30-411b-ad68-6037af1c4813",
   "metadata": {},
   "outputs": [
    {
     "name": "stdout",
     "output_type": "stream",
     "text": [
      "2.1558570861816406\n"
     ]
    }
   ],
   "source": [
    "# tr loss ~= dev loss -> not overfitting (actually maybe underfitting!)\n",
    "# <=> nn not able to memorize the values\n",
    "# might mean that the network is too small (not enough parameters)\n",
    "\n",
    "# find out the loss for a whole (DEV!) data set\n",
    "emb = C[Xdev]\n",
    "h = torch.tanh(emb.view(-1, emb_dim * block_size) @ W1 + b1) # hidden layer, (32, 100)\n",
    "logits = h @ W2 + b2 # (32, 27)\n",
    "loss = F.cross_entropy(logits, Ydev) # more efficient, prevents inf and nan for big positive logits\n",
    "print(loss.item())"
   ]
  },
  {
   "cell_type": "code",
   "execution_count": 672,
   "id": "1a552bf6-de07-48a5-a24e-e281e39f58cf",
   "metadata": {},
   "outputs": [
    {
     "name": "stdout",
     "output_type": "stream",
     "text": [
      "reige.\n",
      "balmir.\n",
      "bassin.\n",
      "kari.\n",
      "kier.\n",
      "mane.\n",
      "zakataytan.\n",
      "lyam.\n",
      "hamson.\n",
      "razoni.\n",
      "lilley.\n",
      "ekvi.\n",
      "nayvina.\n",
      "elexy.\n",
      "alah.\n",
      "jeasiq.\n",
      "briani.\n",
      "heaz.\n",
      "isley.\n",
      "yailles.\n"
     ]
    }
   ],
   "source": [
    "# SAMPLING!!!\n",
    "gen = torch.Generator().manual_seed(2147483647 + 19)\n",
    "\n",
    "for _ in range(20):\n",
    "    name = []\n",
    "    context = [0] * block_size # initialize with all ...\n",
    "    while True: # create one name\n",
    "        emb = C[torch.tensor([context])] # like C[X] but this time only 1 context\n",
    "        # block_size x emb_dim\n",
    "        h = torch.tanh(emb.view(1, -1) @ W1 + b1)\n",
    "        logits = h @ W2 + b2\n",
    "        probs = F.softmax(logits, dim=1)\n",
    "        idx = torch.multinomial(probs, num_samples=1, generator=gen).item()\n",
    "        context = context[1:] + [idx]\n",
    "        name.append(idx)\n",
    "        if idx == 0:\n",
    "            break\n",
    "    print(\"\".join(itoc[i] for i in name))\n",
    "        "
   ]
  },
  {
   "cell_type": "code",
   "execution_count": 359,
   "id": "d38f1c2a-263d-43cb-95ca-67719ab8f395",
   "metadata": {},
   "outputs": [
    {
     "data": {
      "text/plain": [
       "(torch.Size([228146, 3, 2]), torch.Size([228146, 3]))"
      ]
     },
     "execution_count": 359,
     "metadata": {},
     "output_type": "execute_result"
    }
   ],
   "source": [
    "C[X].shape, X.shape"
   ]
  },
  {
   "cell_type": "code",
   "execution_count": 349,
   "id": "3b034d4f-1987-49a2-bb76-412410307528",
   "metadata": {},
   "outputs": [
    {
     "data": {
      "text/plain": [
       "tensor([[ 2.7675, -0.1494],\n",
       "        [ 2.7675, -0.1494],\n",
       "        [ 2.7675, -0.1494]], grad_fn=<IndexBackward0>)"
      ]
     },
     "execution_count": 349,
     "metadata": {},
     "output_type": "execute_result"
    }
   ],
   "source": [
    "C[X[0]] # idx (here 0) gets 1 context of 3 letters (2 * 3 = 6 embeddings)"
   ]
  },
  {
   "cell_type": "code",
   "execution_count": 196,
   "id": "f140bad2-6efa-4ee1-a713-c2bcfcdf72df",
   "metadata": {},
   "outputs": [
    {
     "data": {
      "image/svg+xml": [
       "<?xml version=\"1.0\" encoding=\"UTF-8\" standalone=\"no\"?>\n",
       "<!DOCTYPE svg PUBLIC \"-//W3C//DTD SVG 1.1//EN\"\n",
       " \"http://www.w3.org/Graphics/SVG/1.1/DTD/svg11.dtd\">\n",
       "<!-- Generated by graphviz version 2.43.0 (0)\n",
       " -->\n",
       "<!-- Title: %3 Pages: 1 -->\n",
       "<svg width=\"492pt\" height=\"704pt\"\n",
       " viewBox=\"0.00 0.00 492.00 704.00\" xmlns=\"http://www.w3.org/2000/svg\" xmlns:xlink=\"http://www.w3.org/1999/xlink\">\n",
       "<g id=\"graph0\" class=\"graph\" transform=\"scale(1 1) rotate(0) translate(4 700)\">\n",
       "<title>%3</title>\n",
       "<polygon fill=\"white\" stroke=\"transparent\" points=\"-4,4 -4,-700 488,-700 488,4 -4,4\"/>\n",
       "<!-- 140077506976624 -->\n",
       "<g id=\"node1\" class=\"node\">\n",
       "<title>140077506976624</title>\n",
       "<polygon fill=\"#caff70\" stroke=\"black\" points=\"405.5,-31 351.5,-31 351.5,0 405.5,0 405.5,-31\"/>\n",
       "<text text-anchor=\"middle\" x=\"378.5\" y=\"-7\" font-family=\"monospace\" font-size=\"10.00\"> ()</text>\n",
       "</g>\n",
       "<!-- 140077379810592 -->\n",
       "<g id=\"node2\" class=\"node\">\n",
       "<title>140077379810592</title>\n",
       "<polygon fill=\"lightgrey\" stroke=\"black\" points=\"435,-86 322,-86 322,-67 435,-67 435,-86\"/>\n",
       "<text text-anchor=\"middle\" x=\"378.5\" y=\"-74\" font-family=\"monospace\" font-size=\"10.00\">NllLossBackward0</text>\n",
       "</g>\n",
       "<!-- 140077379810592&#45;&gt;140077506976624 -->\n",
       "<g id=\"edge19\" class=\"edge\">\n",
       "<title>140077379810592&#45;&gt;140077506976624</title>\n",
       "<path fill=\"none\" stroke=\"black\" d=\"M378.5,-66.79C378.5,-60.07 378.5,-50.4 378.5,-41.34\"/>\n",
       "<polygon fill=\"black\" stroke=\"black\" points=\"382,-41.19 378.5,-31.19 375,-41.19 382,-41.19\"/>\n",
       "</g>\n",
       "<!-- 140077379812224 -->\n",
       "<g id=\"node3\" class=\"node\">\n",
       "<title>140077379812224</title>\n",
       "<polygon fill=\"lightgrey\" stroke=\"black\" points=\"444,-141 313,-141 313,-122 444,-122 444,-141\"/>\n",
       "<text text-anchor=\"middle\" x=\"378.5\" y=\"-129\" font-family=\"monospace\" font-size=\"10.00\">LogSoftmaxBackward0</text>\n",
       "</g>\n",
       "<!-- 140077379812224&#45;&gt;140077379810592 -->\n",
       "<g id=\"edge1\" class=\"edge\">\n",
       "<title>140077379812224&#45;&gt;140077379810592</title>\n",
       "<path fill=\"none\" stroke=\"black\" d=\"M378.5,-121.75C378.5,-114.8 378.5,-104.85 378.5,-96.13\"/>\n",
       "<polygon fill=\"black\" stroke=\"black\" points=\"382,-96.09 378.5,-86.09 375,-96.09 382,-96.09\"/>\n",
       "</g>\n",
       "<!-- 140077379809872 -->\n",
       "<g id=\"node4\" class=\"node\">\n",
       "<title>140077379809872</title>\n",
       "<polygon fill=\"lightgrey\" stroke=\"black\" points=\"423,-196 334,-196 334,-177 423,-177 423,-196\"/>\n",
       "<text text-anchor=\"middle\" x=\"378.5\" y=\"-184\" font-family=\"monospace\" font-size=\"10.00\">AddBackward0</text>\n",
       "</g>\n",
       "<!-- 140077379809872&#45;&gt;140077379812224 -->\n",
       "<g id=\"edge2\" class=\"edge\">\n",
       "<title>140077379809872&#45;&gt;140077379812224</title>\n",
       "<path fill=\"none\" stroke=\"black\" d=\"M378.5,-176.75C378.5,-169.8 378.5,-159.85 378.5,-151.13\"/>\n",
       "<polygon fill=\"black\" stroke=\"black\" points=\"382,-151.09 378.5,-141.09 375,-151.09 382,-151.09\"/>\n",
       "</g>\n",
       "<!-- 140077379805792 -->\n",
       "<g id=\"node5\" class=\"node\">\n",
       "<title>140077379805792</title>\n",
       "<polygon fill=\"lightgrey\" stroke=\"black\" points=\"365,-251 282,-251 282,-232 365,-232 365,-251\"/>\n",
       "<text text-anchor=\"middle\" x=\"323.5\" y=\"-239\" font-family=\"monospace\" font-size=\"10.00\">MmBackward0</text>\n",
       "</g>\n",
       "<!-- 140077379805792&#45;&gt;140077379809872 -->\n",
       "<g id=\"edge3\" class=\"edge\">\n",
       "<title>140077379805792&#45;&gt;140077379809872</title>\n",
       "<path fill=\"none\" stroke=\"black\" d=\"M332.58,-231.75C340.59,-224.03 352.46,-212.6 362.12,-203.28\"/>\n",
       "<polygon fill=\"black\" stroke=\"black\" points=\"364.81,-205.55 369.59,-196.09 359.96,-200.51 364.81,-205.55\"/>\n",
       "</g>\n",
       "<!-- 140077379809968 -->\n",
       "<g id=\"node6\" class=\"node\">\n",
       "<title>140077379809968</title>\n",
       "<polygon fill=\"lightgrey\" stroke=\"black\" points=\"262,-312 167,-312 167,-293 262,-293 262,-312\"/>\n",
       "<text text-anchor=\"middle\" x=\"214.5\" y=\"-300\" font-family=\"monospace\" font-size=\"10.00\">TanhBackward0</text>\n",
       "</g>\n",
       "<!-- 140077379809968&#45;&gt;140077379805792 -->\n",
       "<g id=\"edge4\" class=\"edge\">\n",
       "<title>140077379809968&#45;&gt;140077379805792</title>\n",
       "<path fill=\"none\" stroke=\"black\" d=\"M230.58,-292.79C248.56,-283.07 277.87,-267.2 298.77,-255.89\"/>\n",
       "<polygon fill=\"black\" stroke=\"black\" points=\"300.58,-258.89 307.71,-251.05 297.24,-252.73 300.58,-258.89\"/>\n",
       "</g>\n",
       "<!-- 140077379806944 -->\n",
       "<g id=\"node7\" class=\"node\">\n",
       "<title>140077379806944</title>\n",
       "<polygon fill=\"lightgrey\" stroke=\"black\" points=\"259,-379 170,-379 170,-360 259,-360 259,-379\"/>\n",
       "<text text-anchor=\"middle\" x=\"214.5\" y=\"-367\" font-family=\"monospace\" font-size=\"10.00\">AddBackward0</text>\n",
       "</g>\n",
       "<!-- 140077379806944&#45;&gt;140077379809968 -->\n",
       "<g id=\"edge5\" class=\"edge\">\n",
       "<title>140077379806944&#45;&gt;140077379809968</title>\n",
       "<path fill=\"none\" stroke=\"black\" d=\"M214.5,-359.73C214.5,-350.18 214.5,-334.62 214.5,-322.28\"/>\n",
       "<polygon fill=\"black\" stroke=\"black\" points=\"218,-322.13 214.5,-312.13 211,-322.13 218,-322.13\"/>\n",
       "</g>\n",
       "<!-- 140077379808096 -->\n",
       "<g id=\"node8\" class=\"node\">\n",
       "<title>140077379808096</title>\n",
       "<polygon fill=\"lightgrey\" stroke=\"black\" points=\"201,-440 118,-440 118,-421 201,-421 201,-440\"/>\n",
       "<text text-anchor=\"middle\" x=\"159.5\" y=\"-428\" font-family=\"monospace\" font-size=\"10.00\">MmBackward0</text>\n",
       "</g>\n",
       "<!-- 140077379808096&#45;&gt;140077379806944 -->\n",
       "<g id=\"edge6\" class=\"edge\">\n",
       "<title>140077379808096&#45;&gt;140077379806944</title>\n",
       "<path fill=\"none\" stroke=\"black\" d=\"M167.62,-420.79C175.98,-411.82 189.22,-397.62 199.5,-386.59\"/>\n",
       "<polygon fill=\"black\" stroke=\"black\" points=\"202.09,-388.94 206.35,-379.24 196.97,-384.17 202.09,-388.94\"/>\n",
       "</g>\n",
       "<!-- 140077379808672 -->\n",
       "<g id=\"node9\" class=\"node\">\n",
       "<title>140077379808672</title>\n",
       "<polygon fill=\"lightgrey\" stroke=\"black\" points=\"98,-501 3,-501 3,-482 98,-482 98,-501\"/>\n",
       "<text text-anchor=\"middle\" x=\"50.5\" y=\"-489\" font-family=\"monospace\" font-size=\"10.00\">ViewBackward0</text>\n",
       "</g>\n",
       "<!-- 140077379808672&#45;&gt;140077379808096 -->\n",
       "<g id=\"edge7\" class=\"edge\">\n",
       "<title>140077379808672&#45;&gt;140077379808096</title>\n",
       "<path fill=\"none\" stroke=\"black\" d=\"M66.58,-481.79C84.56,-472.07 113.87,-456.2 134.77,-444.89\"/>\n",
       "<polygon fill=\"black\" stroke=\"black\" points=\"136.58,-447.89 143.71,-440.05 133.24,-441.73 136.58,-447.89\"/>\n",
       "</g>\n",
       "<!-- 140077379808240 -->\n",
       "<g id=\"node10\" class=\"node\">\n",
       "<title>140077379808240</title>\n",
       "<polygon fill=\"lightgrey\" stroke=\"black\" points=\"101,-568 0,-568 0,-549 101,-549 101,-568\"/>\n",
       "<text text-anchor=\"middle\" x=\"50.5\" y=\"-556\" font-family=\"monospace\" font-size=\"10.00\">IndexBackward0</text>\n",
       "</g>\n",
       "<!-- 140077379808240&#45;&gt;140077379808672 -->\n",
       "<g id=\"edge8\" class=\"edge\">\n",
       "<title>140077379808240&#45;&gt;140077379808672</title>\n",
       "<path fill=\"none\" stroke=\"black\" d=\"M50.5,-548.73C50.5,-539.18 50.5,-523.62 50.5,-511.28\"/>\n",
       "<polygon fill=\"black\" stroke=\"black\" points=\"54,-511.13 50.5,-501.13 47,-511.13 54,-511.13\"/>\n",
       "</g>\n",
       "<!-- 140077379808720 -->\n",
       "<g id=\"node11\" class=\"node\">\n",
       "<title>140077379808720</title>\n",
       "<polygon fill=\"lightgrey\" stroke=\"black\" points=\"101,-629 0,-629 0,-610 101,-610 101,-629\"/>\n",
       "<text text-anchor=\"middle\" x=\"50.5\" y=\"-617\" font-family=\"monospace\" font-size=\"10.00\">AccumulateGrad</text>\n",
       "</g>\n",
       "<!-- 140077379808720&#45;&gt;140077379808240 -->\n",
       "<g id=\"edge9\" class=\"edge\">\n",
       "<title>140077379808720&#45;&gt;140077379808240</title>\n",
       "<path fill=\"none\" stroke=\"black\" d=\"M50.5,-609.79C50.5,-601.6 50.5,-589.06 50.5,-578.55\"/>\n",
       "<polygon fill=\"black\" stroke=\"black\" points=\"54,-578.24 50.5,-568.24 47,-578.24 54,-578.24\"/>\n",
       "</g>\n",
       "<!-- 140077565799584 -->\n",
       "<g id=\"node12\" class=\"node\">\n",
       "<title>140077565799584</title>\n",
       "<polygon fill=\"lightblue\" stroke=\"black\" points=\"83,-696 18,-696 18,-665 83,-665 83,-696\"/>\n",
       "<text text-anchor=\"middle\" x=\"50.5\" y=\"-672\" font-family=\"monospace\" font-size=\"10.00\"> (27, 2)</text>\n",
       "</g>\n",
       "<!-- 140077565799584&#45;&gt;140077379808720 -->\n",
       "<g id=\"edge10\" class=\"edge\">\n",
       "<title>140077565799584&#45;&gt;140077379808720</title>\n",
       "<path fill=\"none\" stroke=\"black\" d=\"M50.5,-664.92C50.5,-657.22 50.5,-647.69 50.5,-639.43\"/>\n",
       "<polygon fill=\"black\" stroke=\"black\" points=\"54,-639.25 50.5,-629.25 47,-639.25 54,-639.25\"/>\n",
       "</g>\n",
       "<!-- 140077379807424 -->\n",
       "<g id=\"node13\" class=\"node\">\n",
       "<title>140077379807424</title>\n",
       "<polygon fill=\"lightgrey\" stroke=\"black\" points=\"217,-501 116,-501 116,-482 217,-482 217,-501\"/>\n",
       "<text text-anchor=\"middle\" x=\"166.5\" y=\"-489\" font-family=\"monospace\" font-size=\"10.00\">AccumulateGrad</text>\n",
       "</g>\n",
       "<!-- 140077379807424&#45;&gt;140077379808096 -->\n",
       "<g id=\"edge11\" class=\"edge\">\n",
       "<title>140077379807424&#45;&gt;140077379808096</title>\n",
       "<path fill=\"none\" stroke=\"black\" d=\"M165.47,-481.79C164.48,-473.52 162.98,-460.79 161.72,-450.21\"/>\n",
       "<polygon fill=\"black\" stroke=\"black\" points=\"165.19,-449.76 160.54,-440.24 158.24,-450.58 165.19,-449.76\"/>\n",
       "</g>\n",
       "<!-- 140077377296384 -->\n",
       "<g id=\"node14\" class=\"node\">\n",
       "<title>140077377296384</title>\n",
       "<polygon fill=\"lightblue\" stroke=\"black\" points=\"202,-574 131,-574 131,-543 202,-543 202,-574\"/>\n",
       "<text text-anchor=\"middle\" x=\"166.5\" y=\"-550\" font-family=\"monospace\" font-size=\"10.00\"> (6, 100)</text>\n",
       "</g>\n",
       "<!-- 140077377296384&#45;&gt;140077379807424 -->\n",
       "<g id=\"edge12\" class=\"edge\">\n",
       "<title>140077377296384&#45;&gt;140077379807424</title>\n",
       "<path fill=\"none\" stroke=\"black\" d=\"M166.5,-542.75C166.5,-533.39 166.5,-521.19 166.5,-511.16\"/>\n",
       "<polygon fill=\"black\" stroke=\"black\" points=\"170,-511.02 166.5,-501.02 163,-511.02 170,-511.02\"/>\n",
       "</g>\n",
       "<!-- 140077379804640 -->\n",
       "<g id=\"node15\" class=\"node\">\n",
       "<title>140077379804640</title>\n",
       "<polygon fill=\"lightgrey\" stroke=\"black\" points=\"320,-440 219,-440 219,-421 320,-421 320,-440\"/>\n",
       "<text text-anchor=\"middle\" x=\"269.5\" y=\"-428\" font-family=\"monospace\" font-size=\"10.00\">AccumulateGrad</text>\n",
       "</g>\n",
       "<!-- 140077379804640&#45;&gt;140077379806944 -->\n",
       "<g id=\"edge13\" class=\"edge\">\n",
       "<title>140077379804640&#45;&gt;140077379806944</title>\n",
       "<path fill=\"none\" stroke=\"black\" d=\"M261.38,-420.79C253.02,-411.82 239.78,-397.62 229.5,-386.59\"/>\n",
       "<polygon fill=\"black\" stroke=\"black\" points=\"232.03,-384.17 222.65,-379.24 226.91,-388.94 232.03,-384.17\"/>\n",
       "</g>\n",
       "<!-- 140077377304464 -->\n",
       "<g id=\"node16\" class=\"node\">\n",
       "<title>140077377304464</title>\n",
       "<polygon fill=\"lightblue\" stroke=\"black\" points=\"296.5,-507 242.5,-507 242.5,-476 296.5,-476 296.5,-507\"/>\n",
       "<text text-anchor=\"middle\" x=\"269.5\" y=\"-483\" font-family=\"monospace\" font-size=\"10.00\"> (100)</text>\n",
       "</g>\n",
       "<!-- 140077377304464&#45;&gt;140077379804640 -->\n",
       "<g id=\"edge14\" class=\"edge\">\n",
       "<title>140077377304464&#45;&gt;140077379804640</title>\n",
       "<path fill=\"none\" stroke=\"black\" d=\"M269.5,-475.92C269.5,-468.22 269.5,-458.69 269.5,-450.43\"/>\n",
       "<polygon fill=\"black\" stroke=\"black\" points=\"273,-450.25 269.5,-440.25 266,-450.25 273,-450.25\"/>\n",
       "</g>\n",
       "<!-- 140077379804496 -->\n",
       "<g id=\"node17\" class=\"node\">\n",
       "<title>140077379804496</title>\n",
       "<polygon fill=\"lightgrey\" stroke=\"black\" points=\"381,-312 280,-312 280,-293 381,-293 381,-312\"/>\n",
       "<text text-anchor=\"middle\" x=\"330.5\" y=\"-300\" font-family=\"monospace\" font-size=\"10.00\">AccumulateGrad</text>\n",
       "</g>\n",
       "<!-- 140077379804496&#45;&gt;140077379805792 -->\n",
       "<g id=\"edge15\" class=\"edge\">\n",
       "<title>140077379804496&#45;&gt;140077379805792</title>\n",
       "<path fill=\"none\" stroke=\"black\" d=\"M329.47,-292.79C328.48,-284.52 326.98,-271.79 325.72,-261.21\"/>\n",
       "<polygon fill=\"black\" stroke=\"black\" points=\"329.19,-260.76 324.54,-251.24 322.24,-261.58 329.19,-260.76\"/>\n",
       "</g>\n",
       "<!-- 140077377296064 -->\n",
       "<g id=\"node18\" class=\"node\">\n",
       "<title>140077377296064</title>\n",
       "<polygon fill=\"lightblue\" stroke=\"black\" points=\"369,-385 292,-385 292,-354 369,-354 369,-385\"/>\n",
       "<text text-anchor=\"middle\" x=\"330.5\" y=\"-361\" font-family=\"monospace\" font-size=\"10.00\"> (100, 27)</text>\n",
       "</g>\n",
       "<!-- 140077377296064&#45;&gt;140077379804496 -->\n",
       "<g id=\"edge16\" class=\"edge\">\n",
       "<title>140077377296064&#45;&gt;140077379804496</title>\n",
       "<path fill=\"none\" stroke=\"black\" d=\"M330.5,-353.75C330.5,-344.39 330.5,-332.19 330.5,-322.16\"/>\n",
       "<polygon fill=\"black\" stroke=\"black\" points=\"334,-322.02 330.5,-312.02 327,-322.02 334,-322.02\"/>\n",
       "</g>\n",
       "<!-- 140077379810160 -->\n",
       "<g id=\"node19\" class=\"node\">\n",
       "<title>140077379810160</title>\n",
       "<polygon fill=\"lightgrey\" stroke=\"black\" points=\"484,-251 383,-251 383,-232 484,-232 484,-251\"/>\n",
       "<text text-anchor=\"middle\" x=\"433.5\" y=\"-239\" font-family=\"monospace\" font-size=\"10.00\">AccumulateGrad</text>\n",
       "</g>\n",
       "<!-- 140077379810160&#45;&gt;140077379809872 -->\n",
       "<g id=\"edge17\" class=\"edge\">\n",
       "<title>140077379810160&#45;&gt;140077379809872</title>\n",
       "<path fill=\"none\" stroke=\"black\" d=\"M424.42,-231.75C416.41,-224.03 404.54,-212.6 394.88,-203.28\"/>\n",
       "<polygon fill=\"black\" stroke=\"black\" points=\"397.04,-200.51 387.41,-196.09 392.19,-205.55 397.04,-200.51\"/>\n",
       "</g>\n",
       "<!-- 140077377298064 -->\n",
       "<g id=\"node20\" class=\"node\">\n",
       "<title>140077377298064</title>\n",
       "<polygon fill=\"lightblue\" stroke=\"black\" points=\"460.5,-318 406.5,-318 406.5,-287 460.5,-287 460.5,-318\"/>\n",
       "<text text-anchor=\"middle\" x=\"433.5\" y=\"-294\" font-family=\"monospace\" font-size=\"10.00\"> (27)</text>\n",
       "</g>\n",
       "<!-- 140077377298064&#45;&gt;140077379810160 -->\n",
       "<g id=\"edge18\" class=\"edge\">\n",
       "<title>140077377298064&#45;&gt;140077379810160</title>\n",
       "<path fill=\"none\" stroke=\"black\" d=\"M433.5,-286.92C433.5,-279.22 433.5,-269.69 433.5,-261.43\"/>\n",
       "<polygon fill=\"black\" stroke=\"black\" points=\"437,-261.25 433.5,-251.25 430,-261.25 437,-261.25\"/>\n",
       "</g>\n",
       "</g>\n",
       "</svg>\n"
      ],
      "text/plain": [
       "<graphviz.graphs.Digraph at 0x7f664e76e3e0>"
      ]
     },
     "metadata": {},
     "output_type": "display_data"
    }
   ],
   "source": [
    "from torchviz import make_dot\n",
    "from IPython.display import display\n",
    "graph = make_dot(loss)\n",
    "display(graph) # W O W ! ! ! ! ! ! !"
   ]
  },
  {
   "cell_type": "code",
   "execution_count": 197,
   "id": "93c16dd9-21d4-435f-9d85-89c57b4057ef",
   "metadata": {},
   "outputs": [
    {
     "data": {
      "text/plain": [
       "'computation_graph.pdf'"
      ]
     },
     "execution_count": 197,
     "metadata": {},
     "output_type": "execute_result"
    }
   ],
   "source": [
    "# Save the graph as a PDF file\n",
    "graph.render(\"computation_graph\")"
   ]
  },
  {
   "cell_type": "code",
   "execution_count": 202,
   "id": "b05b4902-5344-46d9-98b9-c88c2115ada3",
   "metadata": {},
   "outputs": [
    {
     "name": "stdout",
     "output_type": "stream",
     "text": [
      "<NllLossBackward0 object at 0x7f664e76ed70>\n"
     ]
    }
   ],
   "source": [
    "print(loss.grad_fn)"
   ]
  },
  {
   "cell_type": "code",
   "execution_count": 227,
   "id": "3b8a61e8-85ad-4205-8757-233932c5011b",
   "metadata": {},
   "outputs": [
    {
     "name": "stdout",
     "output_type": "stream",
     "text": [
      "((<LogSoftmaxBackward0 object at 0x7f664e776d10>, 0),)\n"
     ]
    }
   ],
   "source": [
    "print(loss.grad_fn.next_functions)"
   ]
  },
  {
   "cell_type": "code",
   "execution_count": 226,
   "id": "67d515df-411f-4c1f-be2c-eaaa5ec8c325",
   "metadata": {},
   "outputs": [
    {
     "name": "stdout",
     "output_type": "stream",
     "text": [
      "((<AddBackward0 object at 0x7f664e630e20>, 0),)\n"
     ]
    }
   ],
   "source": [
    "print(loss.grad_fn.next_functions[0][0].next_functions)"
   ]
  },
  {
   "cell_type": "code",
   "execution_count": 229,
   "id": "2037e307-882b-40e3-9b00-08cdef06e7fe",
   "metadata": {},
   "outputs": [
    {
     "name": "stdout",
     "output_type": "stream",
     "text": [
      "((<MmBackward0 object at 0x7f664e6313c0>, 0), (<AccumulateGrad object at 0x7f664e631db0>, 0))\n"
     ]
    }
   ],
   "source": [
    "print(loss.grad_fn.next_functions[0][0].next_functions[0][0].next_functions)\n",
    "# etc. -> that's how we could build such graph!"
   ]
  },
  {
   "cell_type": "code",
   "execution_count": null,
   "id": "13089527-d21a-42ea-9cd8-28f4a7a26041",
   "metadata": {},
   "outputs": [],
   "source": []
  }
 ],
 "metadata": {
  "kernelspec": {
   "display_name": "Python 3 (ipykernel)",
   "language": "python",
   "name": "python3"
  },
  "language_info": {
   "codemirror_mode": {
    "name": "ipython",
    "version": 3
   },
   "file_extension": ".py",
   "mimetype": "text/x-python",
   "name": "python",
   "nbconvert_exporter": "python",
   "pygments_lexer": "ipython3",
   "version": "3.10.12"
  }
 },
 "nbformat": 4,
 "nbformat_minor": 5
}
