{
 "cells": [
  {
   "cell_type": "code",
   "execution_count": 153,
   "id": "601016cf-53cc-4054-802e-5079eedf9fa4",
   "metadata": {},
   "outputs": [],
   "source": [
    "# load ~32000 names from a file, one in each line\n",
    "with open(\"names.txt\", \"r\") as infile:\n",
    "    words = infile.read().splitlines() # ignores \\n"
   ]
  },
  {
   "cell_type": "code",
   "execution_count": 154,
   "id": "434cc322-8888-4cbe-b7ab-dfbc7475cf7e",
   "metadata": {},
   "outputs": [
    {
     "data": {
      "text/plain": [
       "['emma',\n",
       " 'olivia',\n",
       " 'ava',\n",
       " 'isabella',\n",
       " 'sophia',\n",
       " 'charlotte',\n",
       " 'mia',\n",
       " 'amelia',\n",
       " 'harper',\n",
       " 'evelyn']"
      ]
     },
     "execution_count": 154,
     "metadata": {},
     "output_type": "execute_result"
    }
   ],
   "source": [
    "words[:10]"
   ]
  },
  {
   "cell_type": "code",
   "execution_count": 155,
   "id": "5b067a4f-0eb9-4ce1-83f6-af9403d0c238",
   "metadata": {},
   "outputs": [
    {
     "data": {
      "text/plain": [
       "32033"
      ]
     },
     "execution_count": 155,
     "metadata": {},
     "output_type": "execute_result"
    }
   ],
   "source": [
    "len(words)"
   ]
  },
  {
   "cell_type": "code",
   "execution_count": 156,
   "id": "e544a74a-1793-4136-9e81-2a284d5003e2",
   "metadata": {},
   "outputs": [],
   "source": [
    "# ---------------- tensor instead of a dictionary ----------------"
   ]
  },
  {
   "cell_type": "code",
   "execution_count": 157,
   "id": "7b9f0799-f819-4bae-80e1-aafb79da3b51",
   "metadata": {},
   "outputs": [],
   "source": [
    "chars = sorted(set(\"\".join(words) + \".\"))"
   ]
  },
  {
   "cell_type": "code",
   "execution_count": 158,
   "id": "b4649eab-61ed-43c7-9ad3-6a09fa82c4b1",
   "metadata": {},
   "outputs": [],
   "source": [
    "ctoi = {c: i for i, c in enumerate(chars)}"
   ]
  },
  {
   "cell_type": "code",
   "execution_count": 159,
   "id": "8b77ae52-cf09-48a4-8fe5-75811bffe755",
   "metadata": {
    "scrolled": true
   },
   "outputs": [],
   "source": [
    "itoc = {i: c for c, i in ctoi.items()}"
   ]
  },
  {
   "cell_type": "code",
   "execution_count": 160,
   "id": "d10f8c82-05b1-4020-99f9-e6a6f740f76e",
   "metadata": {},
   "outputs": [],
   "source": [
    "# actually, it will be more convenient to keep these values in a 2D array (tensor/matrix)\n",
    "import torch"
   ]
  },
  {
   "cell_type": "code",
   "execution_count": 162,
   "id": "7e8b93ca-907b-4e1b-99e0-75334894f13c",
   "metadata": {},
   "outputs": [],
   "source": [
    "contexts = []\n",
    "\n",
    "for i in range(len(chars)):\n",
    "    for j in range(len(chars)):\n",
    "        contexts.append(chars[i] + chars[j])"
   ]
  },
  {
   "cell_type": "code",
   "execution_count": 163,
   "id": "fd2cb5b2-c630-4dbd-b984-97449d04ed9b",
   "metadata": {},
   "outputs": [],
   "source": [
    "ctxtoi = {ctx: i for i, ctx in enumerate(contexts)}"
   ]
  },
  {
   "cell_type": "code",
   "execution_count": 164,
   "id": "f971161e-4411-4dfb-aeb9-20c1f509b11d",
   "metadata": {},
   "outputs": [],
   "source": [
    "itoctx = {i: ctx for i, ctx in enumerate(ctxtoi)} # no .items() because i only need keys"
   ]
  },
  {
   "cell_type": "code",
   "execution_count": 348,
   "id": "1c2b897e-381a-48a5-9746-127f32458753",
   "metadata": {},
   "outputs": [],
   "source": [
    "N = torch.zeros((27 * 27, 27), dtype=torch.int32) # 26 letters + the special character\n",
    "\n",
    "# create a 2D array with each cell corresponding to a particular trigram and its value being the number of occurrences\n",
    "for w in words:\n",
    "    # print(w)\n",
    "    chars = [\".\"] * 2 + list(w) + [\".\"] * 1 # special start/end character x2 now, start is: ..s, end is e. (only one at the end!)\n",
    "    # loop through characters in groups of 3\n",
    "    for i in range(len(chars) - 2):\n",
    "        ctx = \"\".join(chars[i:i+2])\n",
    "        ch = chars[i+2]\n",
    "        # print(f\"{ctx}{ch}\")\n",
    "        idx1 = ctxtoi[ctx]\n",
    "        idx2 = ctoi[ch]\n",
    "        N[idx1][idx2] += 1"
   ]
  },
  {
   "cell_type": "code",
   "execution_count": 325,
   "id": "a62d8267-1875-45de-9a27-8a8935dfa6df",
   "metadata": {},
   "outputs": [
    {
     "data": {
      "text/plain": [
       "<matplotlib.image.AxesImage at 0x7ff9d7da9630>"
      ]
     },
     "execution_count": 325,
     "metadata": {},
     "output_type": "execute_result"
    },
    {
     "data": {
      "image/png": "[encoded data removed]",
      "text/plain": [
       "<Figure size 640x480 with 1 Axes>"
      ]
     },
     "metadata": {},
     "output_type": "display_data"
    }
   ],
   "source": [
    "plt.imshow(N[:28], aspect=\"auto\")"
   ]
  },
  {
   "cell_type": "code",
   "execution_count": 349,
   "id": "55db8bb7-47d7-4cd3-a358-ef67d4affc74",
   "metadata": {},
   "outputs": [
    {
     "data": {
      "text/plain": [
       "(tensor([   0, 4410, 1306, 1542, 1690, 1531,  417,  669,  874,  591, 2422, 2963,\n",
       "         1572, 2538, 1146,  394,  515,   92, 1639, 2055, 1308,   78,  376,  307,\n",
       "          134,  535,  929], dtype=torch.int32),\n",
       " tensor([  0, 207, 190,  31, 366,  55,  21,  17,  91, 154,  27,  75, 632, 384,\n",
       "         623,  10,  17,   9, 482, 194,  72, 152, 243,   6,  27, 173, 152],\n",
       "        dtype=torch.int32),\n",
       " tensor([0, 0, 0, 0, 0, 0, 0, 0, 0, 0, 0, 0, 0, 0, 0, 0, 0, 0, 0, 0, 0, 0, 0, 0,\n",
       "         0, 0, 0], dtype=torch.int32),\n",
       " 'a.')"
      ]
     },
     "execution_count": 349,
     "metadata": {},
     "output_type": "execute_result"
    }
   ],
   "source": [
    "N[0], N[1], N[27], contexts[27] # raw counts"
   ]
  },
  {
   "cell_type": "code",
   "execution_count": 328,
   "id": "6ac0a1b5-853b-42fa-8731-aa9869430484",
   "metadata": {},
   "outputs": [
    {
     "data": {
      "text/plain": [
       "(torch.Size([27]), torch.Size([729, 27]))"
      ]
     },
     "execution_count": 328,
     "metadata": {},
     "output_type": "execute_result"
    }
   ],
   "source": [
    "N[0].shape, N.shape"
   ]
  },
  {
   "cell_type": "code",
   "execution_count": 327,
   "id": "07b542a9-4999-477c-9149-7bf661568228",
   "metadata": {},
   "outputs": [
    {
     "data": {
      "text/plain": [
       "tensor([0.0000, 0.1377, 0.0408, 0.0481, 0.0528, 0.0478, 0.0130, 0.0209, 0.0273,\n",
       "        0.0184, 0.0756, 0.0925, 0.0491, 0.0792, 0.0358, 0.0123, 0.0161, 0.0029,\n",
       "        0.0512, 0.0642, 0.0408, 0.0024, 0.0117, 0.0096, 0.0042, 0.0167, 0.0290])"
      ]
     },
     "execution_count": 327,
     "metadata": {},
     "output_type": "execute_result"
    }
   ],
   "source": [
    "p = N[0].float() # probabilitity of a given character to start the word (N[0] is the starting char)\n",
    "p /= p.sum() # normalize so that we get a distribution\n",
    "p # sum of that is now 1"
   ]
  },
  {
   "cell_type": "code",
   "execution_count": 260,
   "id": "065189f8-d182-4e16-befc-bc6159ebc09d",
   "metadata": {},
   "outputs": [
    {
     "data": {
      "text/plain": [
       "'.'"
      ]
     },
     "execution_count": 260,
     "metadata": {},
     "output_type": "execute_result"
    }
   ],
   "source": [
    "gen = torch.Generator().manual_seed(2147483647)\n",
    "idx = torch.multinomial(p, num_samples=1, replacement=True, generator=gen).item() # \"convert\" probabilities (p) to ints\n",
    "itoc[idx]"
   ]
  },
  {
   "cell_type": "code",
   "execution_count": 350,
   "id": "9a73a6ea-92e2-4b33-a439-d3ed5e0df6f8",
   "metadata": {},
   "outputs": [
    {
     "data": {
      "text/plain": [
       "torch.Size([729, 27])"
      ]
     },
     "execution_count": 350,
     "metadata": {},
     "output_type": "execute_result"
    }
   ],
   "source": [
    "P = (N+1).float() # +1 for model smoothing (so that if there's no bigram, the cost won't explode to inf)\n",
    "# 729x27 divided by 729x1\n",
    "P /= P.sum(1, keepdim=True) # broadcasting, 1 says we want sums of rows (a column vector, 27x1), every P row gets divided by the row sum\n",
    "P.shape"
   ]
  },
  {
   "cell_type": "code",
   "execution_count": 351,
   "id": "ba4f0284-f881-4ac8-85f8-a532230edf3f",
   "metadata": {},
   "outputs": [
    {
     "name": "stdout",
     "output_type": "stream",
     "text": [
      "junide.\n",
      "jakasid.\n",
      "prelay.\n",
      "adin.\n",
      "kairritoper.\n",
      "sathen.\n",
      "sameia.\n",
      "yanileniassibduinrwin.\n",
      "lessiyanayla.\n",
      "te.\n",
      "farmumthyfortumj.\n",
      "ponn.\n",
      "lena.\n",
      "jaylicore.\n",
      "ya.\n",
      "jocken.\n",
      "jamilyn.\n",
      "kmikim.\n",
      "yah.\n",
      "sanaasnhavi.\n"
     ]
    }
   ],
   "source": [
    "# actual sampling!\n",
    "gen = torch.Generator().manual_seed(2147483647)\n",
    "\n",
    "for i in range(20):\n",
    "    name = []\n",
    "    ctx = \"..\"\n",
    "    while True:\n",
    "        p = P[ctxtoi[ctx]]\n",
    "        # choose a letter from a row containing trigrams starting with a given context\n",
    "        # this row index then becomes index that we use for a column for the next letter\n",
    "        idx = torch.multinomial(p, num_samples=1, replacement=True, generator=gen).item()\n",
    "        \n",
    "        name.append(itoc[idx]) # add a letter to the name (1st letter of a bigram)\n",
    "        ctx = ctx[1:] + itoc[idx]\n",
    "        if idx == 0: # special \".\" character\n",
    "            break\n",
    "    print(\"\".join(name))"
   ]
  },
  {
   "cell_type": "code",
   "execution_count": 352,
   "id": "1f3d151e-0293-42aa-bfdf-a865bbda4cb4",
   "metadata": {},
   "outputs": [
    {
     "data": {
      "text/plain": [
       "(2.2119739055633545, 228146)"
      ]
     },
     "execution_count": 352,
     "metadata": {},
     "output_type": "execute_result"
    }
   ],
   "source": [
    "# log likelihood\n",
    "n = 0\n",
    "log_likelihood = 0.0\n",
    "\n",
    "for w in words:\n",
    "    chars = [\".\"] * 2 + list(w) + [\".\"] * 1 # special start/end character x2 now, start is: ..s, end is e..\n",
    "    # loop through characters in groups of 3\n",
    "    for i in range(len(chars) - 2):\n",
    "        ctx = \"\".join(chars[i:i+2])\n",
    "        ch = chars[i+2]\n",
    "        idx1 = ctxtoi[ctx]\n",
    "        idx2 = ctoi[ch]\n",
    "        prob = P[idx1][idx2]\n",
    "        logprob = torch.log(prob)\n",
    "        log_likelihood += logprob\n",
    "        n += 1\n",
    "        # print(f\"{ctx} {ch} prob: {prob:.4f} logprob: {logprob:.4f}\")\n",
    "\n",
    "nll = -log_likelihood # negative log likelihood\n",
    "avg_nll = nll / n\n",
    "avg_nll.item(), n"
   ]
  },
  {
   "cell_type": "code",
   "execution_count": 313,
   "id": "df7384fd-b964-4a39-aa0a-6f6c8cea84de",
   "metadata": {},
   "outputs": [],
   "source": [
    "# 2 letter context - 2.4255354404449463\n",
    "# 3 letter context - 2.2119739055633545 (1 dot at the end), \n",
    "# 2.092747449874878 (1 dot at the end and the start) -> \"fake\" loss i think -> no case of ..->a, ..->b etc. so the loss is lower\n",
    "# but the generated words are actually the same or even worse because we choose the 1st letter randomly instead of what\n",
    "# letter is the first letter in most cases (I think)\n",
    "# 1.9262396097183228 (2 dots everywhere) -> \"fake\" loss -> any context like \"x.\" is followed by \".\" so it's an easy loss decrease for\n",
    "# but we gain no information from it, so samples are the same quality (check imshow N[27] when .. at the end for example!)\n",
    "# also -> a. . prob: 1.0000 logprob: 0.0000, e. . prob: 1.0000 logprob: 0.0000 (with smoothening it's like 0.9960\n",
    "# because of the +1 everywhere)\n",
    "# quite an improvement!"
   ]
  },
  {
   "cell_type": "code",
   "execution_count": 353,
   "id": "b076393e-c177-4d15-8a77-059ea610d8c1",
   "metadata": {},
   "outputs": [],
   "source": [
    "# 2 . start\n",
    "# junide.\n",
    "# jakasid.\n",
    "# prelay.\n",
    "# adin.\n",
    "# kairritoper.\n",
    "\n",
    "# sathen.\n",
    "# sameia.\n",
    "# yanileniassibduinrwin.\n",
    "# lessiyanayla.\n",
    "# te.\n",
    "\n",
    "# farmumthyfortumj.\n",
    "# ponn.\n",
    "# lena.\n",
    "# jaylicore.\n",
    "# ya.\n",
    "\n",
    "# jocken.\n",
    "# jamilyn.\n",
    "# kmikim.\n",
    "# yah.\n",
    "# sanaasnhavi."
   ]
  },
  {
   "cell_type": "code",
   "execution_count": 354,
   "id": "ccc42cbd-71f7-49e9-a02b-c20e0723c932",
   "metadata": {},
   "outputs": [],
   "source": [
    "# 1 . start\n",
    "# junide.\n",
    "# ilyasid.\n",
    "# prelay.\n",
    "# ocin.\n",
    "# fairritoper.\n",
    "\n",
    "# sathen.\n",
    "# dannaaryanileniassibduinrwin.\n",
    "# lessiyanayla.\n",
    "# te.\n",
    "# farmumthyfortumj.\n",
    "\n",
    "# ponn.\n",
    "# zena.\n",
    "# jaylicore.\n",
    "# ya.\n",
    "# zoffra.\n",
    "\n",
    "# jamilyn.\n",
    "# fmouis.\n",
    "# yah.\n",
    "# wanaasnhavi.\n",
    "# honszxhddion."
   ]
  }
 ],
 "metadata": {
  "kernelspec": {
   "display_name": "Python 3 (ipykernel)",
   "language": "python",
   "name": "python3"
  },
  "language_info": {
   "codemirror_mode": {
    "name": "ipython",
    "version": 3
   },
   "file_extension": ".py",
   "mimetype": "text/x-python",
   "name": "python",
   "nbconvert_exporter": "python",
   "pygments_lexer": "ipython3",
   "version": "3.10.12"
  }
 },
 "nbformat": 4,
 "nbformat_minor": 5
}
