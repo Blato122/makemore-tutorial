{
 "cells": [
  {
   "cell_type": "code",
   "execution_count": 168,
   "id": "165d1eed-5b6c-4507-94c5-34be9d262eef",
   "metadata": {},
   "outputs": [],
   "source": [
    "# word feature vector:\n",
    "# In natural language processing (NLP), a word embedding is a representation of a word. \n",
    "# The embedding is used in text analysis. Typically, the representation is a real-valued \n",
    "# vector that encodes the meaning of the word in such a way that words that are closer in \n",
    "# the vector space are expected to be similar in meaning. Word embeddings can be obtained \n",
    "# using language modeling and feature learning techniques, where words or phrases from the \n",
    "# vocabulary are mapped to vectors of real numbers. \n",
    "# https://en.wikipedia.org/wiki/Word_embedding\n",
    "# https://www.youtube.com/watch?v=gQddtTdmG_8\n",
    "# https://www.baeldung.com/cs/dimensionality-word-embeddings"
   ]
  },
  {
   "cell_type": "code",
   "execution_count": 169,
   "id": "788651f2-5e55-44e5-bdee-9f78989b4837",
   "metadata": {},
   "outputs": [],
   "source": [
    "# at first the words are initialized and spread out randomly\n",
    "# then, we're gonna tune embeddings of these words using backprop\n",
    "# by maximizing the log-likelihood"
   ]
  },
  {
   "cell_type": "code",
   "execution_count": 170,
   "id": "b6af455a-dc85-4aa5-905e-06a0ad30f697",
   "metadata": {},
   "outputs": [],
   "source": [
    "# continuation of mlp_ep2"
   ]
  },
  {
   "cell_type": "code",
   "execution_count": 171,
   "id": "4ca3a239-a110-4473-9c1b-75e80152a150",
   "metadata": {},
   "outputs": [],
   "source": [
    "import torch\n",
    "import torch.nn.functional as F\n",
    "import matplotlib.pyplot as plt"
   ]
  },
  {
   "cell_type": "code",
   "execution_count": 172,
   "id": "8856f237-9653-49b3-8329-98a51d6920e6",
   "metadata": {},
   "outputs": [],
   "source": [
    "# load ~32000 names from a file, one in each line\n",
    "with open(\"names.txt\", \"r\") as infile:\n",
    "    words = infile.read().splitlines() # ignores \\n"
   ]
  },
  {
   "cell_type": "code",
   "execution_count": 173,
   "id": "5d2db9ca-c7e9-4d77-ac85-c98ea6709f89",
   "metadata": {},
   "outputs": [
    {
     "data": {
      "text/plain": [
       "['emma', 'olivia', 'ava', 'isabella', 'sophia']"
      ]
     },
     "execution_count": 173,
     "metadata": {},
     "output_type": "execute_result"
    }
   ],
   "source": [
    "words[:5]"
   ]
  },
  {
   "cell_type": "code",
   "execution_count": 174,
   "id": "75a8d403-5f96-4ef1-8b7e-6ad5d7749782",
   "metadata": {},
   "outputs": [
    {
     "data": {
      "text/plain": [
       "32033"
      ]
     },
     "execution_count": 174,
     "metadata": {},
     "output_type": "execute_result"
    }
   ],
   "source": [
    "len(words)"
   ]
  },
  {
   "cell_type": "code",
   "execution_count": 175,
   "id": "20424b5b-e577-4bc6-9047-2c4f3ba559db",
   "metadata": {},
   "outputs": [
    {
     "data": {
      "text/plain": [
       "27"
      ]
     },
     "execution_count": 175,
     "metadata": {},
     "output_type": "execute_result"
    }
   ],
   "source": [
    "chars = sorted(set(\"\".join(words) + \".\"))\n",
    "vocab_size = len(chars)\n",
    "vocab_size"
   ]
  },
  {
   "cell_type": "code",
   "execution_count": 176,
   "id": "e7c6b76a-09cf-42e6-bd91-e8faa531992b",
   "metadata": {},
   "outputs": [],
   "source": [
    "ctoi = {c: i for i, c in enumerate(chars)}"
   ]
  },
  {
   "cell_type": "code",
   "execution_count": 177,
   "id": "2e090b6f-8591-47d1-8ff4-8a65abcc4375",
   "metadata": {},
   "outputs": [],
   "source": [
    "itoc = {i: c for c, i in ctoi.items()}"
   ]
  },
  {
   "cell_type": "code",
   "execution_count": 178,
   "id": "fb9a3625-e671-448c-98d7-57c537e1608a",
   "metadata": {},
   "outputs": [],
   "source": [
    "# building a neural network that takes three (or context_len) characters (a context)\n",
    "# each character has an embedding in a lookup table\n",
    "# the nn has 27 outputs corresponding to a letter that we expect to get from a given context\n",
    "# we will check that using our Y tensor"
   ]
  },
  {
   "cell_type": "code",
   "execution_count": 179,
   "id": "4b6c8aaa-32d3-4056-b145-b06a80248410",
   "metadata": {},
   "outputs": [
    {
     "name": "stdout",
     "output_type": "stream",
     "text": [
      "torch.Size([182625, 4]) torch.Size([182625])\n",
      "torch.Size([22655, 4]) torch.Size([22655])\n",
      "torch.Size([22866, 4]) torch.Size([22866])\n"
     ]
    }
   ],
   "source": [
    "# building the dataset (with contexts)\n",
    "\n",
    "# training split -> ~80% -> optimize parameters of the model using gradient descent\n",
    "# dev/validation split -> ~10% -> hyperparameter tuning\n",
    "# test split -> ~10% -> evaluate model's final performance\n",
    "\n",
    "# updated so that we can also create dev/test splits\n",
    "\n",
    "context_len = 4 # context length - how many chars to take into account to predict the next one?\n",
    "\n",
    "def build_dataset(words):\n",
    "    X, Y = [], [] # X - input to the neural net, Y - expected labels for each example inside X\n",
    "    \n",
    "    for w in words:\n",
    "        # print(w)\n",
    "        context = [0] * context_len # ...\n",
    "        for c in w + \".\":\n",
    "            idx = ctoi[c]\n",
    "            X.append(context)\n",
    "            Y.append(idx)\n",
    "            # print(\"\".join(itoc[i] for i in context), \"--->\", itoc[idx])\n",
    "            context = context[1:] + [idx]\n",
    "    \n",
    "    X = torch.tensor(X)\n",
    "    Y = torch.tensor(Y)\n",
    "    print(X.shape, Y.shape)\n",
    "    return X, Y\n",
    "\n",
    "import random\n",
    "random.seed(42)\n",
    "random.shuffle(words)\n",
    "n1 = int(0.8 * len(words))\n",
    "n2 = int(0.9 * len(words))\n",
    "\n",
    "Xtr, Ytr = build_dataset(words[:n1])\n",
    "Xdev, Ydev = build_dataset(words[n1:n2])\n",
    "Xtest, Ytest = build_dataset(words[n2:])"
   ]
  },
  {
   "cell_type": "code",
   "execution_count": 180,
   "id": "3440c33f-4cdf-4982-9588-7129d1cf0f2a",
   "metadata": {},
   "outputs": [],
   "source": [
    "# TESTS AND EXPERIMENTS IN THE PREVIOUS NOTEBOOK!"
   ]
  },
  {
   "cell_type": "code",
   "execution_count": 181,
   "id": "328c86eb-1da0-469d-96bc-5d12a5658311",
   "metadata": {},
   "outputs": [],
   "source": [
    "# NOW EVERYTHING ORGANIZED:"
   ]
  },
  {
   "cell_type": "code",
   "execution_count": 182,
   "id": "40073bc0-a62a-4615-949b-397cdac0ca54",
   "metadata": {},
   "outputs": [
    {
     "data": {
      "text/plain": [
       "(torch.Size([182625, 4]), torch.Size([182625]))"
      ]
     },
     "execution_count": 182,
     "metadata": {},
     "output_type": "execute_result"
    }
   ],
   "source": [
    "Xtr.shape, Ytr.shape # the dataset"
   ]
  },
  {
   "cell_type": "code",
   "execution_count": 328,
   "id": "fae7e28d-389e-4a46-ba93-b41c3ba3eb4c",
   "metadata": {},
   "outputs": [
    {
     "data": {
      "text/plain": [
       "tensor(3.2958)"
      ]
     },
     "execution_count": 328,
     "metadata": {},
     "output_type": "execute_result"
    }
   ],
   "source": [
    "-torch.tensor(1/27).log() # that's the initial loss that we're aiming for"
   ]
  },
  {
   "cell_type": "code",
   "execution_count": 395,
   "id": "bfe26fa0-e224-4d36-87a8-fc2ba6ce7c21",
   "metadata": {},
   "outputs": [],
   "source": [
    "hidden_n = 200\n",
    "emb_dim = 8\n",
    "\n",
    "gen = torch.Generator().manual_seed(2147483647)\n",
    "C = torch.randn((vocab_size, emb_dim), generator=gen)\n",
    "W1 = torch.randn((emb_dim * context_len, hidden_n), generator=gen) * (5/3)/(emb_dim * context_len)**0.5 # Kaiming init, so that the preact values are not too extreme for the tanh (so that it doesn't get too saturated)\n",
    "# b1 = torch.randn(hidden_n, generator=gen) # not needed when using BatchNorm, bnbias does its job\n",
    "W2 = torch.randn((hidden_n, vocab_size), generator=gen) * 0.01 # so that the activations take less extreme values and the initial loss is lower\n",
    "b2 = torch.randn(vocab_size, generator=gen) * 0 # because we don't want any bias at the initialization, we're aiming for values close to 0\n",
    "\n",
    "# BatchNorm parameters\n",
    "# bngain and bnbias are needed because we need the activations to be roughly unit Gaussian only at initialization\n",
    "# later, we would like it to be modifiable by the neural net using backprop. We don't want to force it to be Gaussian\n",
    "bngain = torch.ones((1, hidden_n)) # trained using backprop\n",
    "bnbias = torch.zeros((1, hidden_n))\n",
    "bnmean_running = torch.zeros((1, hidden_n)) # not trained by backprop, calculated in the torch.no_grad() section instead\n",
    "bnstd_running = torch.ones((1, hidden_n))\n",
    "eps = 1e-5\n",
    "\n",
    "parameters = [C, W1, W2, b2, bngain, bnbias]"
   ]
  },
  {
   "cell_type": "code",
   "execution_count": 396,
   "id": "17b8798e-8199-46a7-9031-3276e153832b",
   "metadata": {},
   "outputs": [
    {
     "data": {
      "text/plain": [
       "12443"
      ]
     },
     "execution_count": 396,
     "metadata": {},
     "output_type": "execute_result"
    }
   ],
   "source": [
    "sum(p.numel() for p in parameters) # numel <=> nelement"
   ]
  },
  {
   "cell_type": "code",
   "execution_count": 397,
   "id": "5537c79f-389b-4766-98d8-34b8bc2b6c8c",
   "metadata": {},
   "outputs": [],
   "source": [
    "for p in parameters:\n",
    "    p.requires_grad = True"
   ]
  },
  {
   "cell_type": "code",
   "execution_count": 398,
   "id": "0dc890e1-ef2b-4595-8a66-7342280cadeb",
   "metadata": {},
   "outputs": [],
   "source": [
    "# BatchNorm, other stuff:\n",
    "# - used to control the statistics of activations in the neural net\n",
    "# - it also causes to \"couple\" the randomly chosen examples in a batch together, so that their gradients now depend on each other\n",
    "# so now the activations of a single example depend on other examples in a batch, because mean and std are different for different examples\n",
    "# but it actually is not bad, it works as kind of a regularizer, makes it harder to overfit these specific examples"
   ]
  },
  {
   "cell_type": "code",
   "execution_count": 399,
   "id": "fe2a8f84-91e1-4d1d-a13f-c351827b8eb4",
   "metadata": {},
   "outputs": [
    {
     "name": "stdout",
     "output_type": "stream",
     "text": [
      "3.312126874923706\n"
     ]
    }
   ],
   "source": [
    "epochs = 200_000\n",
    "minibatch_size = 64\n",
    "\n",
    "loss_i = []\n",
    "step_i = 0\n",
    "\n",
    "for i in range(epochs):\n",
    "    # create a minibatch\n",
    "    idx = torch.randint(0, Xtr.shape[0], (minibatch_size,)) # get minibatch_size random ints between 0 and 228146 (number of contexts), that will be our minibatch\n",
    "    Xb, Yb = Xtr[idx], Ytr[idx] # batch X and Y\n",
    "    \n",
    "    # forward pass\n",
    "    emb = C[Xb]\n",
    "    h_preact = emb.view(-1, emb_dim * block_size) @ W1 #+ b1 # bias not needed when using BatchNorm, normalization deletes it anyway (by mean subtraction)\n",
    "    # BatchNorm\n",
    "    # we're doing this, because:\n",
    "    # - we don't want the activations passed to tanh be too small, because tanh is pretty inactive (close to linear function)\n",
    "    # - but we don't want the values to be too small or too big as well, because then the tanh is too saturated and the gradients get close to 0\n",
    "        # I understand it as losing information because for extreme values the tanh value is either -1 or 1. No matter if the activation\n",
    "        # is 10, 50 or 100, the tanh will be more or less 1.\n",
    "    # it would be the best if the activations were roughly Gaussian, at least in the initialization\n",
    "    bnmeani = h_preact.mean(0, keepdim=True) # calculate the mean of pre-activation values (mean value over a whole batch (0th dim) -> shape (1, n_hidden)\n",
    "    bnstdi = h_preact.std(0, keepdim=True) # same as above, but standard deviation. Keepdim so that it's (1, n_hidden) and not (n_hidden)\n",
    "    # h_preact is shape (minibatch_size, n_hidden)\n",
    "    h_preact = bngain * ((h_preact - bnmeani) / (bnstdi + eps)) + bnbias # center the batch activations to be unit Gaussian (a normal distribution such that the mean μ = 0 and std σ = 1)\n",
    "    with torch.no_grad(): # used later, when evaluating loss\n",
    "        bnmean_running = 0.999 * bnmean_running + 0.001 * bnmeani\n",
    "        bnstd_running = 0.999 * bnstd_running + 0.001 * bnstdi\n",
    "\n",
    "    # forward pass\n",
    "    h = torch.tanh(h_preact) # hidden layer, (minibatch_size, hidden_n)\n",
    "    logits = h @ W2 + b2 # (32, 27)\n",
    "    loss = F.cross_entropy(logits, Yb) # more efficient, prevents inf and nan for big positive logits\n",
    "    loss_i.append(loss.item())\n",
    "    step_i += 1\n",
    "    \n",
    "    # backward pass\n",
    "    for p in parameters:\n",
    "        p.grad = None\n",
    "    loss.backward() # it works -> see computational graph\n",
    "    \n",
    "    # update\n",
    "    lr = 0.1 if i < epochs / 2 else 0.01\n",
    "    for i, p in enumerate(parameters):\n",
    "        if p.grad == None:\n",
    "            print(i)\n",
    "        p.data += -lr * p.grad\n",
    "\n",
    "    break\n",
    "\n",
    "print(loss.item())\n",
    "# impossible to reach loss 0 because: ... -> e but also ... -> a, etc."
   ]
  },
  {
   "cell_type": "code",
   "execution_count": 400,
   "id": "57c6d1e1-acbf-40ac-af94-2629d651f362",
   "metadata": {},
   "outputs": [
    {
     "name": "stdout",
     "output_type": "stream",
     "text": [
      "torch.Size([64, 200])\n"
     ]
    },
    {
     "data": {
      "image/png": "[encoded data removed]",
      "text/plain": [
       "<Figure size 1200x800 with 1 Axes>"
      ]
     },
     "metadata": {},
     "output_type": "display_data"
    }
   ],
   "source": [
    "print(h.shape)\n",
    "plt.figure(figsize=(12, 8))\n",
    "precision = 0.97\n",
    "plt.imshow(h.abs() > precision, cmap=\"gray\", interpolation=\"nearest\")\n",
    "for i in range(h.shape[1]):\n",
    "    if all(h[:, i].abs() > precision):\n",
    "        print(f\"im dead {i}\") # whole column white -> dead neuron"
   ]
  },
  {
   "cell_type": "code",
   "execution_count": 401,
   "id": "e5858cdf-69a3-47d2-8838-76fb1403a7a0",
   "metadata": {},
   "outputs": [
    {
     "data": {
      "image/png": "[encoded data removed]",
      "text/plain": [
       "<Figure size 640x480 with 1 Axes>"
      ]
     },
     "metadata": {},
     "output_type": "display_data"
    }
   ],
   "source": [
    "plt.hist(h.view(-1).tolist(), 50); # BatchNorm makes hell of a difference here!!!"
   ]
  },
  {
   "cell_type": "code",
   "execution_count": 402,
   "id": "164e6427-99ae-4421-a712-15df06809f07",
   "metadata": {},
   "outputs": [
    {
     "data": {
      "image/png": "[encoded data removed]",
      "text/plain": [
       "<Figure size 640x480 with 1 Axes>"
      ]
     },
     "metadata": {},
     "output_type": "display_data"
    }
   ],
   "source": [
    "plt.hist(h_preact.view(-1).tolist(), 50); # tanh(2) ~= 0.96"
   ]
  },
  {
   "cell_type": "code",
   "execution_count": 403,
   "id": "74f2986a-980b-4cae-8261-d081e646d284",
   "metadata": {},
   "outputs": [
    {
     "data": {
      "text/plain": [
       "[<matplotlib.lines.Line2D at 0x7f2e371d92a0>]"
      ]
     },
     "execution_count": 403,
     "metadata": {},
     "output_type": "execute_result"
    },
    {
     "data": {
      "image/png": "[encoded data removed]",
      "text/plain": [
       "<Figure size 640x480 with 1 Axes>"
      ]
     },
     "metadata": {},
     "output_type": "display_data"
    }
   ],
   "source": [
    "plt.plot(range(step_i), loss_i)"
   ]
  },
  {
   "cell_type": "code",
   "execution_count": null,
   "id": "7f48548f-c4c3-49f9-b865-2eabe66bc022",
   "metadata": {},
   "outputs": [],
   "source": [
    "@torch.no_grad()\n",
    "def split_loss(split):\n",
    "    X, Y = {\"train\": (Xtr, Ytr), \"dev\": (Xdev, Ydev), \"test\": (Xtest, Ytest)}[split] #!!!\n",
    "    emb = C[X]\n",
    "    h_preact = emb.view(-1, emb_dim * block_size) @ W1 #+ b1\n",
    "    h_preact = bngain * ((h_preact - bnmean_running) / (bnstd_running + eps)) + bnbias\n",
    "    h = torch.tanh(h_preact) # hidden layer, (32, 100)\n",
    "    logits = h @ W2 + b2 # (32, 27)\n",
    "    loss = F.cross_entropy(logits, Y) # more efficient, prevents inf and nan for big positive logits\n",
    "    print(split, loss.item())"
   ]
  },
  {
   "cell_type": "code",
   "execution_count": 141,
   "id": "4c927f4a-89ca-4516-a4e2-c41e018df3e6",
   "metadata": {},
   "outputs": [
    {
     "name": "stdout",
     "output_type": "stream",
     "text": [
      "train 26.225982666015625\n",
      "dev 26.1970157623291\n"
     ]
    }
   ],
   "source": [
    "# find out the loss for a whole (TR!) data set, not just a minibatch\n",
    "split_loss(\"train\")\n",
    "\n",
    "# tr loss ~= dev loss -> not overfitting (actually maybe underfitting!)\n",
    "# <=> nn not able to memorize the values\n",
    "# might mean that the network is too small (not enough parameters)\n",
    "\n",
    "# find out the loss for a whole (DEV!) data set\n",
    "split_loss(\"dev\")"
   ]
  },
  {
   "cell_type": "code",
   "execution_count": 66,
   "id": "1a552bf6-de07-48a5-a24e-e281e39f58cf",
   "metadata": {},
   "outputs": [
    {
     "name": "stdout",
     "output_type": "stream",
     "text": [
      "junide.\n",
      "jakarie.\n",
      "prefay.\n",
      "adiya.\n",
      "jiin.\n",
      "tolian.\n",
      "juha.\n",
      "kilania.\n",
      "zamileneas.\n",
      "dedaine.\n",
      "imel.\n",
      "seon.\n",
      "evyla.\n",
      "terindtumeryf.\n",
      "demmer.\n",
      "fynsleigh.\n",
      "aniya.\n",
      "reaya.\n",
      "zonna.\n",
      "jaani.\n"
     ]
    }
   ],
   "source": [
    "# SAMPLING\n",
    "gen = torch.Generator().manual_seed(2147483647)\n",
    "\n",
    "for _ in range(20):\n",
    "    name = []\n",
    "    context = [0] * block_size # initialize with all ...\n",
    "    while True: # create one name\n",
    "        emb = C[torch.tensor([context])] # like C[X] but this time only 1 context\n",
    "        # block_size x emb_dim\n",
    "        h = torch.tanh(emb.view(1, -1) @ W1 + b1)\n",
    "        logits = h @ W2 + b2\n",
    "        probs = F.softmax(logits, dim=1)\n",
    "        idx = torch.multinomial(probs, num_samples=1, generator=gen).item()\n",
    "        context = context[1:] + [idx]\n",
    "        name.append(idx)\n",
    "        if idx == 0:\n",
    "            break\n",
    "    print(\"\".join(itoc[i] for i in name))\n",
    "        "
   ]
  },
  {
   "cell_type": "code",
   "execution_count": 67,
   "id": "d38f1c2a-263d-43cb-95ca-67719ab8f395",
   "metadata": {},
   "outputs": [
    {
     "data": {
      "text/plain": [
       "(torch.Size([182580, 4, 8]), torch.Size([182580, 4]))"
      ]
     },
     "execution_count": 67,
     "metadata": {},
     "output_type": "execute_result"
    }
   ],
   "source": [
    "C[Xtr].shape, Xtr.shape"
   ]
  },
  {
   "cell_type": "code",
   "execution_count": 68,
   "id": "3b034d4f-1987-49a2-bb76-412410307528",
   "metadata": {},
   "outputs": [
    {
     "data": {
      "text/plain": [
       "tensor([[ 2.7741,  0.1895,  0.2226, -1.4316,  0.9183,  0.0130, -2.0440,  0.7489],\n",
       "        [ 2.7741,  0.1895,  0.2226, -1.4316,  0.9183,  0.0130, -2.0440,  0.7489],\n",
       "        [-1.0347, -0.2561, -0.2511, -0.3260, -0.7882,  0.5245, -0.2778,  1.0756],\n",
       "        [ 2.1224,  0.3124,  0.8409, -1.1370,  0.8943, -0.3745, -1.9250,  0.6182]],\n",
       "       grad_fn=<IndexBackward0>)"
      ]
     },
     "execution_count": 68,
     "metadata": {},
     "output_type": "execute_result"
    }
   ],
   "source": [
    "C[Xtr[2]] # idx (here 0) gets 1 context of 3 letters (2 * 3 = 6 embeddings)"
   ]
  },
  {
   "cell_type": "code",
   "execution_count": null,
   "id": "5e228f3f-7c7f-4bed-b587-9ccaf2c1ad34",
   "metadata": {},
   "outputs": [],
   "source": []
  },
  {
   "cell_type": "code",
   "execution_count": 188,
   "id": "41f57fa4-a675-4df7-9102-4a9ca217178e",
   "metadata": {},
   "outputs": [],
   "source": [
    "# VISUALIZATION"
   ]
  },
  {
   "cell_type": "code",
   "execution_count": 192,
   "id": "f140bad2-6efa-4ee1-a713-c2bcfcdf72df",
   "metadata": {},
   "outputs": [
    {
     "data": {
      "image/svg+xml": [
       "<?xml version=\"1.0\" encoding=\"UTF-8\" standalone=\"no\"?>\n",
       "<!DOCTYPE svg PUBLIC \"-//W3C//DTD SVG 1.1//EN\"\n",
       " \"http://www.w3.org/Graphics/SVG/1.1/DTD/svg11.dtd\">\n",
       "<!-- Generated by graphviz version 2.43.0 (0)\n",
       " -->\n",
       "<!-- Title: %3 Pages: 1 -->\n",
       "<svg width=\"519pt\" height=\"864pt\"\n",
       " viewBox=\"0.00 0.00 518.77 864.00\" xmlns=\"http://www.w3.org/2000/svg\" xmlns:xlink=\"http://www.w3.org/1999/xlink\">\n",
       "<g id=\"graph0\" class=\"graph\" transform=\"scale(1.08 1.08) rotate(0) translate(4 932)\">\n",
       "<title>%3</title>\n",
       "<polygon fill=\"white\" stroke=\"transparent\" points=\"-4,4 -4,-932 558,-932 558,4 -4,4\"/>\n",
       "<!-- 139836996233120 -->\n",
       "<g id=\"node1\" class=\"node\">\n",
       "<title>139836996233120</title>\n",
       "<polygon fill=\"#caff70\" stroke=\"black\" points=\"475.5,-31 421.5,-31 421.5,0 475.5,0 475.5,-31\"/>\n",
       "<text text-anchor=\"middle\" x=\"448.5\" y=\"-7\" font-family=\"monospace\" font-size=\"10.00\"> ()</text>\n",
       "</g>\n",
       "<!-- 139836996014944 -->\n",
       "<g id=\"node2\" class=\"node\">\n",
       "<title>139836996014944</title>\n",
       "<polygon fill=\"lightgrey\" stroke=\"black\" points=\"505,-86 392,-86 392,-67 505,-67 505,-86\"/>\n",
       "<text text-anchor=\"middle\" x=\"448.5\" y=\"-74\" font-family=\"monospace\" font-size=\"10.00\">NllLossBackward0</text>\n",
       "</g>\n",
       "<!-- 139836996014944&#45;&gt;139836996233120 -->\n",
       "<g id=\"edge28\" class=\"edge\">\n",
       "<title>139836996014944&#45;&gt;139836996233120</title>\n",
       "<path fill=\"none\" stroke=\"black\" d=\"M448.5,-66.79C448.5,-60.07 448.5,-50.4 448.5,-41.34\"/>\n",
       "<polygon fill=\"black\" stroke=\"black\" points=\"452,-41.19 448.5,-31.19 445,-41.19 452,-41.19\"/>\n",
       "</g>\n",
       "<!-- 139836996014656 -->\n",
       "<g id=\"node3\" class=\"node\">\n",
       "<title>139836996014656</title>\n",
       "<polygon fill=\"lightgrey\" stroke=\"black\" points=\"514,-141 383,-141 383,-122 514,-122 514,-141\"/>\n",
       "<text text-anchor=\"middle\" x=\"448.5\" y=\"-129\" font-family=\"monospace\" font-size=\"10.00\">LogSoftmaxBackward0</text>\n",
       "</g>\n",
       "<!-- 139836996014656&#45;&gt;139836996014944 -->\n",
       "<g id=\"edge1\" class=\"edge\">\n",
       "<title>139836996014656&#45;&gt;139836996014944</title>\n",
       "<path fill=\"none\" stroke=\"black\" d=\"M448.5,-121.75C448.5,-114.8 448.5,-104.85 448.5,-96.13\"/>\n",
       "<polygon fill=\"black\" stroke=\"black\" points=\"452,-96.09 448.5,-86.09 445,-96.09 452,-96.09\"/>\n",
       "</g>\n",
       "<!-- 139836996012736 -->\n",
       "<g id=\"node4\" class=\"node\">\n",
       "<title>139836996012736</title>\n",
       "<polygon fill=\"lightgrey\" stroke=\"black\" points=\"493,-196 404,-196 404,-177 493,-177 493,-196\"/>\n",
       "<text text-anchor=\"middle\" x=\"448.5\" y=\"-184\" font-family=\"monospace\" font-size=\"10.00\">AddBackward0</text>\n",
       "</g>\n",
       "<!-- 139836996012736&#45;&gt;139836996014656 -->\n",
       "<g id=\"edge2\" class=\"edge\">\n",
       "<title>139836996012736&#45;&gt;139836996014656</title>\n",
       "<path fill=\"none\" stroke=\"black\" d=\"M448.5,-176.75C448.5,-169.8 448.5,-159.85 448.5,-151.13\"/>\n",
       "<polygon fill=\"black\" stroke=\"black\" points=\"452,-151.09 448.5,-141.09 445,-151.09 452,-151.09\"/>\n",
       "</g>\n",
       "<!-- 139836996017008 -->\n",
       "<g id=\"node5\" class=\"node\">\n",
       "<title>139836996017008</title>\n",
       "<polygon fill=\"lightgrey\" stroke=\"black\" points=\"435,-251 352,-251 352,-232 435,-232 435,-251\"/>\n",
       "<text text-anchor=\"middle\" x=\"393.5\" y=\"-239\" font-family=\"monospace\" font-size=\"10.00\">MmBackward0</text>\n",
       "</g>\n",
       "<!-- 139836996017008&#45;&gt;139836996012736 -->\n",
       "<g id=\"edge3\" class=\"edge\">\n",
       "<title>139836996017008&#45;&gt;139836996012736</title>\n",
       "<path fill=\"none\" stroke=\"black\" d=\"M402.58,-231.75C410.59,-224.03 422.46,-212.6 432.12,-203.28\"/>\n",
       "<polygon fill=\"black\" stroke=\"black\" points=\"434.81,-205.55 439.59,-196.09 429.96,-200.51 434.81,-205.55\"/>\n",
       "</g>\n",
       "<!-- 139836996012544 -->\n",
       "<g id=\"node6\" class=\"node\">\n",
       "<title>139836996012544</title>\n",
       "<polygon fill=\"lightgrey\" stroke=\"black\" points=\"332,-312 237,-312 237,-293 332,-293 332,-312\"/>\n",
       "<text text-anchor=\"middle\" x=\"284.5\" y=\"-300\" font-family=\"monospace\" font-size=\"10.00\">TanhBackward0</text>\n",
       "</g>\n",
       "<!-- 139836996012544&#45;&gt;139836996017008 -->\n",
       "<g id=\"edge4\" class=\"edge\">\n",
       "<title>139836996012544&#45;&gt;139836996017008</title>\n",
       "<path fill=\"none\" stroke=\"black\" d=\"M300.58,-292.79C318.56,-283.07 347.87,-267.2 368.77,-255.89\"/>\n",
       "<polygon fill=\"black\" stroke=\"black\" points=\"370.58,-258.89 377.71,-251.05 367.24,-252.73 370.58,-258.89\"/>\n",
       "</g>\n",
       "<!-- 139836996021856 -->\n",
       "<g id=\"node7\" class=\"node\">\n",
       "<title>139836996021856</title>\n",
       "<polygon fill=\"lightgrey\" stroke=\"black\" points=\"329,-379 240,-379 240,-360 329,-360 329,-379\"/>\n",
       "<text text-anchor=\"middle\" x=\"284.5\" y=\"-367\" font-family=\"monospace\" font-size=\"10.00\">AddBackward0</text>\n",
       "</g>\n",
       "<!-- 139836996021856&#45;&gt;139836996012544 -->\n",
       "<g id=\"edge5\" class=\"edge\">\n",
       "<title>139836996021856&#45;&gt;139836996012544</title>\n",
       "<path fill=\"none\" stroke=\"black\" d=\"M284.5,-359.73C284.5,-350.18 284.5,-334.62 284.5,-322.28\"/>\n",
       "<polygon fill=\"black\" stroke=\"black\" points=\"288,-322.13 284.5,-312.13 281,-322.13 288,-322.13\"/>\n",
       "</g>\n",
       "<!-- 139836996012784 -->\n",
       "<g id=\"node8\" class=\"node\">\n",
       "<title>139836996012784</title>\n",
       "<polygon fill=\"lightgrey\" stroke=\"black\" points=\"273,-440 184,-440 184,-421 273,-421 273,-440\"/>\n",
       "<text text-anchor=\"middle\" x=\"228.5\" y=\"-428\" font-family=\"monospace\" font-size=\"10.00\">DivBackward0</text>\n",
       "</g>\n",
       "<!-- 139836996012784&#45;&gt;139836996021856 -->\n",
       "<g id=\"edge6\" class=\"edge\">\n",
       "<title>139836996012784&#45;&gt;139836996021856</title>\n",
       "<path fill=\"none\" stroke=\"black\" d=\"M236.76,-420.79C245.28,-411.82 258.76,-397.62 269.23,-386.59\"/>\n",
       "<polygon fill=\"black\" stroke=\"black\" points=\"271.86,-388.9 276.2,-379.24 266.78,-384.08 271.86,-388.9\"/>\n",
       "</g>\n",
       "<!-- 139836996010240 -->\n",
       "<g id=\"node9\" class=\"node\">\n",
       "<title>139836996010240</title>\n",
       "<polygon fill=\"lightgrey\" stroke=\"black\" points=\"208,-501 119,-501 119,-482 208,-482 208,-501\"/>\n",
       "<text text-anchor=\"middle\" x=\"163.5\" y=\"-489\" font-family=\"monospace\" font-size=\"10.00\">MulBackward0</text>\n",
       "</g>\n",
       "<!-- 139836996010240&#45;&gt;139836996012784 -->\n",
       "<g id=\"edge7\" class=\"edge\">\n",
       "<title>139836996010240&#45;&gt;139836996012784</title>\n",
       "<path fill=\"none\" stroke=\"black\" d=\"M173.09,-481.79C183.08,-472.73 198.93,-458.34 211.13,-447.27\"/>\n",
       "<polygon fill=\"black\" stroke=\"black\" points=\"213.82,-449.55 218.87,-440.24 209.11,-444.37 213.82,-449.55\"/>\n",
       "</g>\n",
       "<!-- 139836996015712 -->\n",
       "<g id=\"node10\" class=\"node\">\n",
       "<title>139836996015712</title>\n",
       "<polygon fill=\"lightgrey\" stroke=\"black\" points=\"101,-562 0,-562 0,-543 101,-543 101,-562\"/>\n",
       "<text text-anchor=\"middle\" x=\"50.5\" y=\"-550\" font-family=\"monospace\" font-size=\"10.00\">AccumulateGrad</text>\n",
       "</g>\n",
       "<!-- 139836996015712&#45;&gt;139836996010240 -->\n",
       "<g id=\"edge8\" class=\"edge\">\n",
       "<title>139836996015712&#45;&gt;139836996010240</title>\n",
       "<path fill=\"none\" stroke=\"black\" d=\"M67.17,-542.79C85.89,-533.02 116.47,-517.05 138.15,-505.73\"/>\n",
       "<polygon fill=\"black\" stroke=\"black\" points=\"139.88,-508.78 147.13,-501.05 136.64,-502.58 139.88,-508.78\"/>\n",
       "</g>\n",
       "<!-- 139836996132816 -->\n",
       "<g id=\"node11\" class=\"node\">\n",
       "<title>139836996132816</title>\n",
       "<polygon fill=\"lightblue\" stroke=\"black\" points=\"86,-629 15,-629 15,-598 86,-598 86,-629\"/>\n",
       "<text text-anchor=\"middle\" x=\"50.5\" y=\"-605\" font-family=\"monospace\" font-size=\"10.00\"> (1, 200)</text>\n",
       "</g>\n",
       "<!-- 139836996132816&#45;&gt;139836996015712 -->\n",
       "<g id=\"edge9\" class=\"edge\">\n",
       "<title>139836996132816&#45;&gt;139836996015712</title>\n",
       "<path fill=\"none\" stroke=\"black\" d=\"M50.5,-597.92C50.5,-590.22 50.5,-580.69 50.5,-572.43\"/>\n",
       "<polygon fill=\"black\" stroke=\"black\" points=\"54,-572.25 50.5,-562.25 47,-572.25 54,-572.25\"/>\n",
       "</g>\n",
       "<!-- 139836996015568 -->\n",
       "<g id=\"node12\" class=\"node\">\n",
       "<title>139836996015568</title>\n",
       "<polygon fill=\"lightgrey\" stroke=\"black\" points=\"208,-562 119,-562 119,-543 208,-543 208,-562\"/>\n",
       "<text text-anchor=\"middle\" x=\"163.5\" y=\"-550\" font-family=\"monospace\" font-size=\"10.00\">SubBackward0</text>\n",
       "</g>\n",
       "<!-- 139836996015568&#45;&gt;139836996010240 -->\n",
       "<g id=\"edge10\" class=\"edge\">\n",
       "<title>139836996015568&#45;&gt;139836996010240</title>\n",
       "<path fill=\"none\" stroke=\"black\" d=\"M163.5,-542.79C163.5,-534.6 163.5,-522.06 163.5,-511.55\"/>\n",
       "<polygon fill=\"black\" stroke=\"black\" points=\"167,-511.24 163.5,-501.24 160,-511.24 167,-511.24\"/>\n",
       "</g>\n",
       "<!-- 139836996013408 -->\n",
       "<g id=\"node13\" class=\"node\">\n",
       "<title>139836996013408</title>\n",
       "<polygon fill=\"lightgrey\" stroke=\"black\" points=\"236,-684 153,-684 153,-665 236,-665 236,-684\"/>\n",
       "<text text-anchor=\"middle\" x=\"194.5\" y=\"-672\" font-family=\"monospace\" font-size=\"10.00\">MmBackward0</text>\n",
       "</g>\n",
       "<!-- 139836996013408&#45;&gt;139836996015568 -->\n",
       "<g id=\"edge11\" class=\"edge\">\n",
       "<title>139836996013408&#45;&gt;139836996015568</title>\n",
       "<path fill=\"none\" stroke=\"black\" d=\"M176.15,-664.88C162.71,-657.46 145.48,-645.36 137.5,-629 128.05,-609.63 139.67,-585.94 150.25,-570.32\"/>\n",
       "<polygon fill=\"black\" stroke=\"black\" points=\"153.14,-572.3 156.19,-562.15 147.48,-568.18 153.14,-572.3\"/>\n",
       "</g>\n",
       "<!-- 139836995747904 -->\n",
       "<g id=\"node20\" class=\"node\">\n",
       "<title>139836995747904</title>\n",
       "<polygon fill=\"lightgrey\" stroke=\"black\" points=\"242,-623 147,-623 147,-604 242,-604 242,-623\"/>\n",
       "<text text-anchor=\"middle\" x=\"194.5\" y=\"-611\" font-family=\"monospace\" font-size=\"10.00\">MeanBackward1</text>\n",
       "</g>\n",
       "<!-- 139836996013408&#45;&gt;139836995747904 -->\n",
       "<g id=\"edge19\" class=\"edge\">\n",
       "<title>139836996013408&#45;&gt;139836995747904</title>\n",
       "<path fill=\"none\" stroke=\"black\" d=\"M194.5,-664.79C194.5,-656.6 194.5,-644.06 194.5,-633.55\"/>\n",
       "<polygon fill=\"black\" stroke=\"black\" points=\"198,-633.24 194.5,-623.24 191,-633.24 198,-633.24\"/>\n",
       "</g>\n",
       "<!-- 139836996017536 -->\n",
       "<g id=\"node21\" class=\"node\">\n",
       "<title>139836996017536</title>\n",
       "<polygon fill=\"lightgrey\" stroke=\"black\" points=\"315,-562 226,-562 226,-543 315,-543 315,-562\"/>\n",
       "<text text-anchor=\"middle\" x=\"270.5\" y=\"-550\" font-family=\"monospace\" font-size=\"10.00\">StdBackward0</text>\n",
       "</g>\n",
       "<!-- 139836996013408&#45;&gt;139836996017536 -->\n",
       "<g id=\"edge21\" class=\"edge\">\n",
       "<title>139836996013408&#45;&gt;139836996017536</title>\n",
       "<path fill=\"none\" stroke=\"black\" d=\"M210.11,-664.95C222.83,-657.19 240.31,-644.59 250.5,-629 261.73,-611.83 266.67,-588.59 268.83,-572.45\"/>\n",
       "<polygon fill=\"black\" stroke=\"black\" points=\"272.35,-572.46 269.97,-562.14 265.4,-571.69 272.35,-572.46\"/>\n",
       "</g>\n",
       "<!-- 139836995748096 -->\n",
       "<g id=\"node14\" class=\"node\">\n",
       "<title>139836995748096</title>\n",
       "<polygon fill=\"lightgrey\" stroke=\"black\" points=\"184,-739 89,-739 89,-720 184,-720 184,-739\"/>\n",
       "<text text-anchor=\"middle\" x=\"136.5\" y=\"-727\" font-family=\"monospace\" font-size=\"10.00\">ViewBackward0</text>\n",
       "</g>\n",
       "<!-- 139836995748096&#45;&gt;139836996013408 -->\n",
       "<g id=\"edge12\" class=\"edge\">\n",
       "<title>139836995748096&#45;&gt;139836996013408</title>\n",
       "<path fill=\"none\" stroke=\"black\" d=\"M145.82,-719.98C154.31,-712.23 167.06,-700.58 177.38,-691.14\"/>\n",
       "<polygon fill=\"black\" stroke=\"black\" points=\"179.99,-693.5 185.01,-684.17 175.27,-688.33 179.99,-693.5\"/>\n",
       "</g>\n",
       "<!-- 139836995748240 -->\n",
       "<g id=\"node15\" class=\"node\">\n",
       "<title>139836995748240</title>\n",
       "<polygon fill=\"lightgrey\" stroke=\"black\" points=\"187,-800 86,-800 86,-781 187,-781 187,-800\"/>\n",
       "<text text-anchor=\"middle\" x=\"136.5\" y=\"-788\" font-family=\"monospace\" font-size=\"10.00\">IndexBackward0</text>\n",
       "</g>\n",
       "<!-- 139836995748240&#45;&gt;139836995748096 -->\n",
       "<g id=\"edge13\" class=\"edge\">\n",
       "<title>139836995748240&#45;&gt;139836995748096</title>\n",
       "<path fill=\"none\" stroke=\"black\" d=\"M136.5,-780.79C136.5,-772.6 136.5,-760.06 136.5,-749.55\"/>\n",
       "<polygon fill=\"black\" stroke=\"black\" points=\"140,-749.24 136.5,-739.24 133,-749.24 140,-749.24\"/>\n",
       "</g>\n",
       "<!-- 139836995748336 -->\n",
       "<g id=\"node16\" class=\"node\">\n",
       "<title>139836995748336</title>\n",
       "<polygon fill=\"lightgrey\" stroke=\"black\" points=\"187,-861 86,-861 86,-842 187,-842 187,-861\"/>\n",
       "<text text-anchor=\"middle\" x=\"136.5\" y=\"-849\" font-family=\"monospace\" font-size=\"10.00\">AccumulateGrad</text>\n",
       "</g>\n",
       "<!-- 139836995748336&#45;&gt;139836995748240 -->\n",
       "<g id=\"edge14\" class=\"edge\">\n",
       "<title>139836995748336&#45;&gt;139836995748240</title>\n",
       "<path fill=\"none\" stroke=\"black\" d=\"M136.5,-841.79C136.5,-833.6 136.5,-821.06 136.5,-810.55\"/>\n",
       "<polygon fill=\"black\" stroke=\"black\" points=\"140,-810.24 136.5,-800.24 133,-810.24 140,-810.24\"/>\n",
       "</g>\n",
       "<!-- 139836996137696 -->\n",
       "<g id=\"node17\" class=\"node\">\n",
       "<title>139836996137696</title>\n",
       "<polygon fill=\"lightblue\" stroke=\"black\" points=\"169,-928 104,-928 104,-897 169,-897 169,-928\"/>\n",
       "<text text-anchor=\"middle\" x=\"136.5\" y=\"-904\" font-family=\"monospace\" font-size=\"10.00\"> (27, 8)</text>\n",
       "</g>\n",
       "<!-- 139836996137696&#45;&gt;139836995748336 -->\n",
       "<g id=\"edge15\" class=\"edge\">\n",
       "<title>139836996137696&#45;&gt;139836995748336</title>\n",
       "<path fill=\"none\" stroke=\"black\" d=\"M136.5,-896.92C136.5,-889.22 136.5,-879.69 136.5,-871.43\"/>\n",
       "<polygon fill=\"black\" stroke=\"black\" points=\"140,-871.25 136.5,-861.25 133,-871.25 140,-871.25\"/>\n",
       "</g>\n",
       "<!-- 139836995748048 -->\n",
       "<g id=\"node18\" class=\"node\">\n",
       "<title>139836995748048</title>\n",
       "<polygon fill=\"lightgrey\" stroke=\"black\" points=\"303,-739 202,-739 202,-720 303,-720 303,-739\"/>\n",
       "<text text-anchor=\"middle\" x=\"252.5\" y=\"-727\" font-family=\"monospace\" font-size=\"10.00\">AccumulateGrad</text>\n",
       "</g>\n",
       "<!-- 139836995748048&#45;&gt;139836996013408 -->\n",
       "<g id=\"edge16\" class=\"edge\">\n",
       "<title>139836995748048&#45;&gt;139836996013408</title>\n",
       "<path fill=\"none\" stroke=\"black\" d=\"M243.18,-719.98C234.69,-712.23 221.94,-700.58 211.62,-691.14\"/>\n",
       "<polygon fill=\"black\" stroke=\"black\" points=\"213.73,-688.33 203.99,-684.17 209.01,-693.5 213.73,-688.33\"/>\n",
       "</g>\n",
       "<!-- 139836996124816 -->\n",
       "<g id=\"node19\" class=\"node\">\n",
       "<title>139836996124816</title>\n",
       "<polygon fill=\"lightblue\" stroke=\"black\" points=\"291,-806 214,-806 214,-775 291,-775 291,-806\"/>\n",
       "<text text-anchor=\"middle\" x=\"252.5\" y=\"-782\" font-family=\"monospace\" font-size=\"10.00\"> (32, 200)</text>\n",
       "</g>\n",
       "<!-- 139836996124816&#45;&gt;139836995748048 -->\n",
       "<g id=\"edge17\" class=\"edge\">\n",
       "<title>139836996124816&#45;&gt;139836995748048</title>\n",
       "<path fill=\"none\" stroke=\"black\" d=\"M252.5,-774.92C252.5,-767.22 252.5,-757.69 252.5,-749.43\"/>\n",
       "<polygon fill=\"black\" stroke=\"black\" points=\"256,-749.25 252.5,-739.25 249,-749.25 256,-749.25\"/>\n",
       "</g>\n",
       "<!-- 139836995747904&#45;&gt;139836996015568 -->\n",
       "<g id=\"edge18\" class=\"edge\">\n",
       "<title>139836995747904&#45;&gt;139836996015568</title>\n",
       "<path fill=\"none\" stroke=\"black\" d=\"M189.93,-603.79C185.44,-595.25 178.47,-581.98 172.81,-571.22\"/>\n",
       "<polygon fill=\"black\" stroke=\"black\" points=\"175.84,-569.47 168.09,-562.24 169.65,-572.72 175.84,-569.47\"/>\n",
       "</g>\n",
       "<!-- 139836996017536&#45;&gt;139836996012784 -->\n",
       "<g id=\"edge20\" class=\"edge\">\n",
       "<title>139836996017536&#45;&gt;139836996012784</title>\n",
       "<path fill=\"none\" stroke=\"black\" d=\"M267.48,-542.87C260.67,-523.41 243.99,-475.77 234.82,-449.54\"/>\n",
       "<polygon fill=\"black\" stroke=\"black\" points=\"238.1,-448.33 231.49,-440.05 231.49,-450.65 238.1,-448.33\"/>\n",
       "</g>\n",
       "<!-- 139836996013936 -->\n",
       "<g id=\"node22\" class=\"node\">\n",
       "<title>139836996013936</title>\n",
       "<polygon fill=\"lightgrey\" stroke=\"black\" points=\"392,-440 291,-440 291,-421 392,-421 392,-440\"/>\n",
       "<text text-anchor=\"middle\" x=\"341.5\" y=\"-428\" font-family=\"monospace\" font-size=\"10.00\">AccumulateGrad</text>\n",
       "</g>\n",
       "<!-- 139836996013936&#45;&gt;139836996021856 -->\n",
       "<g id=\"edge22\" class=\"edge\">\n",
       "<title>139836996013936&#45;&gt;139836996021856</title>\n",
       "<path fill=\"none\" stroke=\"black\" d=\"M333.09,-420.79C324.42,-411.82 310.7,-397.62 300.04,-386.59\"/>\n",
       "<polygon fill=\"black\" stroke=\"black\" points=\"302.41,-384 292.95,-379.24 297.38,-388.87 302.41,-384\"/>\n",
       "</g>\n",
       "<!-- 139836996137216 -->\n",
       "<g id=\"node23\" class=\"node\">\n",
       "<title>139836996137216</title>\n",
       "<polygon fill=\"lightblue\" stroke=\"black\" points=\"377,-507 306,-507 306,-476 377,-476 377,-507\"/>\n",
       "<text text-anchor=\"middle\" x=\"341.5\" y=\"-483\" font-family=\"monospace\" font-size=\"10.00\"> (1, 200)</text>\n",
       "</g>\n",
       "<!-- 139836996137216&#45;&gt;139836996013936 -->\n",
       "<g id=\"edge23\" class=\"edge\">\n",
       "<title>139836996137216&#45;&gt;139836996013936</title>\n",
       "<path fill=\"none\" stroke=\"black\" d=\"M341.5,-475.92C341.5,-468.22 341.5,-458.69 341.5,-450.43\"/>\n",
       "<polygon fill=\"black\" stroke=\"black\" points=\"345,-450.25 341.5,-440.25 338,-450.25 345,-450.25\"/>\n",
       "</g>\n",
       "<!-- 139836996010384 -->\n",
       "<g id=\"node24\" class=\"node\">\n",
       "<title>139836996010384</title>\n",
       "<polygon fill=\"lightgrey\" stroke=\"black\" points=\"451,-312 350,-312 350,-293 451,-293 451,-312\"/>\n",
       "<text text-anchor=\"middle\" x=\"400.5\" y=\"-300\" font-family=\"monospace\" font-size=\"10.00\">AccumulateGrad</text>\n",
       "</g>\n",
       "<!-- 139836996010384&#45;&gt;139836996017008 -->\n",
       "<g id=\"edge24\" class=\"edge\">\n",
       "<title>139836996010384&#45;&gt;139836996017008</title>\n",
       "<path fill=\"none\" stroke=\"black\" d=\"M399.47,-292.79C398.48,-284.52 396.98,-271.79 395.72,-261.21\"/>\n",
       "<polygon fill=\"black\" stroke=\"black\" points=\"399.19,-260.76 394.54,-251.24 392.24,-261.58 399.19,-260.76\"/>\n",
       "</g>\n",
       "<!-- 139836996136816 -->\n",
       "<g id=\"node25\" class=\"node\">\n",
       "<title>139836996136816</title>\n",
       "<polygon fill=\"lightblue\" stroke=\"black\" points=\"439,-385 362,-385 362,-354 439,-354 439,-385\"/>\n",
       "<text text-anchor=\"middle\" x=\"400.5\" y=\"-361\" font-family=\"monospace\" font-size=\"10.00\"> (200, 27)</text>\n",
       "</g>\n",
       "<!-- 139836996136816&#45;&gt;139836996010384 -->\n",
       "<g id=\"edge25\" class=\"edge\">\n",
       "<title>139836996136816&#45;&gt;139836996010384</title>\n",
       "<path fill=\"none\" stroke=\"black\" d=\"M400.5,-353.75C400.5,-344.39 400.5,-332.19 400.5,-322.16\"/>\n",
       "<polygon fill=\"black\" stroke=\"black\" points=\"404,-322.02 400.5,-312.02 397,-322.02 404,-322.02\"/>\n",
       "</g>\n",
       "<!-- 139836996015904 -->\n",
       "<g id=\"node26\" class=\"node\">\n",
       "<title>139836996015904</title>\n",
       "<polygon fill=\"lightgrey\" stroke=\"black\" points=\"554,-251 453,-251 453,-232 554,-232 554,-251\"/>\n",
       "<text text-anchor=\"middle\" x=\"503.5\" y=\"-239\" font-family=\"monospace\" font-size=\"10.00\">AccumulateGrad</text>\n",
       "</g>\n",
       "<!-- 139836996015904&#45;&gt;139836996012736 -->\n",
       "<g id=\"edge26\" class=\"edge\">\n",
       "<title>139836996015904&#45;&gt;139836996012736</title>\n",
       "<path fill=\"none\" stroke=\"black\" d=\"M494.42,-231.75C486.41,-224.03 474.54,-212.6 464.88,-203.28\"/>\n",
       "<polygon fill=\"black\" stroke=\"black\" points=\"467.04,-200.51 457.41,-196.09 462.19,-205.55 467.04,-200.51\"/>\n",
       "</g>\n",
       "<!-- 139836996137616 -->\n",
       "<g id=\"node27\" class=\"node\">\n",
       "<title>139836996137616</title>\n",
       "<polygon fill=\"lightblue\" stroke=\"black\" points=\"530.5,-318 476.5,-318 476.5,-287 530.5,-287 530.5,-318\"/>\n",
       "<text text-anchor=\"middle\" x=\"503.5\" y=\"-294\" font-family=\"monospace\" font-size=\"10.00\"> (27)</text>\n",
       "</g>\n",
       "<!-- 139836996137616&#45;&gt;139836996015904 -->\n",
       "<g id=\"edge27\" class=\"edge\">\n",
       "<title>139836996137616&#45;&gt;139836996015904</title>\n",
       "<path fill=\"none\" stroke=\"black\" d=\"M503.5,-286.92C503.5,-279.22 503.5,-269.69 503.5,-261.43\"/>\n",
       "<polygon fill=\"black\" stroke=\"black\" points=\"507,-261.25 503.5,-251.25 500,-261.25 507,-261.25\"/>\n",
       "</g>\n",
       "</g>\n",
       "</svg>\n"
      ],
      "text/plain": [
       "<graphviz.graphs.Digraph at 0x7f2e56794ee0>"
      ]
     },
     "metadata": {},
     "output_type": "display_data"
    }
   ],
   "source": [
    "from torchviz import make_dot\n",
    "from IPython.display import display\n",
    "graph = make_dot(loss)\n",
    "display(graph) # W O W ! ! ! ! ! ! !"
   ]
  },
  {
   "cell_type": "code",
   "execution_count": 193,
   "id": "93c16dd9-21d4-435f-9d85-89c57b4057ef",
   "metadata": {},
   "outputs": [
    {
     "data": {
      "text/plain": [
       "'computation_graph.pdf'"
      ]
     },
     "execution_count": 193,
     "metadata": {},
     "output_type": "execute_result"
    }
   ],
   "source": [
    "# Save the graph as a PDF file\n",
    "graph.render(\"computation_graph\")"
   ]
  },
  {
   "cell_type": "code",
   "execution_count": 194,
   "id": "b05b4902-5344-46d9-98b9-c88c2115ada3",
   "metadata": {},
   "outputs": [
    {
     "name": "stdout",
     "output_type": "stream",
     "text": [
      "<NllLossBackward0 object at 0x7f2e56795360>\n"
     ]
    }
   ],
   "source": [
    "print(loss.grad_fn)"
   ]
  },
  {
   "cell_type": "code",
   "execution_count": 195,
   "id": "3b8a61e8-85ad-4205-8757-233932c5011b",
   "metadata": {},
   "outputs": [
    {
     "name": "stdout",
     "output_type": "stream",
     "text": [
      "((<LogSoftmaxBackward0 object at 0x7f2e56795240>, 0),)\n"
     ]
    }
   ],
   "source": [
    "print(loss.grad_fn.next_functions)"
   ]
  },
  {
   "cell_type": "code",
   "execution_count": 196,
   "id": "67d515df-411f-4c1f-be2c-eaaa5ec8c325",
   "metadata": {},
   "outputs": [
    {
     "name": "stdout",
     "output_type": "stream",
     "text": [
      "((<AddBackward0 object at 0x7f2e56794ac0>, 0),)\n"
     ]
    }
   ],
   "source": [
    "print(loss.grad_fn.next_functions[0][0].next_functions)"
   ]
  },
  {
   "cell_type": "code",
   "execution_count": 197,
   "id": "2037e307-882b-40e3-9b00-08cdef06e7fe",
   "metadata": {},
   "outputs": [
    {
     "name": "stdout",
     "output_type": "stream",
     "text": [
      "((<MmBackward0 object at 0x7f2e56795b70>, 0), (<AccumulateGrad object at 0x7f2e56795720>, 0))\n"
     ]
    }
   ],
   "source": [
    "print(loss.grad_fn.next_functions[0][0].next_functions[0][0].next_functions)\n",
    "# etc. -> that's how we could build such graph!"
   ]
  },
  {
   "cell_type": "code",
   "execution_count": null,
   "id": "21d22735-661a-4747-b4f1-b4e3f704f3f7",
   "metadata": {},
   "outputs": [],
   "source": []
  }
 ],
 "metadata": {
  "kernelspec": {
   "display_name": "Python 3 (ipykernel)",
   "language": "python",
   "name": "python3"
  },
  "language_info": {
   "codemirror_mode": {
    "name": "ipython",
    "version": 3
   },
   "file_extension": ".py",
   "mimetype": "text/x-python",
   "name": "python",
   "nbconvert_exporter": "python",
   "pygments_lexer": "ipython3",
   "version": "3.10.12"
  }
 },
 "nbformat": 4,
 "nbformat_minor": 5
}
