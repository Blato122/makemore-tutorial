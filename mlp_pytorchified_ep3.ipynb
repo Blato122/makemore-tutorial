{
 "cells": [
  {
   "cell_type": "code",
   "execution_count": 25,
   "id": "fa3b62b7-8b8a-4851-8f82-1674990065e2",
   "metadata": {},
   "outputs": [],
   "source": [
    "import random\n",
    "import torch\n",
    "import torch.nn.functional as F\n",
    "import matplotlib.pyplot as plt\n",
    "g = torch.Generator().manual_seed(2147483647)"
   ]
  },
  {
   "cell_type": "code",
   "execution_count": 26,
   "id": "cb89ba3a-bc4d-4e9c-9db4-a658aefaf2cb",
   "metadata": {},
   "outputs": [],
   "source": [
    "# load ~32000 names from a file, one in each line\n",
    "with open(\"names.txt\", \"r\") as infile:\n",
    "    words = infile.read().splitlines() # ignores \\n\n",
    "chars = sorted(set(\"\".join(words) + \".\"))\n",
    "vocab_size = len(chars)\n",
    "ctoi = {c: i for i, c in enumerate(chars)}\n",
    "itoc = {i: c for c, i in ctoi.items()}"
   ]
  },
  {
   "cell_type": "code",
   "execution_count": 27,
   "id": "04cf146e-33ad-4115-8d15-c73aa8ea202e",
   "metadata": {},
   "outputs": [
    {
     "name": "stdout",
     "output_type": "stream",
     "text": [
      "torch.Size([182625, 4]) torch.Size([182625])\n",
      "torch.Size([22655, 4]) torch.Size([22655])\n",
      "torch.Size([22866, 4]) torch.Size([22866])\n"
     ]
    }
   ],
   "source": [
    "# building the dataset (with contexts)\n",
    "\n",
    "# training split -> ~80% -> optimize parameters of the model using gradient descent\n",
    "# dev/validation split -> ~10% -> hyperparameter tuning\n",
    "# test split -> ~10% -> evaluate model's final performance\n",
    "\n",
    "# updated so that we can also create dev/test splits\n",
    "\n",
    "context_len = 4 # context length - how many chars to take into account to predict the next one?\n",
    "\n",
    "def build_dataset(words):\n",
    "    X, Y = [], [] # X - input to the neural net, Y - expected labels for each example inside X\n",
    "    \n",
    "    for w in words:\n",
    "        # print(w)\n",
    "        context = [0] * context_len # ...\n",
    "        for c in w + \".\":\n",
    "            idx = ctoi[c]\n",
    "            X.append(context)\n",
    "            Y.append(idx)\n",
    "            # print(\"\".join(itoc[i] for i in context), \"--->\", itoc[idx])\n",
    "            context = context[1:] + [idx]\n",
    "    \n",
    "    X = torch.tensor(X)\n",
    "    Y = torch.tensor(Y)\n",
    "    print(X.shape, Y.shape)\n",
    "    return X, Y\n",
    "\n",
    "random.seed(42)\n",
    "random.shuffle(words)\n",
    "n1 = int(0.8 * len(words))\n",
    "n2 = int(0.9 * len(words))\n",
    "\n",
    "Xtr, Ytr = build_dataset(words[:n1])\n",
    "Xdev, Ydev = build_dataset(words[n1:n2])\n",
    "Xtest, Ytest = build_dataset(words[n2:])"
   ]
  },
  {
   "cell_type": "code",
   "execution_count": 28,
   "id": "4c1a9bae-2613-4c1e-a807-fd16491e68c9",
   "metadata": {},
   "outputs": [],
   "source": [
    "class Linear:\n",
    "    def __init__(self, fan_in, fan_out, bias=True):\n",
    "        self.weight = torch.randn((fan_in, fan_out), generator=g) / fan_in**0.5\n",
    "        self.bias = torch.zeros(fan_out) if bias else None # 1 dim but works because of broadcasting\n",
    "\n",
    "    def __call__(self, x): # x are the incoming activations\n",
    "        self.out = x @ self.weight\n",
    "        if self.bias is not None:\n",
    "            self.out += self.bias\n",
    "        return self.out\n",
    "\n",
    "    def parameters(self):\n",
    "        return [self.weight] + ([] if self.bias is None else [self.bias])\n",
    "\n",
    "class BatchNorm1d:\n",
    "    def __init__(self, dim, eps=1e-5, momentum=0.1): # dim -> number of hidden neurons\n",
    "        self.eps = eps\n",
    "        self.momentum = momentum\n",
    "        self.training = True\n",
    "        # parameters (trained with backprop)\n",
    "        self.gamma = torch.ones(dim) # bngain\n",
    "        self.beta = torch.zeros(dim) # bnbias\n",
    "        # buffers (trained with a running \"momentum\" update)\n",
    "        self.running_mean = torch.zeros(dim)\n",
    "        self.running_var = torch.ones(dim)\n",
    "\n",
    "    def __call__(self, x):\n",
    "        if self.training:\n",
    "            xmean = x.mean(0, keepdim=True) # batch mean\n",
    "            xvar = x.var(0, keepdim=True, unbiased=True)\n",
    "        else:\n",
    "            xmean = self.running_mean\n",
    "            xvar = self.running_var\n",
    "        xhat = (x - xmean) / torch.sqrt(xvar + self.eps)\n",
    "        self.out = self.gamma * xhat + self.beta\n",
    "        if self.training:\n",
    "            with torch.no_grad():\n",
    "                self.running_mean = (1 - self.momentum) * self.running_mean + self.momentum * xmean\n",
    "                self.running_var = (1 - self.momentum) * self.running_var + self.momentum * xvar\n",
    "        return self.out\n",
    "\n",
    "    def parameters(self):\n",
    "        return [self.gamma, self.beta]\n",
    "\n",
    "class Tanh:\n",
    "    def __call__(self, x):\n",
    "        self.out = torch.tanh(x)\n",
    "        return self.out\n",
    "\n",
    "    def parameters(self):\n",
    "        return []"
   ]
  },
  {
   "cell_type": "code",
   "execution_count": 29,
   "id": "d896ecdc-19a8-4199-aa9a-d4931a5782da",
   "metadata": {},
   "outputs": [
    {
     "name": "stdout",
     "output_type": "stream",
     "text": [
      "47497\n"
     ]
    }
   ],
   "source": [
    "n_embd = 10 # character embedding vector dimension\n",
    "n_hidden = 100 # number of neurons in a hidden layer\n",
    "\n",
    "C = torch.randn((vocab_size, n_embd))\n",
    "\n",
    "layers = [\n",
    "    Linear(n_embd * context_len, n_hidden), Tanh(),\n",
    "    Linear(           n_hidden, n_hidden), Tanh(),\n",
    "    Linear(           n_hidden, n_hidden), Tanh(),\n",
    "    Linear(           n_hidden, n_hidden), Tanh(),\n",
    "    Linear(           n_hidden, n_hidden), Tanh(),\n",
    "    Linear(           n_hidden, vocab_size)\n",
    "]\n",
    "\n",
    "with torch.no_grad():\n",
    "    layers[-1].weight *= 0.1 # to lower the initial loss (?)\n",
    "    # apply gain\n",
    "    for layer in layers[:-1]:\n",
    "        if isinstance(layer, Linear):\n",
    "            layer.weight *= (5/3)\n",
    "\n",
    "parameters = [C] + [p for layer in layers for p in layer.parameters()]\n",
    "print(sum(p.numel() for p in parameters))\n",
    "for p in parameters:\n",
    "    p.requires_grad = True"
   ]
  },
  {
   "cell_type": "code",
   "execution_count": 32,
   "id": "fd2e2ca6-a34f-4c34-b7fc-cb7d0c1afe70",
   "metadata": {},
   "outputs": [
    {
     "name": "stdout",
     "output_type": "stream",
     "text": [
      "0/200000: 3.2883\n",
      "10000/200000: 2.0039\n",
      "20000/200000: 2.0001\n",
      "30000/200000: 2.0076\n",
      "40000/200000: 2.0188\n",
      "50000/200000: 1.9709\n",
      "60000/200000: 2.1628\n",
      "70000/200000: 2.0979\n",
      "80000/200000: 1.9422\n",
      "90000/200000: 1.8212\n",
      "100000/200000: 1.5685\n",
      "110000/200000: 1.9177\n",
      "120000/200000: 1.7643\n",
      "130000/200000: 1.8297\n",
      "140000/200000: 1.7261\n",
      "150000/200000: 1.8924\n",
      "160000/200000: 1.6564\n",
      "170000/200000: 1.8420\n",
      "180000/200000: 1.9479\n",
      "190000/200000: 1.6983\n"
     ]
    }
   ],
   "source": [
    "epochs = 200_000\n",
    "minibatch_size = 64\n",
    "loss_i = []\n",
    "\n",
    "for i in range(epochs):\n",
    "    # create a minibatch\n",
    "    idx = torch.randint(0, Xtr.shape[0], (minibatch_size,), generator=g)\n",
    "    Xb, Yb = Xtr[idx], Ytr[idx]\n",
    "\n",
    "    # forward pass\n",
    "    emb = C[Xb]\n",
    "    x = emb.view(emb.shape[0], -1)\n",
    "    # Xb - (64, 4), emb - (64, 4, 10), x - (64, 40)\n",
    "    for layer in layers:\n",
    "        x = layer(x)\n",
    "    loss = F.cross_entropy(x, Yb)\n",
    "\n",
    "    # backward pass\n",
    "    for layer in layers:\n",
    "        layer.out.retain_grad()\n",
    "    for p in parameters:\n",
    "        p.grad = None\n",
    "    loss.backward()\n",
    "\n",
    "    #update\n",
    "    lr = 0.1 if i < epochs / 2 else 0.01\n",
    "    for p in parameters:\n",
    "        p.data += -lr * p.grad\n",
    "    \n",
    "    # track stats\n",
    "    if i % 10000 == 0:\n",
    "        print(f\"{i}/{epochs}: {loss.item():.4f}\")\n",
    "    loss_i.append(loss.log10().item())"
   ]
  },
  {
   "cell_type": "code",
   "execution_count": 37,
   "id": "f94fcece-5280-431b-9a0b-add4ebd4bed1",
   "metadata": {},
   "outputs": [],
   "source": [
    "@torch.no_grad()\n",
    "def split_loss(split):\n",
    "    X, Y = {\"train\": (Xtr, Ytr), \"dev\": (Xdev, Ydev), \"test\": (Xtest, Ytest)}[split] #!!!\n",
    "    emb = C[X]\n",
    "    x = emb.view(-1, n_embd * context_len)\n",
    "    for layer in layers:\n",
    "        x = layer(x)\n",
    "    loss = F.cross_entropy(x, Y) # more efficient, prevents inf and nan for big positive logits\n",
    "    print(split, loss.item())"
   ]
  },
  {
   "cell_type": "code",
   "execution_count": 38,
   "id": "028b1e93-eaff-4d61-a0bf-a2be1b429f81",
   "metadata": {},
   "outputs": [
    {
     "name": "stdout",
     "output_type": "stream",
     "text": [
      "train 1.772779107093811\n",
      "dev 2.079167366027832\n"
     ]
    }
   ],
   "source": [
    "# find out the loss for a whole (TR!) data set, not just a minibatch\n",
    "split_loss(\"train\")\n",
    "\n",
    "# tr loss ~= dev loss -> not overfitting (actually maybe underfitting!)\n",
    "# <=> nn not able to memorize the values\n",
    "# might mean that the network is too small (not enough parameters)\n",
    "\n",
    "# find out the loss for a whole (DEV!) data set\n",
    "split_loss(\"dev\")"
   ]
  },
  {
   "cell_type": "code",
   "execution_count": 42,
   "id": "f57b28c2-9ae5-4d11-aecb-a410687e0c86",
   "metadata": {},
   "outputs": [
    {
     "name": "stdout",
     "output_type": "stream",
     "text": [
      "junide.\n",
      "jakayah.\n",
      "pressy.\n",
      "adria.\n",
      "jirritt.\n",
      "sabrielle.\n",
      "sameia.\n",
      "yani.\n",
      "evers.\n",
      "deya.\n",
      "newi.\n",
      "taysean.\n",
      "evy.\n",
      "artez.\n",
      "noudarsyn.\n",
      "demmi.\n",
      "poytsan.\n",
      "houz.\n",
      "jacoriana.\n",
      "jocelynn.\n"
     ]
    }
   ],
   "source": [
    "# SAMPLING\n",
    "gen = torch.Generator().manual_seed(2147483647)\n",
    "\n",
    "for _ in range(20):\n",
    "    name = []\n",
    "    context = [0] * context_len # initialize with all ...\n",
    "    while True: # create one name\n",
    "        emb = C[torch.tensor([context])] # like C[X] but this time only 1 context\n",
    "        # block_size x emb_dim\n",
    "        x = emb.view(emb.shape[0], -1)\n",
    "        for layer in layers:\n",
    "            x = layer(x)\n",
    "        probs = F.softmax(x, dim=1)\n",
    "        idx = torch.multinomial(probs, num_samples=1, generator=gen).item()\n",
    "        context = context[1:] + [idx]\n",
    "        name.append(idx)\n",
    "        if idx == 0:\n",
    "            break\n",
    "    print(\"\".join(itoc[i] for i in name))"
   ]
  }
 ],
 "metadata": {
  "kernelspec": {
   "display_name": "Python 3 (ipykernel)",
   "language": "python",
   "name": "python3"
  },
  "language_info": {
   "codemirror_mode": {
    "name": "ipython",
    "version": 3
   },
   "file_extension": ".py",
   "mimetype": "text/x-python",
   "name": "python",
   "nbconvert_exporter": "python",
   "pygments_lexer": "ipython3",
   "version": "3.10.12"
  }
 },
 "nbformat": 4,
 "nbformat_minor": 5
}
