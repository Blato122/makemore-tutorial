{
 "cells": [
  {
   "cell_type": "code",
   "execution_count": 89,
   "id": "fa3b62b7-8b8a-4851-8f82-1674990065e2",
   "metadata": {},
   "outputs": [],
   "source": [
    "import random\n",
    "import torch\n",
    "import torch.nn.functional as F\n",
    "import matplotlib.pyplot as plt\n",
    "torch.manual_seed(42)\n",
    "random.seed(42)"
   ]
  },
  {
   "cell_type": "code",
   "execution_count": 90,
   "id": "cb89ba3a-bc4d-4e9c-9db4-a658aefaf2cb",
   "metadata": {},
   "outputs": [],
   "source": [
    "# load ~32000 names from a file, one in each line\n",
    "with open(\"names.txt\", \"r\") as infile:\n",
    "    words = infile.read().splitlines() # ignores \\n\n",
    "chars = sorted(set(\"\".join(words) + \".\"))\n",
    "vocab_size = len(chars)\n",
    "ctoi = {c: i for i, c in enumerate(chars)}\n",
    "itoc = {i: c for c, i in ctoi.items()}"
   ]
  },
  {
   "cell_type": "code",
   "execution_count": 91,
   "id": "04cf146e-33ad-4115-8d15-c73aa8ea202e",
   "metadata": {},
   "outputs": [
    {
     "name": "stdout",
     "output_type": "stream",
     "text": [
      "torch.Size([182625, 8]) torch.Size([182625])\n",
      "torch.Size([22655, 8]) torch.Size([22655])\n",
      "torch.Size([22866, 8]) torch.Size([22866])\n"
     ]
    }
   ],
   "source": [
    "# building the dataset (with contexts)\n",
    "\n",
    "# training split -> ~80% -> optimize parameters of the model using gradient descent\n",
    "# dev/validation split -> ~10% -> hyperparameter tuning\n",
    "# test split -> ~10% -> evaluate model's final performance\n",
    "\n",
    "# updated so that we can also create dev/test splits\n",
    "\n",
    "context_len = 8 # context length - how many chars to take into account to predict the next one?\n",
    "\n",
    "def build_dataset(words):\n",
    "    X, Y = [], [] # X - input to the neural net, Y - expected labels for each example inside X\n",
    "    \n",
    "    for w in words:\n",
    "        # print(w)\n",
    "        context = [0] * context_len # ...\n",
    "        for c in w + \".\":\n",
    "            idx = ctoi[c]\n",
    "            X.append(context)\n",
    "            Y.append(idx)\n",
    "            # print(\"\".join(itoc[i] for i in context), \"--->\", itoc[idx])\n",
    "            context = context[1:] + [idx]\n",
    "    \n",
    "    X = torch.tensor(X)\n",
    "    Y = torch.tensor(Y)\n",
    "    print(X.shape, Y.shape)\n",
    "    return X, Y\n",
    "\n",
    "random.shuffle(words)\n",
    "n1 = int(0.8 * len(words))\n",
    "n2 = int(0.9 * len(words))\n",
    "\n",
    "Xtr, Ytr = build_dataset(words[:n1])\n",
    "Xdev, Ydev = build_dataset(words[n1:n2])\n",
    "Xtest, Ytest = build_dataset(words[n2:])"
   ]
  },
  {
   "cell_type": "code",
   "execution_count": 92,
   "id": "8030b5e3-361d-4390-9a50-493fd56cc4f7",
   "metadata": {},
   "outputs": [
    {
     "data": {
      "text/plain": [
       "tensor([[ 0,  4,  9, 15, 14,  4, 18,  5],\n",
       "        [ 0,  0,  0,  0,  0,  0,  0,  0],\n",
       "        [ 0,  0,  0,  0,  0,  0,  0, 24]])"
      ]
     },
     "execution_count": 92,
     "metadata": {},
     "output_type": "execute_result"
    }
   ],
   "source": [
    "Xtr[[14, 15, 16]]"
   ]
  },
  {
   "cell_type": "code",
   "execution_count": 105,
   "id": "4c1a9bae-2613-4c1e-a807-fd16491e68c9",
   "metadata": {},
   "outputs": [],
   "source": [
    "class Linear:\n",
    "    def __init__(self, fan_in, fan_out, bias=True):\n",
    "        self.weight = torch.randn((fan_in, fan_out)) / fan_in**0.5\n",
    "        self.bias = torch.zeros(fan_out) if bias else None # 1 dim but works because of broadcasting, zeros!\n",
    "\n",
    "    def __call__(self, x): # x are the incoming activations\n",
    "        self.out = x @ self.weight\n",
    "        if self.bias is not None:\n",
    "            self.out += self.bias\n",
    "        return self.out\n",
    "\n",
    "    def parameters(self):\n",
    "        return [self.weight] + ([] if self.bias is None else [self.bias])\n",
    "\n",
    "# -------------------------------------------------------------------------------------------------------------\n",
    "\n",
    "class BatchNorm1d: # after adding dim, it now differs a bit from the PyTorch version (NLC vs NCL)\n",
    "    def __init__(self, dim, eps=1e-5, momentum=0.1): # dim -> number of hidden neurons\n",
    "        self.eps = eps\n",
    "        self.momentum = momentum\n",
    "        self.training = True\n",
    "        # parameters (trained with backprop)\n",
    "        self.gamma = torch.ones(dim) # bngain\n",
    "        self.beta = torch.zeros(dim) # bnbias\n",
    "        # buffers (trained with a running \"momentum\" update)\n",
    "        self.running_mean = torch.zeros(dim)\n",
    "        self.running_var = torch.ones(dim)\n",
    "\n",
    "    def __call__(self, x):\n",
    "        if self.training:\n",
    "            if x.ndim == 2:\n",
    "                dim = 0\n",
    "            elif x.ndim == 3:\n",
    "                dim = (0, 1)\n",
    "            xmean = x.mean(dim, keepdim=True) # batch mean\n",
    "            xvar = x.var(dim, keepdim=True, unbiased=True)\n",
    "        else:\n",
    "            xmean = self.running_mean\n",
    "            xvar = self.running_var\n",
    "        xhat = (x - xmean) / torch.sqrt(xvar + self.eps)\n",
    "        self.out = self.gamma * xhat + self.beta\n",
    "        if self.training:\n",
    "            with torch.no_grad():\n",
    "                self.running_mean = (1 - self.momentum) * self.running_mean + self.momentum * xmean\n",
    "                self.running_var = (1 - self.momentum) * self.running_var + self.momentum * xvar\n",
    "        return self.out\n",
    "\n",
    "    def parameters(self):\n",
    "        return [self.gamma, self.beta]\n",
    "        \n",
    "# -------------------------------------------------------------------------------------------------------------\n",
    "\n",
    "class Tanh:\n",
    "    def __call__(self, x):\n",
    "        self.out = torch.tanh(x)\n",
    "        return self.out\n",
    "\n",
    "    def parameters(self):\n",
    "        return []\n",
    "\n",
    "# -------------------------------------------------------------------------------------------------------------\n",
    "\n",
    "class Embedding:\n",
    "    def __init__(self, num_embeddings, embedding_dim): # size of the dictionary of embeddings, size of each embedding vector\n",
    "        self.weight = torch.randn((num_embeddings, embedding_dim))\n",
    "\n",
    "    def __call__(self, X): # X is a tensor of character embeddings\n",
    "        self.out = self.weight[X]\n",
    "        return self.out\n",
    "    \n",
    "    def parameters(self):\n",
    "        return [self.weight]\n",
    "\n",
    "# -------------------------------------------------------------------------------------------------------------\n",
    "\n",
    "class Flatten: # it's like a Tanh layer, just processes the information and doesn't store anything, no parameters and no __init__\n",
    "    def __call__(self, X):\n",
    "        self.out = X.view(X.shape[0], -1)\n",
    "        return self.out\n",
    "\n",
    "    def parameters(self):\n",
    "        return []\n",
    "\n",
    "# -------------------------------------------------------------------------------------------------------------\n",
    "\n",
    "class FlattenConsecutive: # it's like a Tanh layer, just processes the information and doesn't store anything, no parameters and no __init__\n",
    "    def __init__(self, n):\n",
    "        self.n = n\n",
    "    \n",
    "    def __call__(self, X):\n",
    "        B, C, E = X.shape\n",
    "        X = X.view(B, C // self.n, E * self.n)\n",
    "        if X.shape[1] == 1:\n",
    "            X = X.squeeze(1)\n",
    "        self.out = X\n",
    "        return self.out\n",
    "\n",
    "    def parameters(self):\n",
    "        return []\n",
    "\n",
    "# -------------------------------------------------------------------------------------------------------------\n",
    "\n",
    "class Sequential: # container so that we don't have to do a for loop over layers explicitly\n",
    "    def __init__(self, layers):\n",
    "        self.layers = layers\n",
    "\n",
    "    def __call__(self, X): # X is the initial input, Xb in our case\n",
    "        for layer in self.layers:\n",
    "            X = layer(X)\n",
    "        self.out = X\n",
    "        return self.out\n",
    "\n",
    "    def parameters(self):\n",
    "        return [p for layer in self.layers for p in layer.parameters()]"
   ]
  },
  {
   "cell_type": "code",
   "execution_count": 127,
   "id": "d896ecdc-19a8-4199-aa9a-d4931a5782da",
   "metadata": {},
   "outputs": [
    {
     "name": "stdout",
     "output_type": "stream",
     "text": [
      "75447\n"
     ]
    }
   ],
   "source": [
    "n_embd = 20 # character embedding vector dimension\n",
    "n_hidden = 128 # number of neurons in a hidden layer\n",
    "\n",
    "# original\n",
    "# model = Sequential([\n",
    "#     Embedding(vocab_size, n_embd), # eq.to C = torch.randn((vocab_size, n_embd)) -> just sets that up, then gets called in main loop\n",
    "#     Flatten(), # does nothing now, no _init__, just so out model knows that Flatten() should be called later\n",
    "#     Linear(n_embd * context_len, n_hidden, bias=False), BatchNorm1d(n_hidden), Tanh(),\n",
    "#     Linear(n_hidden, vocab_size)\n",
    "# ])\n",
    "\n",
    "# conv\n",
    "model = Sequential([\n",
    "    Embedding(vocab_size, n_embd), # eq.to C = torch.randn((vocab_size, n_embd)) -> just sets that up, then gets called in main loop\n",
    "    FlattenConsecutive(2), Linear(n_embd * 2, n_hidden, bias=False), BatchNorm1d(n_hidden), Tanh(),\n",
    "    FlattenConsecutive(2), Linear(n_hidden*2, n_hidden, bias=False), BatchNorm1d(n_hidden), Tanh(),\n",
    "    FlattenConsecutive(2), Linear(n_hidden*2, n_hidden, bias=False), BatchNorm1d(n_hidden), Tanh(),\n",
    "    Linear(n_hidden, vocab_size)\n",
    "])\n",
    "\n",
    "with torch.no_grad():\n",
    "    model.layers[-1].weight *= 0.1 # to lower the initial loss (?)\n",
    "    # apply gain\n",
    "    for layer in model.layers[:-1]: # why doesn't he use that anymore?? - CHECK!!!\n",
    "        if isinstance(layer, Linear):\n",
    "            layer.weight *= (5/3)\n",
    "\n",
    "parameters = model.parameters()\n",
    "print(sum(p.numel() for p in parameters))\n",
    "for p in parameters:\n",
    "    p.requires_grad = True"
   ]
  },
  {
   "cell_type": "code",
   "execution_count": 128,
   "id": "fd2e2ca6-a34f-4c34-b7fc-cb7d0c1afe70",
   "metadata": {},
   "outputs": [
    {
     "name": "stdout",
     "output_type": "stream",
     "text": [
      "0/200000: 3.2996\n",
      "10000/200000: 2.3936\n",
      "20000/200000: 2.0958\n",
      "30000/200000: 1.7241\n",
      "40000/200000: 1.7984\n",
      "50000/200000: 1.7757\n",
      "60000/200000: 1.9949\n",
      "70000/200000: 1.6387\n",
      "80000/200000: 1.8328\n",
      "90000/200000: 1.6618\n",
      "100000/200000: 1.7712\n",
      "110000/200000: 1.8470\n",
      "120000/200000: 1.6496\n",
      "130000/200000: 1.6191\n",
      "140000/200000: 1.7774\n",
      "150000/200000: 1.6781\n",
      "160000/200000: 1.9735\n",
      "170000/200000: 1.8830\n",
      "180000/200000: 1.7180\n",
      "190000/200000: 1.9283\n"
     ]
    }
   ],
   "source": [
    "epochs = 200_000\n",
    "minibatch_size = 64\n",
    "loss_i = []\n",
    "\n",
    "for i in range(epochs):\n",
    "    # create a minibatch\n",
    "    idx = torch.randint(0, Xtr.shape[0], (minibatch_size,))\n",
    "    Xb, Yb = Xtr[idx], Ytr[idx]\n",
    "\n",
    "    # forward pass\n",
    "    logits = model(Xb)\n",
    "    loss = F.cross_entropy(logits, Yb)\n",
    "\n",
    "    # backward pass\n",
    "    # for layer in layers: WHY NO MORE OF THAT???\n",
    "    #     layer.out.retain_grad()\n",
    "    for p in parameters:\n",
    "        p.grad = None\n",
    "    loss.backward()\n",
    "\n",
    "    #update\n",
    "    lr = 0.1 if i < epochs / 2 else 0.01\n",
    "    for p in parameters:\n",
    "        p.data += -lr * p.grad\n",
    "    \n",
    "    # track stats\n",
    "    if i % 10000 == 0:\n",
    "        print(f\"{i}/{epochs}: {loss.item():.4f}\")\n",
    "    loss_i.append(loss.log10().item())"
   ]
  },
  {
   "cell_type": "code",
   "execution_count": 129,
   "id": "991bccfe-d0cb-4961-9564-99a102d993ed",
   "metadata": {},
   "outputs": [
    {
     "name": "stdout",
     "output_type": "stream",
     "text": [
      "Embedding : (64, 8, 20)\n",
      "FlattenConsecutive : (64, 4, 40)\n",
      "Linear : (64, 4, 128)\n",
      "BatchNorm1d : (64, 4, 128)\n",
      "Tanh : (64, 4, 128)\n",
      "FlattenConsecutive : (64, 2, 256)\n",
      "Linear : (64, 2, 128)\n",
      "BatchNorm1d : (64, 2, 128)\n",
      "Tanh : (64, 2, 128)\n",
      "FlattenConsecutive : (64, 256)\n",
      "Linear : (64, 128)\n",
      "BatchNorm1d : (64, 128)\n",
      "Tanh : (64, 128)\n",
      "Linear : (64, 27)\n"
     ]
    }
   ],
   "source": [
    "for layer in model.layers:\n",
    "    print(layer.__class__.__name__ , \":\", tuple(layer.out.shape)) "
   ]
  },
  {
   "cell_type": "code",
   "execution_count": 130,
   "id": "d9a806cd-3e0a-4e92-8987-e40a013ea3a4",
   "metadata": {},
   "outputs": [
    {
     "data": {
      "text/plain": [
       "[<matplotlib.lines.Line2D at 0x7f85a5db0190>]"
      ]
     },
     "execution_count": 130,
     "metadata": {},
     "output_type": "execute_result"
    },
    {
     "data": {
      "image/png": "[encoded data removed]",
      "text/plain": [
       "<Figure size 640x480 with 1 Axes>"
      ]
     },
     "metadata": {},
     "output_type": "display_data"
    }
   ],
   "source": [
    "plt.plot(torch.tensor(loss_i).view(-1, 1000).mean(1))"
   ]
  },
  {
   "cell_type": "code",
   "execution_count": 131,
   "id": "1b1c6b51-af06-46af-8c83-e21ff8cb6715",
   "metadata": {},
   "outputs": [],
   "source": [
    "for layer in model.layers:\n",
    "    layer.training = False"
   ]
  },
  {
   "cell_type": "code",
   "execution_count": 132,
   "id": "f94fcece-5280-431b-9a0b-add4ebd4bed1",
   "metadata": {},
   "outputs": [],
   "source": [
    "@torch.no_grad()\n",
    "def split_loss(split):\n",
    "    X, Y = {\"train\": (Xtr, Ytr), \"dev\": (Xdev, Ydev), \"test\": (Xtest, Ytest)}[split] #!!!\n",
    "    logits = model(X)\n",
    "    loss = F.cross_entropy(logits, Y) # more efficient, prevents inf and nan for big positive logits\n",
    "    print(split, loss.item())"
   ]
  },
  {
   "cell_type": "code",
   "execution_count": 133,
   "id": "028b1e93-eaff-4d61-a0bf-a2be1b429f81",
   "metadata": {},
   "outputs": [
    {
     "name": "stdout",
     "output_type": "stream",
     "text": [
      "train 1.7075684070587158\n",
      "dev 2.035825252532959\n"
     ]
    }
   ],
   "source": [
    "# find out the loss for a whole (TR!) data set, not just a minibatch\n",
    "split_loss(\"train\")\n",
    "\n",
    "# tr loss ~= dev loss -> not overfitting (actually maybe underfitting!)\n",
    "# <=> nn not able to memorize the values\n",
    "# might mean that the network is too small (not enough parameters)\n",
    "\n",
    "# find out the loss for a whole (DEV!) data set\n",
    "split_loss(\"dev\")"
   ]
  },
  {
   "cell_type": "code",
   "execution_count": 137,
   "id": "b4aab8e8-4456-4e87-ad62-a19a005ba83d",
   "metadata": {},
   "outputs": [],
   "source": [
    "# batch-32, context-8, emb-24, hidden-128 (no conv, 28963 params):\n",
    "# train 1.90327787399292\n",
    "# dev 2.0320699214935303\n",
    "# train 1.8411145210266113\n",
    "# dev 2.0521371364593506\n",
    "\n",
    "# same but with conv (76579 params):\n",
    "# train 1.7897275686264038\n",
    "# dev 1.9917486906051636\n",
    "# train 1.7924081087112427\n",
    "# dev 1.9847874641418457\n",
    "\n",
    "# conv batch-64, context-8, emb-20, hidden-128 (75447 params):\n",
    "# train 1.7075684070587158\n",
    "# dev 2.035825252532959\n",
    "# LOL SO BAD"
   ]
  },
  {
   "cell_type": "code",
   "execution_count": 136,
   "id": "f57b28c2-9ae5-4d11-aecb-a410687e0c86",
   "metadata": {},
   "outputs": [
    {
     "name": "stdout",
     "output_type": "stream",
     "text": [
      "ailiyah.\n",
      "shere.\n",
      "amyri.\n",
      "danylah.\n",
      "daysie.\n",
      "sanaiya.\n",
      "sharaiah.\n",
      "emrin.\n",
      "adalla.\n",
      "samar.\n",
      "kizire.\n",
      "khlieann.\n",
      "lacery.\n",
      "tryson.\n",
      "arohi.\n",
      "kamaria.\n",
      "delmon.\n",
      "yousef.\n",
      "arielys.\n",
      "zency.\n"
     ]
    }
   ],
   "source": [
    "# SAMPLING\n",
    "for _ in range(20):\n",
    "    name = []\n",
    "    context = [0] * context_len # initialize with all ...\n",
    "    while True: # create one name\n",
    "        logits = model(torch.tensor([context])) # like C[X] but this time only 1 context, [context] bcos it creates an additional batch dim (just 1, so 1x...)\n",
    "        probs = F.softmax(logits, dim=1)\n",
    "        idx = torch.multinomial(probs, num_samples=1).item()\n",
    "        context = context[1:] + [idx]\n",
    "        name.append(idx)\n",
    "        if idx == 0:\n",
    "            break\n",
    "    print(\"\".join(itoc[i] for i in name))"
   ]
  },
  {
   "cell_type": "code",
   "execution_count": null,
   "id": "eefd0036-b35f-470e-9382-e039dfcab440",
   "metadata": {},
   "outputs": [],
   "source": []
  }
 ],
 "metadata": {
  "kernelspec": {
   "display_name": "Python 3 (ipykernel)",
   "language": "python",
   "name": "python3"
  },
  "language_info": {
   "codemirror_mode": {
    "name": "ipython",
    "version": 3
   },
   "file_extension": ".py",
   "mimetype": "text/x-python",
   "name": "python",
   "nbconvert_exporter": "python",
   "pygments_lexer": "ipython3",
   "version": "3.10.12"
  }
 },
 "nbformat": 4,
 "nbformat_minor": 5
}
